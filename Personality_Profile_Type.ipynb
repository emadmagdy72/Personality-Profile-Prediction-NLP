{
  "cells": [
    {
      "cell_type": "markdown",
      "metadata": {
        "id": "KMuEZFRHgEO8"
      },
      "source": [
        "**Dataset:**\n",
        "personality type data (Lab 2 - Personality Profile Type.csv)\n",
        "\n",
        "**Objective:**\n",
        "classify Personality type as one of the following **using RNNs**. <br>\n",
        "['INFJ', 'ENTP', 'INTP', 'INTJ', 'ENTJ', 'ENFJ', 'INFP', 'ENFP',\n",
        "       'ISFP', 'ISTP', 'ISFJ', 'ISTJ', 'ESTP', 'ESFP', 'ESTJ', 'ESFJ']\n",
        "\n",
        "**Evaluation metric:**\n",
        "Precision"
      ]
    },
    {
      "cell_type": "markdown",
      "metadata": {
        "id": "v-6lrKz6orxT"
      },
      "source": [
        "### Import used libraries"
      ]
    },
    {
      "cell_type": "code",
      "source": [
        "!pip install contractions"
      ],
      "metadata": {
        "colab": {
          "base_uri": "https://localhost:8080/"
        },
        "id": "xEG29KXWu6k3",
        "outputId": "2cbe739b-5e5d-4a8a-e414-5f52d047de1e"
      },
      "execution_count": null,
      "outputs": [
        {
          "output_type": "stream",
          "name": "stdout",
          "text": [
            "Collecting contractions\n",
            "  Downloading contractions-0.1.73-py2.py3-none-any.whl (8.7 kB)\n",
            "Collecting textsearch>=0.0.21 (from contractions)\n",
            "  Downloading textsearch-0.0.24-py2.py3-none-any.whl (7.6 kB)\n",
            "Collecting anyascii (from textsearch>=0.0.21->contractions)\n",
            "  Downloading anyascii-0.3.2-py3-none-any.whl (289 kB)\n",
            "\u001b[2K     \u001b[90m━━━━━━━━━━━━━━━━━━━━━━━━━━━━━━━━━━━━━━━━\u001b[0m \u001b[32m289.9/289.9 kB\u001b[0m \u001b[31m9.5 MB/s\u001b[0m eta \u001b[36m0:00:00\u001b[0m\n",
            "\u001b[?25hCollecting pyahocorasick (from textsearch>=0.0.21->contractions)\n",
            "  Downloading pyahocorasick-2.1.0-cp310-cp310-manylinux_2_5_x86_64.manylinux1_x86_64.manylinux_2_12_x86_64.manylinux2010_x86_64.whl (110 kB)\n",
            "\u001b[2K     \u001b[90m━━━━━━━━━━━━━━━━━━━━━━━━━━━━━━━━━━━━━━━━\u001b[0m \u001b[32m110.7/110.7 kB\u001b[0m \u001b[31m14.6 MB/s\u001b[0m eta \u001b[36m0:00:00\u001b[0m\n",
            "\u001b[?25hInstalling collected packages: pyahocorasick, anyascii, textsearch, contractions\n",
            "Successfully installed anyascii-0.3.2 contractions-0.1.73 pyahocorasick-2.1.0 textsearch-0.0.24\n"
          ]
        }
      ]
    },
    {
      "cell_type": "code",
      "execution_count": null,
      "metadata": {
        "id": "eXUPo3g4orxV"
      },
      "outputs": [],
      "source": [
        "import pandas as pd\n",
        "import numpy as np\n",
        "import string\n",
        "import re\n",
        "\n",
        "from sklearn.pipeline import Pipeline, make_pipeline\n",
        "from sklearn.feature_extraction.text import TfidfVectorizer, CountVectorizer\n",
        "from sklearn.model_selection import train_test_split\n",
        "from sklearn.metrics import f1_score, classification_report\n",
        "\n",
        "import contractions\n",
        "from sklearn.feature_extraction.text import CountVectorizer\n",
        "from keras.preprocessing.sequence import pad_sequences\n",
        "\n",
        "import tensorflow as tf\n",
        "import spacy\n",
        "\n",
        "pd.set_option('display.max_rows', 500)\n",
        "pd.set_option('display.max_colwidth', 500)"
      ]
    },
    {
      "cell_type": "markdown",
      "metadata": {
        "id": "fG8MkuvjorxX"
      },
      "source": [
        "### Load Dataset"
      ]
    },
    {
      "cell_type": "code",
      "execution_count": null,
      "metadata": {
        "id": "BYeqhp66orxY",
        "colab": {
          "base_uri": "https://localhost:8080/",
          "height": 918
        },
        "outputId": "93e99922-c444-44c6-a5e9-0ff06af05783"
      },
      "outputs": [
        {
          "output_type": "execute_result",
          "data": {
            "text/plain": [
              "   type  \\\n",
              "0  INFJ   \n",
              "1  ENTP   \n",
              "2  INTP   \n",
              "3  INTJ   \n",
              "4  ENTJ   \n",
              "5  INTJ   \n",
              "6  INFJ   \n",
              "7  INTJ   \n",
              "8  INFJ   \n",
              "9  INTP   \n",
              "\n",
              "                                                                                                                                                                                                                                                                                                                                                                                                                                                                                                                 posts  \n",
              "0  'http://www.youtube.com/watch?v=qsXHcwe3krw|||http://41.media.tumblr.com/tumblr_lfouy03PMA1qa1rooo1_500.jpg|||enfp and intj moments  https://www.youtube.com/watch?v=iz7lE1g4XM4  sportscenter not top ten plays  https://www.youtube.com/watch?v=uCdfze1etec  pranks|||What has been the most life-changing experience in your life?|||http://www.youtube.com/watch?v=vXZeYwwRDw8   http://www.youtube.com/watch?v=u8ejam5DP3E  On repeat for most of today.|||May the PerC Experience immerse you.|||The last ...  \n",
              "1  'I'm finding the lack of me in these posts very alarming.|||Sex can be boring if it's in the same position often. For example me and my girlfriend are currently in an environment where we have to creatively use cowgirl and missionary. There isn't enough...|||Giving new meaning to 'Game' theory.|||Hello *ENTP Grin*  That's all it takes. Than we converse and they do most of the flirting while I acknowledge their presence and return their words with smooth wordplay and more cheeky grins.|||This...  \n",
              "2  'Good one  _____   https://www.youtube.com/watch?v=fHiGbolFFGw|||Of course, to which I say I know; that's my blessing and my curse.|||Does being absolutely positive that you and your best friend could be an amazing couple count? If so, than yes.   Or it's more I could be madly in love in case I reconciled my feelings (which at...|||No, I didn't; thank you for a link!|||So-called Ti-Si loop (and it can stem from any current topic/obsession) can be deadly. It's like when you're stuck in your o...  \n",
              "3  'Dear INTP,   I enjoyed our conversation the other day.  Esoteric gabbing about the nature of the universe and the idea that every rule and social code being arbitrary constructs created...|||Dear ENTJ sub,   Long time no see.  Sincerely, Alpha|||None of them. All other types hurt in deep existential ways that I want no part of.|||Probably a sliding scale that depends on individual preferences, like everything in humanity.|||Draco Malfoy also. I'd say he's either 358 or 368.|||I'm either 358...  \n",
              "4  'You're fired.|||That's another silly misconception. That approaching is logically is going to be the key to unlocking whatever it is you think you are entitled to.   Nobody wants to be approached with BS...|||But guys... he REALLY wants to go on a super-duper-long-ass vacation. C'mon guys. His boss just doesn't listen or get it. He even approached him logically and everything.|||Never mind. Just go on permanent vacation.|||Two months? I wouldn't be crazy about the idea. If you are really hi...  \n",
              "5  '18/37 @.@|||Science  is not perfect. No scientist claims that it is, or that scientific  information will not be revised as we discover new things.  Rational  thinking has been very useful to our society....|||INFP- Edgar Allen Poe was an INFP and he's in your siggy.|||People see the obvious Fi and are quick to put her as INFP. I agree that she has no Ne. I see her as an ISFP. Compare her to Haku (definite INFP). She is flat through most of Naruto.. but I don't...|||Lets get this party star...  \n",
              "6  'No, I can't draw on my own nails (haha). Those were done by professionals on my nails. And yes, those are all gel.  You mean those you posted were done by yourself on your own nails? Awesome!|||Probably the Electronic Screen Syndrome. With the advent of technology and social media, we all suffer from overstimulation on a daily basis. I'm guilty as well. In the past, I can be happy just...|||I love nail arts too! These are some of mine:  718282 718290 718298 718306 718314|||This is the first...  \n",
              "7  'I tend to build up a collection of things on my desktop that i use frequently and then move them into a folder called  'Everything' from there it get sorted into type and sub type|||i ike to collect odd objects, even at work...a lot of people would call it junk but i like to collect it.  Old unused software? ill take that off your hands :) i have a bunch of old adobe...|||i think its quite normal, i tend to only see my friends in real life every couple of months, as said earlier some people...  \n",
              "8  I'm not sure, that's a good question. The distinction between the two is so dependant on perception. To quote Robb Flynn, ''The hate you feel is nothing more, than love you feel to win this war.''|||Good question! It's tough to say for sure but I loved Winona Ryder as Lydia in Beetlejuice...  http://i63.photobucket.com/albums/h158/trinsghost/Misc-Images/2921aa070866f20450f8e1160b1e5d41.jpg|||https://www.youtube.com/watch?v=r5If816MhoU|||https://www.youtube.com/watch?v=Q-sQklvpDhA|||I've been...  \n",
              "9  'https://www.youtube.com/watch?v=w8-egj0y8Qs|||I'm in this position where I have to actually let go of the person, due to a various reasons. Unfortunately I'm having trouble mustering enough strength to actually pull through it. Sometimes,...|||WHAT A YEAR, MAN. WHAT A YEAR.   I am just utterly bewildered with my 20s at this point.|||my laundry. as long as i've got clothes left to wear i'm fine.  and then the time comes that i DO run out, and i'm left to contend with The Mountain that is my ...  "
            ],
            "text/html": [
              "\n",
              "  <div id=\"df-045e64f2-ede1-4104-83cc-f0eb02c4d826\" class=\"colab-df-container\">\n",
              "    <div>\n",
              "<style scoped>\n",
              "    .dataframe tbody tr th:only-of-type {\n",
              "        vertical-align: middle;\n",
              "    }\n",
              "\n",
              "    .dataframe tbody tr th {\n",
              "        vertical-align: top;\n",
              "    }\n",
              "\n",
              "    .dataframe thead th {\n",
              "        text-align: right;\n",
              "    }\n",
              "</style>\n",
              "<table border=\"1\" class=\"dataframe\">\n",
              "  <thead>\n",
              "    <tr style=\"text-align: right;\">\n",
              "      <th></th>\n",
              "      <th>type</th>\n",
              "      <th>posts</th>\n",
              "    </tr>\n",
              "  </thead>\n",
              "  <tbody>\n",
              "    <tr>\n",
              "      <th>0</th>\n",
              "      <td>INFJ</td>\n",
              "      <td>'http://www.youtube.com/watch?v=qsXHcwe3krw|||http://41.media.tumblr.com/tumblr_lfouy03PMA1qa1rooo1_500.jpg|||enfp and intj moments  https://www.youtube.com/watch?v=iz7lE1g4XM4  sportscenter not top ten plays  https://www.youtube.com/watch?v=uCdfze1etec  pranks|||What has been the most life-changing experience in your life?|||http://www.youtube.com/watch?v=vXZeYwwRDw8   http://www.youtube.com/watch?v=u8ejam5DP3E  On repeat for most of today.|||May the PerC Experience immerse you.|||The last ...</td>\n",
              "    </tr>\n",
              "    <tr>\n",
              "      <th>1</th>\n",
              "      <td>ENTP</td>\n",
              "      <td>'I'm finding the lack of me in these posts very alarming.|||Sex can be boring if it's in the same position often. For example me and my girlfriend are currently in an environment where we have to creatively use cowgirl and missionary. There isn't enough...|||Giving new meaning to 'Game' theory.|||Hello *ENTP Grin*  That's all it takes. Than we converse and they do most of the flirting while I acknowledge their presence and return their words with smooth wordplay and more cheeky grins.|||This...</td>\n",
              "    </tr>\n",
              "    <tr>\n",
              "      <th>2</th>\n",
              "      <td>INTP</td>\n",
              "      <td>'Good one  _____   https://www.youtube.com/watch?v=fHiGbolFFGw|||Of course, to which I say I know; that's my blessing and my curse.|||Does being absolutely positive that you and your best friend could be an amazing couple count? If so, than yes.   Or it's more I could be madly in love in case I reconciled my feelings (which at...|||No, I didn't; thank you for a link!|||So-called Ti-Si loop (and it can stem from any current topic/obsession) can be deadly. It's like when you're stuck in your o...</td>\n",
              "    </tr>\n",
              "    <tr>\n",
              "      <th>3</th>\n",
              "      <td>INTJ</td>\n",
              "      <td>'Dear INTP,   I enjoyed our conversation the other day.  Esoteric gabbing about the nature of the universe and the idea that every rule and social code being arbitrary constructs created...|||Dear ENTJ sub,   Long time no see.  Sincerely, Alpha|||None of them. All other types hurt in deep existential ways that I want no part of.|||Probably a sliding scale that depends on individual preferences, like everything in humanity.|||Draco Malfoy also. I'd say he's either 358 or 368.|||I'm either 358...</td>\n",
              "    </tr>\n",
              "    <tr>\n",
              "      <th>4</th>\n",
              "      <td>ENTJ</td>\n",
              "      <td>'You're fired.|||That's another silly misconception. That approaching is logically is going to be the key to unlocking whatever it is you think you are entitled to.   Nobody wants to be approached with BS...|||But guys... he REALLY wants to go on a super-duper-long-ass vacation. C'mon guys. His boss just doesn't listen or get it. He even approached him logically and everything.|||Never mind. Just go on permanent vacation.|||Two months? I wouldn't be crazy about the idea. If you are really hi...</td>\n",
              "    </tr>\n",
              "    <tr>\n",
              "      <th>5</th>\n",
              "      <td>INTJ</td>\n",
              "      <td>'18/37 @.@|||Science  is not perfect. No scientist claims that it is, or that scientific  information will not be revised as we discover new things.  Rational  thinking has been very useful to our society....|||INFP- Edgar Allen Poe was an INFP and he's in your siggy.|||People see the obvious Fi and are quick to put her as INFP. I agree that she has no Ne. I see her as an ISFP. Compare her to Haku (definite INFP). She is flat through most of Naruto.. but I don't...|||Lets get this party star...</td>\n",
              "    </tr>\n",
              "    <tr>\n",
              "      <th>6</th>\n",
              "      <td>INFJ</td>\n",
              "      <td>'No, I can't draw on my own nails (haha). Those were done by professionals on my nails. And yes, those are all gel.  You mean those you posted were done by yourself on your own nails? Awesome!|||Probably the Electronic Screen Syndrome. With the advent of technology and social media, we all suffer from overstimulation on a daily basis. I'm guilty as well. In the past, I can be happy just...|||I love nail arts too! These are some of mine:  718282 718290 718298 718306 718314|||This is the first...</td>\n",
              "    </tr>\n",
              "    <tr>\n",
              "      <th>7</th>\n",
              "      <td>INTJ</td>\n",
              "      <td>'I tend to build up a collection of things on my desktop that i use frequently and then move them into a folder called  'Everything' from there it get sorted into type and sub type|||i ike to collect odd objects, even at work...a lot of people would call it junk but i like to collect it.  Old unused software? ill take that off your hands :) i have a bunch of old adobe...|||i think its quite normal, i tend to only see my friends in real life every couple of months, as said earlier some people...</td>\n",
              "    </tr>\n",
              "    <tr>\n",
              "      <th>8</th>\n",
              "      <td>INFJ</td>\n",
              "      <td>I'm not sure, that's a good question. The distinction between the two is so dependant on perception. To quote Robb Flynn, ''The hate you feel is nothing more, than love you feel to win this war.''|||Good question! It's tough to say for sure but I loved Winona Ryder as Lydia in Beetlejuice...  http://i63.photobucket.com/albums/h158/trinsghost/Misc-Images/2921aa070866f20450f8e1160b1e5d41.jpg|||https://www.youtube.com/watch?v=r5If816MhoU|||https://www.youtube.com/watch?v=Q-sQklvpDhA|||I've been...</td>\n",
              "    </tr>\n",
              "    <tr>\n",
              "      <th>9</th>\n",
              "      <td>INTP</td>\n",
              "      <td>'https://www.youtube.com/watch?v=w8-egj0y8Qs|||I'm in this position where I have to actually let go of the person, due to a various reasons. Unfortunately I'm having trouble mustering enough strength to actually pull through it. Sometimes,...|||WHAT A YEAR, MAN. WHAT A YEAR.   I am just utterly bewildered with my 20s at this point.|||my laundry. as long as i've got clothes left to wear i'm fine.  and then the time comes that i DO run out, and i'm left to contend with The Mountain that is my ...</td>\n",
              "    </tr>\n",
              "  </tbody>\n",
              "</table>\n",
              "</div>\n",
              "    <div class=\"colab-df-buttons\">\n",
              "\n",
              "  <div class=\"colab-df-container\">\n",
              "    <button class=\"colab-df-convert\" onclick=\"convertToInteractive('df-045e64f2-ede1-4104-83cc-f0eb02c4d826')\"\n",
              "            title=\"Convert this dataframe to an interactive table.\"\n",
              "            style=\"display:none;\">\n",
              "\n",
              "  <svg xmlns=\"http://www.w3.org/2000/svg\" height=\"24px\" viewBox=\"0 -960 960 960\">\n",
              "    <path d=\"M120-120v-720h720v720H120Zm60-500h600v-160H180v160Zm220 220h160v-160H400v160Zm0 220h160v-160H400v160ZM180-400h160v-160H180v160Zm440 0h160v-160H620v160ZM180-180h160v-160H180v160Zm440 0h160v-160H620v160Z\"/>\n",
              "  </svg>\n",
              "    </button>\n",
              "\n",
              "  <style>\n",
              "    .colab-df-container {\n",
              "      display:flex;\n",
              "      gap: 12px;\n",
              "    }\n",
              "\n",
              "    .colab-df-convert {\n",
              "      background-color: #E8F0FE;\n",
              "      border: none;\n",
              "      border-radius: 50%;\n",
              "      cursor: pointer;\n",
              "      display: none;\n",
              "      fill: #1967D2;\n",
              "      height: 32px;\n",
              "      padding: 0 0 0 0;\n",
              "      width: 32px;\n",
              "    }\n",
              "\n",
              "    .colab-df-convert:hover {\n",
              "      background-color: #E2EBFA;\n",
              "      box-shadow: 0px 1px 2px rgba(60, 64, 67, 0.3), 0px 1px 3px 1px rgba(60, 64, 67, 0.15);\n",
              "      fill: #174EA6;\n",
              "    }\n",
              "\n",
              "    .colab-df-buttons div {\n",
              "      margin-bottom: 4px;\n",
              "    }\n",
              "\n",
              "    [theme=dark] .colab-df-convert {\n",
              "      background-color: #3B4455;\n",
              "      fill: #D2E3FC;\n",
              "    }\n",
              "\n",
              "    [theme=dark] .colab-df-convert:hover {\n",
              "      background-color: #434B5C;\n",
              "      box-shadow: 0px 1px 3px 1px rgba(0, 0, 0, 0.15);\n",
              "      filter: drop-shadow(0px 1px 2px rgba(0, 0, 0, 0.3));\n",
              "      fill: #FFFFFF;\n",
              "    }\n",
              "  </style>\n",
              "\n",
              "    <script>\n",
              "      const buttonEl =\n",
              "        document.querySelector('#df-045e64f2-ede1-4104-83cc-f0eb02c4d826 button.colab-df-convert');\n",
              "      buttonEl.style.display =\n",
              "        google.colab.kernel.accessAllowed ? 'block' : 'none';\n",
              "\n",
              "      async function convertToInteractive(key) {\n",
              "        const element = document.querySelector('#df-045e64f2-ede1-4104-83cc-f0eb02c4d826');\n",
              "        const dataTable =\n",
              "          await google.colab.kernel.invokeFunction('convertToInteractive',\n",
              "                                                    [key], {});\n",
              "        if (!dataTable) return;\n",
              "\n",
              "        const docLinkHtml = 'Like what you see? Visit the ' +\n",
              "          '<a target=\"_blank\" href=https://colab.research.google.com/notebooks/data_table.ipynb>data table notebook</a>'\n",
              "          + ' to learn more about interactive tables.';\n",
              "        element.innerHTML = '';\n",
              "        dataTable['output_type'] = 'display_data';\n",
              "        await google.colab.output.renderOutput(dataTable, element);\n",
              "        const docLink = document.createElement('div');\n",
              "        docLink.innerHTML = docLinkHtml;\n",
              "        element.appendChild(docLink);\n",
              "      }\n",
              "    </script>\n",
              "  </div>\n",
              "\n",
              "\n",
              "<div id=\"df-eada48e2-59a6-4ae8-8da2-f65ddc7a3029\">\n",
              "  <button class=\"colab-df-quickchart\" onclick=\"quickchart('df-eada48e2-59a6-4ae8-8da2-f65ddc7a3029')\"\n",
              "            title=\"Suggest charts\"\n",
              "            style=\"display:none;\">\n",
              "\n",
              "<svg xmlns=\"http://www.w3.org/2000/svg\" height=\"24px\"viewBox=\"0 0 24 24\"\n",
              "     width=\"24px\">\n",
              "    <g>\n",
              "        <path d=\"M19 3H5c-1.1 0-2 .9-2 2v14c0 1.1.9 2 2 2h14c1.1 0 2-.9 2-2V5c0-1.1-.9-2-2-2zM9 17H7v-7h2v7zm4 0h-2V7h2v10zm4 0h-2v-4h2v4z\"/>\n",
              "    </g>\n",
              "</svg>\n",
              "  </button>\n",
              "\n",
              "<style>\n",
              "  .colab-df-quickchart {\n",
              "      --bg-color: #E8F0FE;\n",
              "      --fill-color: #1967D2;\n",
              "      --hover-bg-color: #E2EBFA;\n",
              "      --hover-fill-color: #174EA6;\n",
              "      --disabled-fill-color: #AAA;\n",
              "      --disabled-bg-color: #DDD;\n",
              "  }\n",
              "\n",
              "  [theme=dark] .colab-df-quickchart {\n",
              "      --bg-color: #3B4455;\n",
              "      --fill-color: #D2E3FC;\n",
              "      --hover-bg-color: #434B5C;\n",
              "      --hover-fill-color: #FFFFFF;\n",
              "      --disabled-bg-color: #3B4455;\n",
              "      --disabled-fill-color: #666;\n",
              "  }\n",
              "\n",
              "  .colab-df-quickchart {\n",
              "    background-color: var(--bg-color);\n",
              "    border: none;\n",
              "    border-radius: 50%;\n",
              "    cursor: pointer;\n",
              "    display: none;\n",
              "    fill: var(--fill-color);\n",
              "    height: 32px;\n",
              "    padding: 0;\n",
              "    width: 32px;\n",
              "  }\n",
              "\n",
              "  .colab-df-quickchart:hover {\n",
              "    background-color: var(--hover-bg-color);\n",
              "    box-shadow: 0 1px 2px rgba(60, 64, 67, 0.3), 0 1px 3px 1px rgba(60, 64, 67, 0.15);\n",
              "    fill: var(--button-hover-fill-color);\n",
              "  }\n",
              "\n",
              "  .colab-df-quickchart-complete:disabled,\n",
              "  .colab-df-quickchart-complete:disabled:hover {\n",
              "    background-color: var(--disabled-bg-color);\n",
              "    fill: var(--disabled-fill-color);\n",
              "    box-shadow: none;\n",
              "  }\n",
              "\n",
              "  .colab-df-spinner {\n",
              "    border: 2px solid var(--fill-color);\n",
              "    border-color: transparent;\n",
              "    border-bottom-color: var(--fill-color);\n",
              "    animation:\n",
              "      spin 1s steps(1) infinite;\n",
              "  }\n",
              "\n",
              "  @keyframes spin {\n",
              "    0% {\n",
              "      border-color: transparent;\n",
              "      border-bottom-color: var(--fill-color);\n",
              "      border-left-color: var(--fill-color);\n",
              "    }\n",
              "    20% {\n",
              "      border-color: transparent;\n",
              "      border-left-color: var(--fill-color);\n",
              "      border-top-color: var(--fill-color);\n",
              "    }\n",
              "    30% {\n",
              "      border-color: transparent;\n",
              "      border-left-color: var(--fill-color);\n",
              "      border-top-color: var(--fill-color);\n",
              "      border-right-color: var(--fill-color);\n",
              "    }\n",
              "    40% {\n",
              "      border-color: transparent;\n",
              "      border-right-color: var(--fill-color);\n",
              "      border-top-color: var(--fill-color);\n",
              "    }\n",
              "    60% {\n",
              "      border-color: transparent;\n",
              "      border-right-color: var(--fill-color);\n",
              "    }\n",
              "    80% {\n",
              "      border-color: transparent;\n",
              "      border-right-color: var(--fill-color);\n",
              "      border-bottom-color: var(--fill-color);\n",
              "    }\n",
              "    90% {\n",
              "      border-color: transparent;\n",
              "      border-bottom-color: var(--fill-color);\n",
              "    }\n",
              "  }\n",
              "</style>\n",
              "\n",
              "  <script>\n",
              "    async function quickchart(key) {\n",
              "      const quickchartButtonEl =\n",
              "        document.querySelector('#' + key + ' button');\n",
              "      quickchartButtonEl.disabled = true;  // To prevent multiple clicks.\n",
              "      quickchartButtonEl.classList.add('colab-df-spinner');\n",
              "      try {\n",
              "        const charts = await google.colab.kernel.invokeFunction(\n",
              "            'suggestCharts', [key], {});\n",
              "      } catch (error) {\n",
              "        console.error('Error during call to suggestCharts:', error);\n",
              "      }\n",
              "      quickchartButtonEl.classList.remove('colab-df-spinner');\n",
              "      quickchartButtonEl.classList.add('colab-df-quickchart-complete');\n",
              "    }\n",
              "    (() => {\n",
              "      let quickchartButtonEl =\n",
              "        document.querySelector('#df-eada48e2-59a6-4ae8-8da2-f65ddc7a3029 button');\n",
              "      quickchartButtonEl.style.display =\n",
              "        google.colab.kernel.accessAllowed ? 'block' : 'none';\n",
              "    })();\n",
              "  </script>\n",
              "</div>\n",
              "\n",
              "    </div>\n",
              "  </div>\n"
            ],
            "application/vnd.google.colaboratory.intrinsic+json": {
              "type": "dataframe",
              "variable_name": "df",
              "summary": "{\n  \"name\": \"df\",\n  \"rows\": 8675,\n  \"fields\": [\n    {\n      \"column\": \"type\",\n      \"properties\": {\n        \"dtype\": \"category\",\n        \"num_unique_values\": 16,\n        \"samples\": [\n          \"INFJ\",\n          \"ENTP\",\n          \"ENFJ\"\n        ],\n        \"semantic_type\": \"\",\n        \"description\": \"\"\n      }\n    },\n    {\n      \"column\": \"posts\",\n      \"properties\": {\n        \"dtype\": \"string\",\n        \"num_unique_values\": 8675,\n        \"samples\": [\n          \"'This. When I lie it's to avoid an unreasonable response for something I did that was completely justifiable to me but if I was to try to justify to someone else they'd be too hung up on what I did. I...|||Your IQ (SD15): 128|||I typically have very difficult times maintaining friends I've come to realize. I've had people I talk to for years and I still don't want to talk to them... I DID, but then I just got bored of them,...|||An INTJ friend of mine told me she really hates eating because it's so repetitive. As an INTP I don't really feel bothered, I don't really register eating I just do it while I'm thinking about...|||Similar Minds Advanced Test|||INTP 9 sx/so I have a lot of friends but I only have one I speak about how I actually feel with and only 1 other that I talk about what I am actually thinking about - with regards to...|||Getting close to someone and end up wanting to be infinitely close to them and end up merging every damn time.|||Interesting topic, I know two ENFP's, 1 is strange, as an INTP I view some of the stuff she does as 'coming onto me'?  - sort of. She gets really close and is very open to me, just what ENFP's do,...|||As far as I'm aware this is normal in all people, it's not so much your pessimistic self but just that humans are social creatures and you will feel better after socializing for that reason. Being...|||Vajrayaksa  How dare you use Lelouch as an INTP! He is an INTJ I say!|||I normally think about doing this stuff but don't actually do it.|||You'll probably find that commenting on their nihilistic thoughts logically would make them more open. Dismissing ideas will merely make them agree with that idea more as they'll feel a need to...|||Don't worry, calling me thinker is the same.|||INTJ - Winter - Coldest ENTJ - Summer - Actually doing things ENTP - Spring - Bringing out the fun in people INTP - Autumn - No one ever notices this season|||I've known a couple ENTP's, one ENTJ and an INTJ and it kind of went ENTP>ENTJ>ENTP>INTJ I love being able to constantly talk with ENTP's but also they need to know when to stop talking, if an ENTP...|||If you mean actually 1v1ing yourself I also have done this, maybe I'm wrong but I find it pretty easy to think about the most logical move the player I am playing should make with the information...|||Gender: female Age: 19-29 Intelligence: gifted Idea adoption: early-adopter MBTI personality profile: ESFP Closest alternative we found: ESFJ  I think I killed it when it told me to write...|||I'm fine with them, I'm more on shortage of people I'd ever want to do them with but that's on the grounds that any socialising that could be done could just as well be done over skype without the...|||I used to use pencils then I was told that my teachers wanted me to use pens only - so I used pens only. I haven't used a pencil - excluding my games of naughts and crosses earlier - in a couple...|||I'd love to own either a calm house out somewhere distant with a porch and a log cabin aesthetic - fuck it, I want a log cabin. OR I'd actually really like the idea of being in one of those smokey...|||Yeah I enjoy listening to lyrics but it doesn't make much of a difference if they're present or not, if they are there they're just another part of the instrumental I don't necessarily listen to...|||More often then not someone is only going to be fully entering my world if they invite me into theirs first and it's similar or we're friends on the internet - because then there are few...|||What did you get me today?  My head = Shit, shit, shit what did I miss, is it your birthday? Was I supposed to get you something? Are we that good friends that I should be buying you stuff? I...|||I frequently say it as an off hand thing, someone does something really awesome and I say fuck yeah I love you man or something like that. If I was to say it in a genuine way then it'd feel really...|||So something strange has been happening recently, my interest was drawn to naughts and crosses and how I could make it more enjoyable to play. I started by increasing the grid size and tried...|||You could tell them your thoughts. You could not tell them your thoughts and continue to brew over it. I think that there's no reason to be ashamed or annoyed about anything and if you don't...|||loudly, whilst he drew his|||and the baby platypi quivered|||particularly in the higher regions|||Starting with a lingering feeling|||What's the point of stopping? Why does it matter what they're called? Guilty pleasures are pleasures for a reason, does it matter that much?|||their own god dam story|||post multiple times to do|||It's impressive how people would|||Maximum of five words per line, feel free to say other stuff in the most but make sure it's clear which is the five words.     Once upon a time in|||someone who appreciates c.c. Fuck yeah!|||Yeezus can't we come to a reasonable conclusion without you picking a fight? It's not being open minded.|||More often then not I judge them purely by how they judge me, I have a dark sense of humor that I'm not exactly secretive about, I get along with most people on the grounds that I'm just friendly to...|||I chose my avatar as it's an awesome art work of Kaneki from Tokyo Ghoul and by god I loved the manga, love tragedies. Name is a slightly altered version of my name, George - Georgius. Liked the Halo...|||Violence in this situation would probably be a faster way to get things done for both parties involved and especially on the receiving end, trying to talk sense into someone who just said something...|||But surely the point that everyone would be worse off initially isn't relevant? Rebuilding a system would obviously have it's issues here and there.  I'm not crying revolution and I'm not being...|||We'd call it Diagon Alley!|||I'm with you, I make a pretty big point of not being a person for people to expect feelings from, I want to be that person but I just feel wrong, someones crying their eyes out and here I am lying...|||Good call but that's just how I read it ^^'|||What about a four dimensional plane.|||Why airplane why not aeroplane?|||Hit them for having the expectation that you should live up to their expectations which is infuriating in and of itself probably.|||It's just because hitting a women is politically incorrect and some women will use that to their advantage.|||What he's saying is that they should assume that if they say something worthy of being hit for, that they should be grateful when they're not hit for it, not expect not to be hit just on the basis...|||Is it particularly common amongst INTP's and other types to just acknowledge another sides point of view even though socially you shouldn't. What I mean by this is I can't have conversation with...'\",\n          \"'I said zero flexibility and little time for dating. Going around sifting through dates to find one that clicks isn't going to be as viable.  That has nothing to do with maintaining a relationship I...|||How you've come to the conclusion I have nothing to offer  merely because I am busy is beyond me.       No not really. Again, more made up stuff.|||okay, this isn't cool.  you're specifically looking to get into a relationship because you're about to enter a life phase where you will not have any resources to give to a relationship?   that is...|||I do take it slow (that's why I'm still single), but I'm not interested in making friends. I  have friends. Enough for my liking. I'm interested in going on dates with the intent of entering a...|||Absolutely not for me. I find the idea repugnant, actually.|||People could have been polite. Maybe average is a more conservative bet. And I'm not claiming I'm a social butterfly. I'm just a normal guy who is introverted but not a social doofus.  I don't...|||I'm probably giving up the online thing here when my next subscription runs out. After that I really don't know where to look. Bars are a definite no. I don't understand where people meet their...|||I've tried both ways, actually. The last few women I have gone out with have gotten really weird and/or ignored my backhanded compliments. I don't know what to do anymore. Seems I get screwed either...|||I'm actually pretty healthy.     Sorry you feel that way. Not sure which ones you met, but assholes exist everywhere. The number isn't anywhere near 99% though.|||If anything I err on the side of being indifferent. Definitely not overeager.|||Yeah my close friends don't live near me anymore.  The issue is that I have been meeting people, a good amount, and nothing works. I want to know why it is that deformed, infirm, mentally unstable,...|||My friends are in worse positions than I am. Asking them isn't going to help.   As far as feedback, not really because that seems like an extraordinarily awkward thing to ask someone you barely...|||So, I'm a 26 year old male who has been striking out time and time again when it comes to relationships. I've been in one relationship my entire life that lasted like 1.5 years and ended when I was...|||I don't think this sort of dating method is very reasonable, and at best, it is counterproductive. Being friends first just throws a wrench in what is normally a smooth dating process. When you fear...|||Never was a kiss.|||I appreciate the feedback. I think I'm just going to tell her we shouldn't hang out unless she can dedicate a decent amount of time to it. What is happening right now is dragging things out and...|||I don't know. After thinking more, I'm on the verge of giving up. It has nothing to do with seeing her infrequently, or not making it official or what have you. It's that she keeps things...|||I don't know. I'm not a model or anything but I'm decent looking. She's drop dead gorgeous and nice and smart. Guys are always after her it seems. But I'm also smarter and have better career...|||I like your answer, but maybe I'm just being optimistic. It is basically, what I've been doing. I can't shake the feeling that she wouldn't be giving me any of her time if she weren't interested and...|||How am I supposed to know if an INFJ just wants to be friends? Things have been very weird with an INFJ I've been seeing. I've been very upfront about my intentions and she essentially told me she...|||Interesting. I find it unusual INFJs are known for taking forever to open up and trust people yet all the responses so far have indicated kissing in 3 or fewer dates....|||My INFJ friend has been with an INTJ, and i don't want to bust your confidence but even though she liked him at first, she soon found out that he was putting her down and felt caged. I can see that...|||Enlighten us infjs. Also indicate your gender and if you initiated.|||Well there was more than that. She also said she was basically trying to figure out if I'm trustworthy and decent.|||Those two things seem at odds. How can you be simultaneously not saying things that need to be said but also being proactively aggressive?|||Pretty much yeah. Women just do not enjoy my company on any level. I'm in the same situation. Never had any female friends, dated one person in my life and it lasted a little less than two years. The...|||I don't think that is going to help me dig myself out of the very clingy seeming hole I dug myself. I basically asked her if she knew I was romantically interested and she responded of course lol...|||I should have just let things proceed at a natural pace. Pretty pissed at myself. About zero chance she speaks to me again.|||I read through most of that thread. From what I can tell I never did anything egregious. Good chance she lost interest after my bluntness though lol.|||I broke that off shortly after my post. I felt like a slime ball. I only did it because people were telling me she's a lost cause and I should see other people. BTW I have a very well developed...|||Update on this. Told her I liked her and got no reassurance she liked me or even that she wasn't interested. Those who said she was ambivalent were right. I'm pretty much calling it off at this point...|||Yeah so I told her and didn't get an affirmation she liked me nor that she didn't. She basically said she had known for a while I like her. Pretty much what I expected. Probably going to call it...|||Is the crystal ball reference supposed to mean your guess is as good as mine or what? Edit: guess not :p|||So I've gone on six or so dates with an INFJ over a 3 month period (she's pretty busy, and me too) and recently I feel like progress has been a little glacial. For a bit I thought she was warming up...|||She hates texting.  And yeah, she told me how picky she was about people recently and that normally she wouldn't give anyone the time of day.|||You would literally have to have an autism spectrum disorder. I would know.  Not to mention you don't tell someone who is just friends how much you like them. That would be more than bizarre.|||It's kind of hard to get to the point of officially dating when you have no idea what is going on in her head. For all I know an attempt to kiss her would result in abject horror and assault...|||Spoke to her last night, she essentially said she likes me a lot and would normally never make any time for people unless she was obligated to. But she also indirectly used the word friend but it...|||So I met an INFJ female a while back, and we've been out like five or so times on a date. They go well, we get along, everything seems nice. I find her very attractive and we have quite a bit in...|||'  I don't know, I kind of have a rule that I don't compliment a female on her appearance until she trusts me. I did compliment her personality a few times.  She is extremely cautious from what I...|||Well, now I have a new question. Went on a second date a few days ago and it went well and she said she wanted to meet up again. The problem is, there hasn't been an ounce of flirting or touching...|||She started initiating with me and asked if I'm free soon. -_-    If there is anything to be learned it is don't play the analysis game. You will lose.|||Expectations of....?|||I don't know. I can't really fault a strong introvert for being wary about someone she doesn't really know. Number 2 is cruel, but it is how modern dating works.    Pretty sure this isn't the...|||I don't know. I can't really fault a strong introvert for being wary about someone she doesn't really know. Number 2 is cruel, but it is how modern dating works.    Pretty sure this isn't the...|||Thanks, option 1 seems most likely. It seems whenever I finally get her to open up there is like a cascade of good conversation that finally ensues, but it is like pulling teeth initially. Then I...|||I'm socially retarded and would know that if a random stranger asked for my contact info then asked me out for drinks or lunch then the person probably isn't interested in just being friends.|||So I shouldn't be deterred by the fact she doesn't really ever reach out to me? I don't enjoy appearing like someone who can't take a hint or who puts someone else in an awkward situation. I worry...|||No this seems to fit her pretty well.|||Thanks for the advice everyone. I appreciate your taking the time to respond.'\",\n          \"'This has to be written with bias or something, I'm not sure how you could even say that truthfully. For some reason you put subjectivity for both God and man? It says nothing.    That makes no...|||??? How?  The main priority of the church is written throughout it's texts for the past nearly 2000 years and reverberated throughout the church's dialogues both before and after the incident about...|||That's an annoying phrasing, as it's just obtuse and confusing to newcomers. I don't blame you for your response there.    Why must the revealed knowledge not speak truth but contain a bias...|||There are no priestly desk jobs. The closest thing you have to being a priest that gets you away from people is being a monk and that in itself is very different.  I am telling you they did it out...|||No, you really won't. You can't just go to an INTP and assume their intelligence level. That would end in failure. Don't be afraid to ask big questions when musing with the INTP and just try to...|||Heresy is, like, the core reason most all Christian in-fighting occurs. Everything else is minor disputes about theological opinions.|||That's exceedingly subjective. See what they're interested in, strike up a conversation about it. Definitely ask them their thoughts.|||To dismiss my concept of it is to dismiss all history on the topic, dismiss what the apostles taught, and literally all sects of Christianity. But fine, whatever.|||Do cool shit, discuss ideas, have patience, don't try to judge personally too quickly or control them. ALSO, make the first move to show you're interested in talking with them.|||I used to feel about the same until I read the book Self-Made Man, where a lesbian 'butch' woman dressed like a man and tried to live as one. She noticed herself being considered a feminine man quite...|||I'm not sure what the hell is going on in this thread but I would like to say I know no ENTJs personally, I don't think. It'd be neat, though.|||All churches are forms of political institutions. Catholic and Orthodox ones have the benefit of being centralized. All sects have declared doctrine in one way or another.  You're speaking against...|||And here is the most boring post in the whole thread.|||What part? If it's the idea of a teaching authority, you have a problem with all church until the 13th century. If it's the idea of a group being guided by the Holy Spirit in their decisions on...|||For Catholics, the church has a dual meaning. The whole of the believers (the Body of Christ) and the political institution. For Catholicism, their teachings of Christ are said to be protected by...|||Priests were relocated to other parishes so they may quiet down the criticism of the time and handle thing themselves. Again, poor decision but that was their decision.  The church's first priority...|||Well sure then. Yes, the church did protect child offenders. The church's reasoning was the image of the church itself and the their leadership's own ignorance of the size of the problem. The church...|||Edit: Based double post|||No, it really isn't. The Bible itself is the canon collection of texts. The Bible was established once the theological and historical work was done to establish the canon and it was not modified...|||Yes, nevermind it because the two claims do not contradict each other at all. I could work through how there is no contradiction if you're struggling.    I wouldn't say all, no. That's a...|||? There's no way to tell? But many of them depend on logic and/or history that contradicts or ruins their claims? Granted there are a few cases of we're yet to be able to know but many of it can...|||The problem of induction is a grand way of humbling yourself about scientific findings when you're younger. It brings into question if what we know is what we could call true.|||Rubix cubes.|||Pantheism makes no sense. I'd advise otherwise. Atheism and Abrahamic Theism are the only two rational choices.|||You, motherfucker.|||What is the meaning of everything? The universe exists. We are to learn to love in it.|||Disappointed 24 year old reporting in.  Good luck, OP.|||This is exceedingly naive. The early church, before scripture, applied their teaching to better society. After scripture, it was held in high esteem as a basis to properly better society. Most work...|||From the Catholic Catechism (list of official teaching) here is how we are to read the Bible:  III. THE HOLY SPIRIT, INTERPRETER OF SCRIPTURE   109 In Sacred Scripture, God speaks to man in a...|||I never liked people pointing to the Scandinavian model for the success of their economic system and not their incredible oil and natural resource supply compared to their small populations.|||While shit just got stupid for a moment. Lets try to get back on track.|||You're pretty smart, you know that?  Look at this fucker, she thinks I'm smart. Pfft.|||Exceedingly poor.|||I've just been told I'm bright, but I'm sure most everyone else says the same to the kids.|||And what of you?|||The most efficient way to remove self-doubt is to stop doubting yourself so much. Faith and trust, nigga.|||You suspect wrongly. I like the chatter and I'm being friendly with you. I seriously do hope you have a good day too.|||Indeed you do. Feel free to ask/argue/chat/or bullshit with me if you want. Have a good one, man.|||I'd say that's a stretch to say. Catholics believe the bible was inspired by God but written by men. Orthodox do too. As they assembled the biblical canon I'd have to say they have the greatest say...|||Edit: Welp.|||I see the arguments for inconsistencies. Sometimes they aren't actually inconsistencies. Sometimes they are. I find the simplest example of a true one being the rabbit that is apparently chewing...|||Sorry to take so long to get back to you, my internet has been screwing up horribly.  As for the answer, there was a considerable amount of things that got me off the atheist train but if I were to...|||The believing portion was a long and arduous process for me. I researched culture as a hobby and eventually I rolled around to religion. It was an interesting topic for me and I eventually began to...|||To your first statement... just... what. Where did that even come from? Of course they can know love, though with God they can know it fully, I'd argue.  As for Hell, it's taken a variety of...|||I'm very mixed on him. His criticism of Christianity (and envy, now that I've seen the video) is, while popular, piss poor and Max Scheler did a wonderful job making an argument otherwise on his...|||People believing in something as incontrovertibly true is what gets people into a murderous rage? Why just the incontrovertibly true? Why not the empirically true? Why not just majority opinion? To...|||Sure thing. Sounds sorta similar to the Epicurean Paradox.  Suffering/free will exists to strengthen the good. If you create a people so they may know love they cannot sincerely know love if they...|||Yo. Christian INTP here.  Anything you want?|||It's not we can make healthy children! it's we only let the healthy babies live! which is the issue. It's a moral issue about the innate value of life.|||249210'\"\n        ],\n        \"semantic_type\": \"\",\n        \"description\": \"\"\n      }\n    }\n  ]\n}"
            }
          },
          "metadata": {},
          "execution_count": 3
        }
      ],
      "source": [
        "df = pd.read_csv(\"/content/Lab 2 - Personality Profile Type.csv\")\n",
        "df.head(10)"
      ]
    },
    {
      "cell_type": "code",
      "source": [
        "df"
      ],
      "metadata": {
        "colab": {
          "base_uri": "https://localhost:8080/",
          "height": 1000
        },
        "id": "2dMz-Cz-piN9",
        "outputId": "11652617-9ec3-4f4a-e16d-29a18f810e21"
      },
      "execution_count": null,
      "outputs": [
        {
          "output_type": "execute_result",
          "data": {
            "text/plain": [
              "      type  \\\n",
              "0     INFJ   \n",
              "1     ENTP   \n",
              "2     INTP   \n",
              "3     INTJ   \n",
              "4     ENTJ   \n",
              "...    ...   \n",
              "8670  ISFP   \n",
              "8671  ENFP   \n",
              "8672  INTP   \n",
              "8673  INFP   \n",
              "8674  INFP   \n",
              "\n",
              "                                                                                                                                                                                                                                                                                                                                                                                                                                                                                                                    posts  \n",
              "0     'http://www.youtube.com/watch?v=qsXHcwe3krw|||http://41.media.tumblr.com/tumblr_lfouy03PMA1qa1rooo1_500.jpg|||enfp and intj moments  https://www.youtube.com/watch?v=iz7lE1g4XM4  sportscenter not top ten plays  https://www.youtube.com/watch?v=uCdfze1etec  pranks|||What has been the most life-changing experience in your life?|||http://www.youtube.com/watch?v=vXZeYwwRDw8   http://www.youtube.com/watch?v=u8ejam5DP3E  On repeat for most of today.|||May the PerC Experience immerse you.|||The last ...  \n",
              "1     'I'm finding the lack of me in these posts very alarming.|||Sex can be boring if it's in the same position often. For example me and my girlfriend are currently in an environment where we have to creatively use cowgirl and missionary. There isn't enough...|||Giving new meaning to 'Game' theory.|||Hello *ENTP Grin*  That's all it takes. Than we converse and they do most of the flirting while I acknowledge their presence and return their words with smooth wordplay and more cheeky grins.|||This...  \n",
              "2     'Good one  _____   https://www.youtube.com/watch?v=fHiGbolFFGw|||Of course, to which I say I know; that's my blessing and my curse.|||Does being absolutely positive that you and your best friend could be an amazing couple count? If so, than yes.   Or it's more I could be madly in love in case I reconciled my feelings (which at...|||No, I didn't; thank you for a link!|||So-called Ti-Si loop (and it can stem from any current topic/obsession) can be deadly. It's like when you're stuck in your o...  \n",
              "3     'Dear INTP,   I enjoyed our conversation the other day.  Esoteric gabbing about the nature of the universe and the idea that every rule and social code being arbitrary constructs created...|||Dear ENTJ sub,   Long time no see.  Sincerely, Alpha|||None of them. All other types hurt in deep existential ways that I want no part of.|||Probably a sliding scale that depends on individual preferences, like everything in humanity.|||Draco Malfoy also. I'd say he's either 358 or 368.|||I'm either 358...  \n",
              "4     'You're fired.|||That's another silly misconception. That approaching is logically is going to be the key to unlocking whatever it is you think you are entitled to.   Nobody wants to be approached with BS...|||But guys... he REALLY wants to go on a super-duper-long-ass vacation. C'mon guys. His boss just doesn't listen or get it. He even approached him logically and everything.|||Never mind. Just go on permanent vacation.|||Two months? I wouldn't be crazy about the idea. If you are really hi...  \n",
              "...                                                                                                                                                                                                                                                                                                                                                                                                                                                                                                                   ...  \n",
              "8670  'https://www.youtube.com/watch?v=t8edHB_h908|||IxFP just because I always think of cats as Fi doms for some reason.   https://www.youtube.com/watch?v=ib28iGc9go4|||Especially on websites that have become a haven for neo nazis, such as PerC.|||I'm such a nerd. I've been learning Dutch on Duolingo and I'm having so much fun :)|||Duolingo is the shit!  Oh my god I love this XD|||Right wingers do this because they lack political consciousness.|||I doubt it, but if they are real then I hope to he...  \n",
              "8671  'So...if this thread already exists someplace else (which it does:  http://personalitycafe.com/enfp-forum-inspirers/116902-movies-loved-enfp.html#post2952851), how the heck to I delete this one here???|||Ooops...I guess I didn't look too hard because I just started a Movies every ENFP should watch thread...|||So, this came up in the You Know You're An ENFP When... thread.  (@Pucca :  here we go!  IT IS DONE :D) This isn't a list of films with ENFPs IN them, but rather ones that you believe E...  \n",
              "8672  'So many questions when i do these things.  I would take the purple pill. Pick winning lottery numbers. Do whatever I want.|||I worked in a brewery for a couple years here. I dont know if you're familiar with the local micros/craft at all but Mill st. was the name of it. Their tankhouse is my favorite of anything local.|||I am going to summon the great and powerful mr cafebot and his song of destruction. The four horseman ride. Count your days people of earth.   Intro: Nick - the INTP male -...  \n",
              "8673  'I am very conflicted right now when it comes to wanting children.  I honestly had no maternal instinct whatsoever until recently.  Up until now, none of my close friends have had children, and I...|||If I had to guess for my closest friends:  1. ISFJ 2. ESFP 3. ISTJ 4. xNFP 5. ESFJ  I don't know if this is correct or not because I don't know if *they* know their types (actually the xNFP...|||What you said in the last paragraph ... as a teacher, this frustrates me too!  There's a trend in ed...  \n",
              "8674  'It has been too long since I have been on personalitycafe - although it doesn't seem to have changed one bit - but I must say it is good to be back somewhere like this. Usually I turn to Doctor Who...|||http://www.youtube.com/watch?v=6EEW-9NDM5k|||Overwhelmed by the world around me.|||In one dream I have had I was being chased by a large shadowy creature, with someone else who I felt I had to save above all else. The dream ended after she reached safety, but as for what happened...|||Well n...  \n",
              "\n",
              "[8675 rows x 2 columns]"
            ],
            "text/html": [
              "\n",
              "  <div id=\"df-d8512e9b-256a-417f-80db-d8f6943a9450\" class=\"colab-df-container\">\n",
              "    <div>\n",
              "<style scoped>\n",
              "    .dataframe tbody tr th:only-of-type {\n",
              "        vertical-align: middle;\n",
              "    }\n",
              "\n",
              "    .dataframe tbody tr th {\n",
              "        vertical-align: top;\n",
              "    }\n",
              "\n",
              "    .dataframe thead th {\n",
              "        text-align: right;\n",
              "    }\n",
              "</style>\n",
              "<table border=\"1\" class=\"dataframe\">\n",
              "  <thead>\n",
              "    <tr style=\"text-align: right;\">\n",
              "      <th></th>\n",
              "      <th>type</th>\n",
              "      <th>posts</th>\n",
              "    </tr>\n",
              "  </thead>\n",
              "  <tbody>\n",
              "    <tr>\n",
              "      <th>0</th>\n",
              "      <td>INFJ</td>\n",
              "      <td>'http://www.youtube.com/watch?v=qsXHcwe3krw|||http://41.media.tumblr.com/tumblr_lfouy03PMA1qa1rooo1_500.jpg|||enfp and intj moments  https://www.youtube.com/watch?v=iz7lE1g4XM4  sportscenter not top ten plays  https://www.youtube.com/watch?v=uCdfze1etec  pranks|||What has been the most life-changing experience in your life?|||http://www.youtube.com/watch?v=vXZeYwwRDw8   http://www.youtube.com/watch?v=u8ejam5DP3E  On repeat for most of today.|||May the PerC Experience immerse you.|||The last ...</td>\n",
              "    </tr>\n",
              "    <tr>\n",
              "      <th>1</th>\n",
              "      <td>ENTP</td>\n",
              "      <td>'I'm finding the lack of me in these posts very alarming.|||Sex can be boring if it's in the same position often. For example me and my girlfriend are currently in an environment where we have to creatively use cowgirl and missionary. There isn't enough...|||Giving new meaning to 'Game' theory.|||Hello *ENTP Grin*  That's all it takes. Than we converse and they do most of the flirting while I acknowledge their presence and return their words with smooth wordplay and more cheeky grins.|||This...</td>\n",
              "    </tr>\n",
              "    <tr>\n",
              "      <th>2</th>\n",
              "      <td>INTP</td>\n",
              "      <td>'Good one  _____   https://www.youtube.com/watch?v=fHiGbolFFGw|||Of course, to which I say I know; that's my blessing and my curse.|||Does being absolutely positive that you and your best friend could be an amazing couple count? If so, than yes.   Or it's more I could be madly in love in case I reconciled my feelings (which at...|||No, I didn't; thank you for a link!|||So-called Ti-Si loop (and it can stem from any current topic/obsession) can be deadly. It's like when you're stuck in your o...</td>\n",
              "    </tr>\n",
              "    <tr>\n",
              "      <th>3</th>\n",
              "      <td>INTJ</td>\n",
              "      <td>'Dear INTP,   I enjoyed our conversation the other day.  Esoteric gabbing about the nature of the universe and the idea that every rule and social code being arbitrary constructs created...|||Dear ENTJ sub,   Long time no see.  Sincerely, Alpha|||None of them. All other types hurt in deep existential ways that I want no part of.|||Probably a sliding scale that depends on individual preferences, like everything in humanity.|||Draco Malfoy also. I'd say he's either 358 or 368.|||I'm either 358...</td>\n",
              "    </tr>\n",
              "    <tr>\n",
              "      <th>4</th>\n",
              "      <td>ENTJ</td>\n",
              "      <td>'You're fired.|||That's another silly misconception. That approaching is logically is going to be the key to unlocking whatever it is you think you are entitled to.   Nobody wants to be approached with BS...|||But guys... he REALLY wants to go on a super-duper-long-ass vacation. C'mon guys. His boss just doesn't listen or get it. He even approached him logically and everything.|||Never mind. Just go on permanent vacation.|||Two months? I wouldn't be crazy about the idea. If you are really hi...</td>\n",
              "    </tr>\n",
              "    <tr>\n",
              "      <th>...</th>\n",
              "      <td>...</td>\n",
              "      <td>...</td>\n",
              "    </tr>\n",
              "    <tr>\n",
              "      <th>8670</th>\n",
              "      <td>ISFP</td>\n",
              "      <td>'https://www.youtube.com/watch?v=t8edHB_h908|||IxFP just because I always think of cats as Fi doms for some reason.   https://www.youtube.com/watch?v=ib28iGc9go4|||Especially on websites that have become a haven for neo nazis, such as PerC.|||I'm such a nerd. I've been learning Dutch on Duolingo and I'm having so much fun :)|||Duolingo is the shit!  Oh my god I love this XD|||Right wingers do this because they lack political consciousness.|||I doubt it, but if they are real then I hope to he...</td>\n",
              "    </tr>\n",
              "    <tr>\n",
              "      <th>8671</th>\n",
              "      <td>ENFP</td>\n",
              "      <td>'So...if this thread already exists someplace else (which it does:  http://personalitycafe.com/enfp-forum-inspirers/116902-movies-loved-enfp.html#post2952851), how the heck to I delete this one here???|||Ooops...I guess I didn't look too hard because I just started a Movies every ENFP should watch thread...|||So, this came up in the You Know You're An ENFP When... thread.  (@Pucca :  here we go!  IT IS DONE :D) This isn't a list of films with ENFPs IN them, but rather ones that you believe E...</td>\n",
              "    </tr>\n",
              "    <tr>\n",
              "      <th>8672</th>\n",
              "      <td>INTP</td>\n",
              "      <td>'So many questions when i do these things.  I would take the purple pill. Pick winning lottery numbers. Do whatever I want.|||I worked in a brewery for a couple years here. I dont know if you're familiar with the local micros/craft at all but Mill st. was the name of it. Their tankhouse is my favorite of anything local.|||I am going to summon the great and powerful mr cafebot and his song of destruction. The four horseman ride. Count your days people of earth.   Intro: Nick - the INTP male -...</td>\n",
              "    </tr>\n",
              "    <tr>\n",
              "      <th>8673</th>\n",
              "      <td>INFP</td>\n",
              "      <td>'I am very conflicted right now when it comes to wanting children.  I honestly had no maternal instinct whatsoever until recently.  Up until now, none of my close friends have had children, and I...|||If I had to guess for my closest friends:  1. ISFJ 2. ESFP 3. ISTJ 4. xNFP 5. ESFJ  I don't know if this is correct or not because I don't know if *they* know their types (actually the xNFP...|||What you said in the last paragraph ... as a teacher, this frustrates me too!  There's a trend in ed...</td>\n",
              "    </tr>\n",
              "    <tr>\n",
              "      <th>8674</th>\n",
              "      <td>INFP</td>\n",
              "      <td>'It has been too long since I have been on personalitycafe - although it doesn't seem to have changed one bit - but I must say it is good to be back somewhere like this. Usually I turn to Doctor Who...|||http://www.youtube.com/watch?v=6EEW-9NDM5k|||Overwhelmed by the world around me.|||In one dream I have had I was being chased by a large shadowy creature, with someone else who I felt I had to save above all else. The dream ended after she reached safety, but as for what happened...|||Well n...</td>\n",
              "    </tr>\n",
              "  </tbody>\n",
              "</table>\n",
              "<p>8675 rows × 2 columns</p>\n",
              "</div>\n",
              "    <div class=\"colab-df-buttons\">\n",
              "\n",
              "  <div class=\"colab-df-container\">\n",
              "    <button class=\"colab-df-convert\" onclick=\"convertToInteractive('df-d8512e9b-256a-417f-80db-d8f6943a9450')\"\n",
              "            title=\"Convert this dataframe to an interactive table.\"\n",
              "            style=\"display:none;\">\n",
              "\n",
              "  <svg xmlns=\"http://www.w3.org/2000/svg\" height=\"24px\" viewBox=\"0 -960 960 960\">\n",
              "    <path d=\"M120-120v-720h720v720H120Zm60-500h600v-160H180v160Zm220 220h160v-160H400v160Zm0 220h160v-160H400v160ZM180-400h160v-160H180v160Zm440 0h160v-160H620v160ZM180-180h160v-160H180v160Zm440 0h160v-160H620v160Z\"/>\n",
              "  </svg>\n",
              "    </button>\n",
              "\n",
              "  <style>\n",
              "    .colab-df-container {\n",
              "      display:flex;\n",
              "      gap: 12px;\n",
              "    }\n",
              "\n",
              "    .colab-df-convert {\n",
              "      background-color: #E8F0FE;\n",
              "      border: none;\n",
              "      border-radius: 50%;\n",
              "      cursor: pointer;\n",
              "      display: none;\n",
              "      fill: #1967D2;\n",
              "      height: 32px;\n",
              "      padding: 0 0 0 0;\n",
              "      width: 32px;\n",
              "    }\n",
              "\n",
              "    .colab-df-convert:hover {\n",
              "      background-color: #E2EBFA;\n",
              "      box-shadow: 0px 1px 2px rgba(60, 64, 67, 0.3), 0px 1px 3px 1px rgba(60, 64, 67, 0.15);\n",
              "      fill: #174EA6;\n",
              "    }\n",
              "\n",
              "    .colab-df-buttons div {\n",
              "      margin-bottom: 4px;\n",
              "    }\n",
              "\n",
              "    [theme=dark] .colab-df-convert {\n",
              "      background-color: #3B4455;\n",
              "      fill: #D2E3FC;\n",
              "    }\n",
              "\n",
              "    [theme=dark] .colab-df-convert:hover {\n",
              "      background-color: #434B5C;\n",
              "      box-shadow: 0px 1px 3px 1px rgba(0, 0, 0, 0.15);\n",
              "      filter: drop-shadow(0px 1px 2px rgba(0, 0, 0, 0.3));\n",
              "      fill: #FFFFFF;\n",
              "    }\n",
              "  </style>\n",
              "\n",
              "    <script>\n",
              "      const buttonEl =\n",
              "        document.querySelector('#df-d8512e9b-256a-417f-80db-d8f6943a9450 button.colab-df-convert');\n",
              "      buttonEl.style.display =\n",
              "        google.colab.kernel.accessAllowed ? 'block' : 'none';\n",
              "\n",
              "      async function convertToInteractive(key) {\n",
              "        const element = document.querySelector('#df-d8512e9b-256a-417f-80db-d8f6943a9450');\n",
              "        const dataTable =\n",
              "          await google.colab.kernel.invokeFunction('convertToInteractive',\n",
              "                                                    [key], {});\n",
              "        if (!dataTable) return;\n",
              "\n",
              "        const docLinkHtml = 'Like what you see? Visit the ' +\n",
              "          '<a target=\"_blank\" href=https://colab.research.google.com/notebooks/data_table.ipynb>data table notebook</a>'\n",
              "          + ' to learn more about interactive tables.';\n",
              "        element.innerHTML = '';\n",
              "        dataTable['output_type'] = 'display_data';\n",
              "        await google.colab.output.renderOutput(dataTable, element);\n",
              "        const docLink = document.createElement('div');\n",
              "        docLink.innerHTML = docLinkHtml;\n",
              "        element.appendChild(docLink);\n",
              "      }\n",
              "    </script>\n",
              "  </div>\n",
              "\n",
              "\n",
              "<div id=\"df-13dcbd12-e09f-4129-904c-72b7bd68faaa\">\n",
              "  <button class=\"colab-df-quickchart\" onclick=\"quickchart('df-13dcbd12-e09f-4129-904c-72b7bd68faaa')\"\n",
              "            title=\"Suggest charts\"\n",
              "            style=\"display:none;\">\n",
              "\n",
              "<svg xmlns=\"http://www.w3.org/2000/svg\" height=\"24px\"viewBox=\"0 0 24 24\"\n",
              "     width=\"24px\">\n",
              "    <g>\n",
              "        <path d=\"M19 3H5c-1.1 0-2 .9-2 2v14c0 1.1.9 2 2 2h14c1.1 0 2-.9 2-2V5c0-1.1-.9-2-2-2zM9 17H7v-7h2v7zm4 0h-2V7h2v10zm4 0h-2v-4h2v4z\"/>\n",
              "    </g>\n",
              "</svg>\n",
              "  </button>\n",
              "\n",
              "<style>\n",
              "  .colab-df-quickchart {\n",
              "      --bg-color: #E8F0FE;\n",
              "      --fill-color: #1967D2;\n",
              "      --hover-bg-color: #E2EBFA;\n",
              "      --hover-fill-color: #174EA6;\n",
              "      --disabled-fill-color: #AAA;\n",
              "      --disabled-bg-color: #DDD;\n",
              "  }\n",
              "\n",
              "  [theme=dark] .colab-df-quickchart {\n",
              "      --bg-color: #3B4455;\n",
              "      --fill-color: #D2E3FC;\n",
              "      --hover-bg-color: #434B5C;\n",
              "      --hover-fill-color: #FFFFFF;\n",
              "      --disabled-bg-color: #3B4455;\n",
              "      --disabled-fill-color: #666;\n",
              "  }\n",
              "\n",
              "  .colab-df-quickchart {\n",
              "    background-color: var(--bg-color);\n",
              "    border: none;\n",
              "    border-radius: 50%;\n",
              "    cursor: pointer;\n",
              "    display: none;\n",
              "    fill: var(--fill-color);\n",
              "    height: 32px;\n",
              "    padding: 0;\n",
              "    width: 32px;\n",
              "  }\n",
              "\n",
              "  .colab-df-quickchart:hover {\n",
              "    background-color: var(--hover-bg-color);\n",
              "    box-shadow: 0 1px 2px rgba(60, 64, 67, 0.3), 0 1px 3px 1px rgba(60, 64, 67, 0.15);\n",
              "    fill: var(--button-hover-fill-color);\n",
              "  }\n",
              "\n",
              "  .colab-df-quickchart-complete:disabled,\n",
              "  .colab-df-quickchart-complete:disabled:hover {\n",
              "    background-color: var(--disabled-bg-color);\n",
              "    fill: var(--disabled-fill-color);\n",
              "    box-shadow: none;\n",
              "  }\n",
              "\n",
              "  .colab-df-spinner {\n",
              "    border: 2px solid var(--fill-color);\n",
              "    border-color: transparent;\n",
              "    border-bottom-color: var(--fill-color);\n",
              "    animation:\n",
              "      spin 1s steps(1) infinite;\n",
              "  }\n",
              "\n",
              "  @keyframes spin {\n",
              "    0% {\n",
              "      border-color: transparent;\n",
              "      border-bottom-color: var(--fill-color);\n",
              "      border-left-color: var(--fill-color);\n",
              "    }\n",
              "    20% {\n",
              "      border-color: transparent;\n",
              "      border-left-color: var(--fill-color);\n",
              "      border-top-color: var(--fill-color);\n",
              "    }\n",
              "    30% {\n",
              "      border-color: transparent;\n",
              "      border-left-color: var(--fill-color);\n",
              "      border-top-color: var(--fill-color);\n",
              "      border-right-color: var(--fill-color);\n",
              "    }\n",
              "    40% {\n",
              "      border-color: transparent;\n",
              "      border-right-color: var(--fill-color);\n",
              "      border-top-color: var(--fill-color);\n",
              "    }\n",
              "    60% {\n",
              "      border-color: transparent;\n",
              "      border-right-color: var(--fill-color);\n",
              "    }\n",
              "    80% {\n",
              "      border-color: transparent;\n",
              "      border-right-color: var(--fill-color);\n",
              "      border-bottom-color: var(--fill-color);\n",
              "    }\n",
              "    90% {\n",
              "      border-color: transparent;\n",
              "      border-bottom-color: var(--fill-color);\n",
              "    }\n",
              "  }\n",
              "</style>\n",
              "\n",
              "  <script>\n",
              "    async function quickchart(key) {\n",
              "      const quickchartButtonEl =\n",
              "        document.querySelector('#' + key + ' button');\n",
              "      quickchartButtonEl.disabled = true;  // To prevent multiple clicks.\n",
              "      quickchartButtonEl.classList.add('colab-df-spinner');\n",
              "      try {\n",
              "        const charts = await google.colab.kernel.invokeFunction(\n",
              "            'suggestCharts', [key], {});\n",
              "      } catch (error) {\n",
              "        console.error('Error during call to suggestCharts:', error);\n",
              "      }\n",
              "      quickchartButtonEl.classList.remove('colab-df-spinner');\n",
              "      quickchartButtonEl.classList.add('colab-df-quickchart-complete');\n",
              "    }\n",
              "    (() => {\n",
              "      let quickchartButtonEl =\n",
              "        document.querySelector('#df-13dcbd12-e09f-4129-904c-72b7bd68faaa button');\n",
              "      quickchartButtonEl.style.display =\n",
              "        google.colab.kernel.accessAllowed ? 'block' : 'none';\n",
              "    })();\n",
              "  </script>\n",
              "</div>\n",
              "\n",
              "  <div id=\"id_7e0130b0-6bf3-4737-9c06-5a791a931818\">\n",
              "    <style>\n",
              "      .colab-df-generate {\n",
              "        background-color: #E8F0FE;\n",
              "        border: none;\n",
              "        border-radius: 50%;\n",
              "        cursor: pointer;\n",
              "        display: none;\n",
              "        fill: #1967D2;\n",
              "        height: 32px;\n",
              "        padding: 0 0 0 0;\n",
              "        width: 32px;\n",
              "      }\n",
              "\n",
              "      .colab-df-generate:hover {\n",
              "        background-color: #E2EBFA;\n",
              "        box-shadow: 0px 1px 2px rgba(60, 64, 67, 0.3), 0px 1px 3px 1px rgba(60, 64, 67, 0.15);\n",
              "        fill: #174EA6;\n",
              "      }\n",
              "\n",
              "      [theme=dark] .colab-df-generate {\n",
              "        background-color: #3B4455;\n",
              "        fill: #D2E3FC;\n",
              "      }\n",
              "\n",
              "      [theme=dark] .colab-df-generate:hover {\n",
              "        background-color: #434B5C;\n",
              "        box-shadow: 0px 1px 3px 1px rgba(0, 0, 0, 0.15);\n",
              "        filter: drop-shadow(0px 1px 2px rgba(0, 0, 0, 0.3));\n",
              "        fill: #FFFFFF;\n",
              "      }\n",
              "    </style>\n",
              "    <button class=\"colab-df-generate\" onclick=\"generateWithVariable('df')\"\n",
              "            title=\"Generate code using this dataframe.\"\n",
              "            style=\"display:none;\">\n",
              "\n",
              "  <svg xmlns=\"http://www.w3.org/2000/svg\" height=\"24px\"viewBox=\"0 0 24 24\"\n",
              "       width=\"24px\">\n",
              "    <path d=\"M7,19H8.4L18.45,9,17,7.55,7,17.6ZM5,21V16.75L18.45,3.32a2,2,0,0,1,2.83,0l1.4,1.43a1.91,1.91,0,0,1,.58,1.4,1.91,1.91,0,0,1-.58,1.4L9.25,21ZM18.45,9,17,7.55Zm-12,3A5.31,5.31,0,0,0,4.9,8.1,5.31,5.31,0,0,0,1,6.5,5.31,5.31,0,0,0,4.9,4.9,5.31,5.31,0,0,0,6.5,1,5.31,5.31,0,0,0,8.1,4.9,5.31,5.31,0,0,0,12,6.5,5.46,5.46,0,0,0,6.5,12Z\"/>\n",
              "  </svg>\n",
              "    </button>\n",
              "    <script>\n",
              "      (() => {\n",
              "      const buttonEl =\n",
              "        document.querySelector('#id_7e0130b0-6bf3-4737-9c06-5a791a931818 button.colab-df-generate');\n",
              "      buttonEl.style.display =\n",
              "        google.colab.kernel.accessAllowed ? 'block' : 'none';\n",
              "\n",
              "      buttonEl.onclick = () => {\n",
              "        google.colab.notebook.generateWithVariable('df');\n",
              "      }\n",
              "      })();\n",
              "    </script>\n",
              "  </div>\n",
              "\n",
              "    </div>\n",
              "  </div>\n"
            ],
            "application/vnd.google.colaboratory.intrinsic+json": {
              "type": "dataframe",
              "variable_name": "df",
              "summary": "{\n  \"name\": \"df\",\n  \"rows\": 8675,\n  \"fields\": [\n    {\n      \"column\": \"type\",\n      \"properties\": {\n        \"dtype\": \"category\",\n        \"num_unique_values\": 16,\n        \"samples\": [\n          \"INFJ\",\n          \"ENTP\",\n          \"ENFJ\"\n        ],\n        \"semantic_type\": \"\",\n        \"description\": \"\"\n      }\n    },\n    {\n      \"column\": \"posts\",\n      \"properties\": {\n        \"dtype\": \"string\",\n        \"num_unique_values\": 8675,\n        \"samples\": [\n          \"'This. When I lie it's to avoid an unreasonable response for something I did that was completely justifiable to me but if I was to try to justify to someone else they'd be too hung up on what I did. I...|||Your IQ (SD15): 128|||I typically have very difficult times maintaining friends I've come to realize. I've had people I talk to for years and I still don't want to talk to them... I DID, but then I just got bored of them,...|||An INTJ friend of mine told me she really hates eating because it's so repetitive. As an INTP I don't really feel bothered, I don't really register eating I just do it while I'm thinking about...|||Similar Minds Advanced Test|||INTP 9 sx/so I have a lot of friends but I only have one I speak about how I actually feel with and only 1 other that I talk about what I am actually thinking about - with regards to...|||Getting close to someone and end up wanting to be infinitely close to them and end up merging every damn time.|||Interesting topic, I know two ENFP's, 1 is strange, as an INTP I view some of the stuff she does as 'coming onto me'?  - sort of. She gets really close and is very open to me, just what ENFP's do,...|||As far as I'm aware this is normal in all people, it's not so much your pessimistic self but just that humans are social creatures and you will feel better after socializing for that reason. Being...|||Vajrayaksa  How dare you use Lelouch as an INTP! He is an INTJ I say!|||I normally think about doing this stuff but don't actually do it.|||You'll probably find that commenting on their nihilistic thoughts logically would make them more open. Dismissing ideas will merely make them agree with that idea more as they'll feel a need to...|||Don't worry, calling me thinker is the same.|||INTJ - Winter - Coldest ENTJ - Summer - Actually doing things ENTP - Spring - Bringing out the fun in people INTP - Autumn - No one ever notices this season|||I've known a couple ENTP's, one ENTJ and an INTJ and it kind of went ENTP>ENTJ>ENTP>INTJ I love being able to constantly talk with ENTP's but also they need to know when to stop talking, if an ENTP...|||If you mean actually 1v1ing yourself I also have done this, maybe I'm wrong but I find it pretty easy to think about the most logical move the player I am playing should make with the information...|||Gender: female Age: 19-29 Intelligence: gifted Idea adoption: early-adopter MBTI personality profile: ESFP Closest alternative we found: ESFJ  I think I killed it when it told me to write...|||I'm fine with them, I'm more on shortage of people I'd ever want to do them with but that's on the grounds that any socialising that could be done could just as well be done over skype without the...|||I used to use pencils then I was told that my teachers wanted me to use pens only - so I used pens only. I haven't used a pencil - excluding my games of naughts and crosses earlier - in a couple...|||I'd love to own either a calm house out somewhere distant with a porch and a log cabin aesthetic - fuck it, I want a log cabin. OR I'd actually really like the idea of being in one of those smokey...|||Yeah I enjoy listening to lyrics but it doesn't make much of a difference if they're present or not, if they are there they're just another part of the instrumental I don't necessarily listen to...|||More often then not someone is only going to be fully entering my world if they invite me into theirs first and it's similar or we're friends on the internet - because then there are few...|||What did you get me today?  My head = Shit, shit, shit what did I miss, is it your birthday? Was I supposed to get you something? Are we that good friends that I should be buying you stuff? I...|||I frequently say it as an off hand thing, someone does something really awesome and I say fuck yeah I love you man or something like that. If I was to say it in a genuine way then it'd feel really...|||So something strange has been happening recently, my interest was drawn to naughts and crosses and how I could make it more enjoyable to play. I started by increasing the grid size and tried...|||You could tell them your thoughts. You could not tell them your thoughts and continue to brew over it. I think that there's no reason to be ashamed or annoyed about anything and if you don't...|||loudly, whilst he drew his|||and the baby platypi quivered|||particularly in the higher regions|||Starting with a lingering feeling|||What's the point of stopping? Why does it matter what they're called? Guilty pleasures are pleasures for a reason, does it matter that much?|||their own god dam story|||post multiple times to do|||It's impressive how people would|||Maximum of five words per line, feel free to say other stuff in the most but make sure it's clear which is the five words.     Once upon a time in|||someone who appreciates c.c. Fuck yeah!|||Yeezus can't we come to a reasonable conclusion without you picking a fight? It's not being open minded.|||More often then not I judge them purely by how they judge me, I have a dark sense of humor that I'm not exactly secretive about, I get along with most people on the grounds that I'm just friendly to...|||I chose my avatar as it's an awesome art work of Kaneki from Tokyo Ghoul and by god I loved the manga, love tragedies. Name is a slightly altered version of my name, George - Georgius. Liked the Halo...|||Violence in this situation would probably be a faster way to get things done for both parties involved and especially on the receiving end, trying to talk sense into someone who just said something...|||But surely the point that everyone would be worse off initially isn't relevant? Rebuilding a system would obviously have it's issues here and there.  I'm not crying revolution and I'm not being...|||We'd call it Diagon Alley!|||I'm with you, I make a pretty big point of not being a person for people to expect feelings from, I want to be that person but I just feel wrong, someones crying their eyes out and here I am lying...|||Good call but that's just how I read it ^^'|||What about a four dimensional plane.|||Why airplane why not aeroplane?|||Hit them for having the expectation that you should live up to their expectations which is infuriating in and of itself probably.|||It's just because hitting a women is politically incorrect and some women will use that to their advantage.|||What he's saying is that they should assume that if they say something worthy of being hit for, that they should be grateful when they're not hit for it, not expect not to be hit just on the basis...|||Is it particularly common amongst INTP's and other types to just acknowledge another sides point of view even though socially you shouldn't. What I mean by this is I can't have conversation with...'\",\n          \"'I said zero flexibility and little time for dating. Going around sifting through dates to find one that clicks isn't going to be as viable.  That has nothing to do with maintaining a relationship I...|||How you've come to the conclusion I have nothing to offer  merely because I am busy is beyond me.       No not really. Again, more made up stuff.|||okay, this isn't cool.  you're specifically looking to get into a relationship because you're about to enter a life phase where you will not have any resources to give to a relationship?   that is...|||I do take it slow (that's why I'm still single), but I'm not interested in making friends. I  have friends. Enough for my liking. I'm interested in going on dates with the intent of entering a...|||Absolutely not for me. I find the idea repugnant, actually.|||People could have been polite. Maybe average is a more conservative bet. And I'm not claiming I'm a social butterfly. I'm just a normal guy who is introverted but not a social doofus.  I don't...|||I'm probably giving up the online thing here when my next subscription runs out. After that I really don't know where to look. Bars are a definite no. I don't understand where people meet their...|||I've tried both ways, actually. The last few women I have gone out with have gotten really weird and/or ignored my backhanded compliments. I don't know what to do anymore. Seems I get screwed either...|||I'm actually pretty healthy.     Sorry you feel that way. Not sure which ones you met, but assholes exist everywhere. The number isn't anywhere near 99% though.|||If anything I err on the side of being indifferent. Definitely not overeager.|||Yeah my close friends don't live near me anymore.  The issue is that I have been meeting people, a good amount, and nothing works. I want to know why it is that deformed, infirm, mentally unstable,...|||My friends are in worse positions than I am. Asking them isn't going to help.   As far as feedback, not really because that seems like an extraordinarily awkward thing to ask someone you barely...|||So, I'm a 26 year old male who has been striking out time and time again when it comes to relationships. I've been in one relationship my entire life that lasted like 1.5 years and ended when I was...|||I don't think this sort of dating method is very reasonable, and at best, it is counterproductive. Being friends first just throws a wrench in what is normally a smooth dating process. When you fear...|||Never was a kiss.|||I appreciate the feedback. I think I'm just going to tell her we shouldn't hang out unless she can dedicate a decent amount of time to it. What is happening right now is dragging things out and...|||I don't know. After thinking more, I'm on the verge of giving up. It has nothing to do with seeing her infrequently, or not making it official or what have you. It's that she keeps things...|||I don't know. I'm not a model or anything but I'm decent looking. She's drop dead gorgeous and nice and smart. Guys are always after her it seems. But I'm also smarter and have better career...|||I like your answer, but maybe I'm just being optimistic. It is basically, what I've been doing. I can't shake the feeling that she wouldn't be giving me any of her time if she weren't interested and...|||How am I supposed to know if an INFJ just wants to be friends? Things have been very weird with an INFJ I've been seeing. I've been very upfront about my intentions and she essentially told me she...|||Interesting. I find it unusual INFJs are known for taking forever to open up and trust people yet all the responses so far have indicated kissing in 3 or fewer dates....|||My INFJ friend has been with an INTJ, and i don't want to bust your confidence but even though she liked him at first, she soon found out that he was putting her down and felt caged. I can see that...|||Enlighten us infjs. Also indicate your gender and if you initiated.|||Well there was more than that. She also said she was basically trying to figure out if I'm trustworthy and decent.|||Those two things seem at odds. How can you be simultaneously not saying things that need to be said but also being proactively aggressive?|||Pretty much yeah. Women just do not enjoy my company on any level. I'm in the same situation. Never had any female friends, dated one person in my life and it lasted a little less than two years. The...|||I don't think that is going to help me dig myself out of the very clingy seeming hole I dug myself. I basically asked her if she knew I was romantically interested and she responded of course lol...|||I should have just let things proceed at a natural pace. Pretty pissed at myself. About zero chance she speaks to me again.|||I read through most of that thread. From what I can tell I never did anything egregious. Good chance she lost interest after my bluntness though lol.|||I broke that off shortly after my post. I felt like a slime ball. I only did it because people were telling me she's a lost cause and I should see other people. BTW I have a very well developed...|||Update on this. Told her I liked her and got no reassurance she liked me or even that she wasn't interested. Those who said she was ambivalent were right. I'm pretty much calling it off at this point...|||Yeah so I told her and didn't get an affirmation she liked me nor that she didn't. She basically said she had known for a while I like her. Pretty much what I expected. Probably going to call it...|||Is the crystal ball reference supposed to mean your guess is as good as mine or what? Edit: guess not :p|||So I've gone on six or so dates with an INFJ over a 3 month period (she's pretty busy, and me too) and recently I feel like progress has been a little glacial. For a bit I thought she was warming up...|||She hates texting.  And yeah, she told me how picky she was about people recently and that normally she wouldn't give anyone the time of day.|||You would literally have to have an autism spectrum disorder. I would know.  Not to mention you don't tell someone who is just friends how much you like them. That would be more than bizarre.|||It's kind of hard to get to the point of officially dating when you have no idea what is going on in her head. For all I know an attempt to kiss her would result in abject horror and assault...|||Spoke to her last night, she essentially said she likes me a lot and would normally never make any time for people unless she was obligated to. But she also indirectly used the word friend but it...|||So I met an INFJ female a while back, and we've been out like five or so times on a date. They go well, we get along, everything seems nice. I find her very attractive and we have quite a bit in...|||'  I don't know, I kind of have a rule that I don't compliment a female on her appearance until she trusts me. I did compliment her personality a few times.  She is extremely cautious from what I...|||Well, now I have a new question. Went on a second date a few days ago and it went well and she said she wanted to meet up again. The problem is, there hasn't been an ounce of flirting or touching...|||She started initiating with me and asked if I'm free soon. -_-    If there is anything to be learned it is don't play the analysis game. You will lose.|||Expectations of....?|||I don't know. I can't really fault a strong introvert for being wary about someone she doesn't really know. Number 2 is cruel, but it is how modern dating works.    Pretty sure this isn't the...|||I don't know. I can't really fault a strong introvert for being wary about someone she doesn't really know. Number 2 is cruel, but it is how modern dating works.    Pretty sure this isn't the...|||Thanks, option 1 seems most likely. It seems whenever I finally get her to open up there is like a cascade of good conversation that finally ensues, but it is like pulling teeth initially. Then I...|||I'm socially retarded and would know that if a random stranger asked for my contact info then asked me out for drinks or lunch then the person probably isn't interested in just being friends.|||So I shouldn't be deterred by the fact she doesn't really ever reach out to me? I don't enjoy appearing like someone who can't take a hint or who puts someone else in an awkward situation. I worry...|||No this seems to fit her pretty well.|||Thanks for the advice everyone. I appreciate your taking the time to respond.'\",\n          \"'This has to be written with bias or something, I'm not sure how you could even say that truthfully. For some reason you put subjectivity for both God and man? It says nothing.    That makes no...|||??? How?  The main priority of the church is written throughout it's texts for the past nearly 2000 years and reverberated throughout the church's dialogues both before and after the incident about...|||That's an annoying phrasing, as it's just obtuse and confusing to newcomers. I don't blame you for your response there.    Why must the revealed knowledge not speak truth but contain a bias...|||There are no priestly desk jobs. The closest thing you have to being a priest that gets you away from people is being a monk and that in itself is very different.  I am telling you they did it out...|||No, you really won't. You can't just go to an INTP and assume their intelligence level. That would end in failure. Don't be afraid to ask big questions when musing with the INTP and just try to...|||Heresy is, like, the core reason most all Christian in-fighting occurs. Everything else is minor disputes about theological opinions.|||That's exceedingly subjective. See what they're interested in, strike up a conversation about it. Definitely ask them their thoughts.|||To dismiss my concept of it is to dismiss all history on the topic, dismiss what the apostles taught, and literally all sects of Christianity. But fine, whatever.|||Do cool shit, discuss ideas, have patience, don't try to judge personally too quickly or control them. ALSO, make the first move to show you're interested in talking with them.|||I used to feel about the same until I read the book Self-Made Man, where a lesbian 'butch' woman dressed like a man and tried to live as one. She noticed herself being considered a feminine man quite...|||I'm not sure what the hell is going on in this thread but I would like to say I know no ENTJs personally, I don't think. It'd be neat, though.|||All churches are forms of political institutions. Catholic and Orthodox ones have the benefit of being centralized. All sects have declared doctrine in one way or another.  You're speaking against...|||And here is the most boring post in the whole thread.|||What part? If it's the idea of a teaching authority, you have a problem with all church until the 13th century. If it's the idea of a group being guided by the Holy Spirit in their decisions on...|||For Catholics, the church has a dual meaning. The whole of the believers (the Body of Christ) and the political institution. For Catholicism, their teachings of Christ are said to be protected by...|||Priests were relocated to other parishes so they may quiet down the criticism of the time and handle thing themselves. Again, poor decision but that was their decision.  The church's first priority...|||Well sure then. Yes, the church did protect child offenders. The church's reasoning was the image of the church itself and the their leadership's own ignorance of the size of the problem. The church...|||Edit: Based double post|||No, it really isn't. The Bible itself is the canon collection of texts. The Bible was established once the theological and historical work was done to establish the canon and it was not modified...|||Yes, nevermind it because the two claims do not contradict each other at all. I could work through how there is no contradiction if you're struggling.    I wouldn't say all, no. That's a...|||? There's no way to tell? But many of them depend on logic and/or history that contradicts or ruins their claims? Granted there are a few cases of we're yet to be able to know but many of it can...|||The problem of induction is a grand way of humbling yourself about scientific findings when you're younger. It brings into question if what we know is what we could call true.|||Rubix cubes.|||Pantheism makes no sense. I'd advise otherwise. Atheism and Abrahamic Theism are the only two rational choices.|||You, motherfucker.|||What is the meaning of everything? The universe exists. We are to learn to love in it.|||Disappointed 24 year old reporting in.  Good luck, OP.|||This is exceedingly naive. The early church, before scripture, applied their teaching to better society. After scripture, it was held in high esteem as a basis to properly better society. Most work...|||From the Catholic Catechism (list of official teaching) here is how we are to read the Bible:  III. THE HOLY SPIRIT, INTERPRETER OF SCRIPTURE   109 In Sacred Scripture, God speaks to man in a...|||I never liked people pointing to the Scandinavian model for the success of their economic system and not their incredible oil and natural resource supply compared to their small populations.|||While shit just got stupid for a moment. Lets try to get back on track.|||You're pretty smart, you know that?  Look at this fucker, she thinks I'm smart. Pfft.|||Exceedingly poor.|||I've just been told I'm bright, but I'm sure most everyone else says the same to the kids.|||And what of you?|||The most efficient way to remove self-doubt is to stop doubting yourself so much. Faith and trust, nigga.|||You suspect wrongly. I like the chatter and I'm being friendly with you. I seriously do hope you have a good day too.|||Indeed you do. Feel free to ask/argue/chat/or bullshit with me if you want. Have a good one, man.|||I'd say that's a stretch to say. Catholics believe the bible was inspired by God but written by men. Orthodox do too. As they assembled the biblical canon I'd have to say they have the greatest say...|||Edit: Welp.|||I see the arguments for inconsistencies. Sometimes they aren't actually inconsistencies. Sometimes they are. I find the simplest example of a true one being the rabbit that is apparently chewing...|||Sorry to take so long to get back to you, my internet has been screwing up horribly.  As for the answer, there was a considerable amount of things that got me off the atheist train but if I were to...|||The believing portion was a long and arduous process for me. I researched culture as a hobby and eventually I rolled around to religion. It was an interesting topic for me and I eventually began to...|||To your first statement... just... what. Where did that even come from? Of course they can know love, though with God they can know it fully, I'd argue.  As for Hell, it's taken a variety of...|||I'm very mixed on him. His criticism of Christianity (and envy, now that I've seen the video) is, while popular, piss poor and Max Scheler did a wonderful job making an argument otherwise on his...|||People believing in something as incontrovertibly true is what gets people into a murderous rage? Why just the incontrovertibly true? Why not the empirically true? Why not just majority opinion? To...|||Sure thing. Sounds sorta similar to the Epicurean Paradox.  Suffering/free will exists to strengthen the good. If you create a people so they may know love they cannot sincerely know love if they...|||Yo. Christian INTP here.  Anything you want?|||It's not we can make healthy children! it's we only let the healthy babies live! which is the issue. It's a moral issue about the innate value of life.|||249210'\"\n        ],\n        \"semantic_type\": \"\",\n        \"description\": \"\"\n      }\n    }\n  ]\n}"
            }
          },
          "metadata": {},
          "execution_count": 4
        }
      ]
    },
    {
      "cell_type": "code",
      "source": [
        "df.columns"
      ],
      "metadata": {
        "colab": {
          "base_uri": "https://localhost:8080/"
        },
        "id": "bkuiPpjtt62M",
        "outputId": "b608ebdd-e943-4ed2-d81b-6e7de7f34f34"
      },
      "execution_count": null,
      "outputs": [
        {
          "output_type": "execute_result",
          "data": {
            "text/plain": [
              "Index(['type', 'posts'], dtype='object')"
            ]
          },
          "metadata": {},
          "execution_count": 5
        }
      ]
    },
    {
      "cell_type": "code",
      "source": [
        "# Keep only the first two columns\n",
        "dff = df.iloc[:, :2]\n",
        "\n",
        "# Strip leading and trailing whitespaces from column names and then rename the columns\n",
        "dff = dff.rename(columns=lambda x: x.strip())\n",
        "\n",
        "# Rename the columns\n",
        "dff = dff.rename(columns={\"Unnamed: 0\": \"label\",\n",
        "                          \"then I pick that one. + Super Troopers & Beerfest|||Welcome bruh.|||When I get in key with my emotions - I go quite ballistic. I'm not sure if it's just hormones or what\": \"description\"})"
      ],
      "metadata": {
        "id": "Bon8w4Xbs2DA"
      },
      "execution_count": null,
      "outputs": []
    },
    {
      "cell_type": "code",
      "source": [
        "dff"
      ],
      "metadata": {
        "colab": {
          "base_uri": "https://localhost:8080/",
          "height": 1000
        },
        "id": "KAzh1aAIuetr",
        "outputId": "dbba5d05-2ac2-4527-fe5d-f5efddf27a5c"
      },
      "execution_count": null,
      "outputs": [
        {
          "output_type": "execute_result",
          "data": {
            "text/plain": [
              "      type  \\\n",
              "0     INFJ   \n",
              "1     ENTP   \n",
              "2     INTP   \n",
              "3     INTJ   \n",
              "4     ENTJ   \n",
              "...    ...   \n",
              "8670  ISFP   \n",
              "8671  ENFP   \n",
              "8672  INTP   \n",
              "8673  INFP   \n",
              "8674  INFP   \n",
              "\n",
              "                                                                                                                                                                                                                                                                                                                                                                                                                                                                                                                    posts  \n",
              "0     'http://www.youtube.com/watch?v=qsXHcwe3krw|||http://41.media.tumblr.com/tumblr_lfouy03PMA1qa1rooo1_500.jpg|||enfp and intj moments  https://www.youtube.com/watch?v=iz7lE1g4XM4  sportscenter not top ten plays  https://www.youtube.com/watch?v=uCdfze1etec  pranks|||What has been the most life-changing experience in your life?|||http://www.youtube.com/watch?v=vXZeYwwRDw8   http://www.youtube.com/watch?v=u8ejam5DP3E  On repeat for most of today.|||May the PerC Experience immerse you.|||The last ...  \n",
              "1     'I'm finding the lack of me in these posts very alarming.|||Sex can be boring if it's in the same position often. For example me and my girlfriend are currently in an environment where we have to creatively use cowgirl and missionary. There isn't enough...|||Giving new meaning to 'Game' theory.|||Hello *ENTP Grin*  That's all it takes. Than we converse and they do most of the flirting while I acknowledge their presence and return their words with smooth wordplay and more cheeky grins.|||This...  \n",
              "2     'Good one  _____   https://www.youtube.com/watch?v=fHiGbolFFGw|||Of course, to which I say I know; that's my blessing and my curse.|||Does being absolutely positive that you and your best friend could be an amazing couple count? If so, than yes.   Or it's more I could be madly in love in case I reconciled my feelings (which at...|||No, I didn't; thank you for a link!|||So-called Ti-Si loop (and it can stem from any current topic/obsession) can be deadly. It's like when you're stuck in your o...  \n",
              "3     'Dear INTP,   I enjoyed our conversation the other day.  Esoteric gabbing about the nature of the universe and the idea that every rule and social code being arbitrary constructs created...|||Dear ENTJ sub,   Long time no see.  Sincerely, Alpha|||None of them. All other types hurt in deep existential ways that I want no part of.|||Probably a sliding scale that depends on individual preferences, like everything in humanity.|||Draco Malfoy also. I'd say he's either 358 or 368.|||I'm either 358...  \n",
              "4     'You're fired.|||That's another silly misconception. That approaching is logically is going to be the key to unlocking whatever it is you think you are entitled to.   Nobody wants to be approached with BS...|||But guys... he REALLY wants to go on a super-duper-long-ass vacation. C'mon guys. His boss just doesn't listen or get it. He even approached him logically and everything.|||Never mind. Just go on permanent vacation.|||Two months? I wouldn't be crazy about the idea. If you are really hi...  \n",
              "...                                                                                                                                                                                                                                                                                                                                                                                                                                                                                                                   ...  \n",
              "8670  'https://www.youtube.com/watch?v=t8edHB_h908|||IxFP just because I always think of cats as Fi doms for some reason.   https://www.youtube.com/watch?v=ib28iGc9go4|||Especially on websites that have become a haven for neo nazis, such as PerC.|||I'm such a nerd. I've been learning Dutch on Duolingo and I'm having so much fun :)|||Duolingo is the shit!  Oh my god I love this XD|||Right wingers do this because they lack political consciousness.|||I doubt it, but if they are real then I hope to he...  \n",
              "8671  'So...if this thread already exists someplace else (which it does:  http://personalitycafe.com/enfp-forum-inspirers/116902-movies-loved-enfp.html#post2952851), how the heck to I delete this one here???|||Ooops...I guess I didn't look too hard because I just started a Movies every ENFP should watch thread...|||So, this came up in the You Know You're An ENFP When... thread.  (@Pucca :  here we go!  IT IS DONE :D) This isn't a list of films with ENFPs IN them, but rather ones that you believe E...  \n",
              "8672  'So many questions when i do these things.  I would take the purple pill. Pick winning lottery numbers. Do whatever I want.|||I worked in a brewery for a couple years here. I dont know if you're familiar with the local micros/craft at all but Mill st. was the name of it. Their tankhouse is my favorite of anything local.|||I am going to summon the great and powerful mr cafebot and his song of destruction. The four horseman ride. Count your days people of earth.   Intro: Nick - the INTP male -...  \n",
              "8673  'I am very conflicted right now when it comes to wanting children.  I honestly had no maternal instinct whatsoever until recently.  Up until now, none of my close friends have had children, and I...|||If I had to guess for my closest friends:  1. ISFJ 2. ESFP 3. ISTJ 4. xNFP 5. ESFJ  I don't know if this is correct or not because I don't know if *they* know their types (actually the xNFP...|||What you said in the last paragraph ... as a teacher, this frustrates me too!  There's a trend in ed...  \n",
              "8674  'It has been too long since I have been on personalitycafe - although it doesn't seem to have changed one bit - but I must say it is good to be back somewhere like this. Usually I turn to Doctor Who...|||http://www.youtube.com/watch?v=6EEW-9NDM5k|||Overwhelmed by the world around me.|||In one dream I have had I was being chased by a large shadowy creature, with someone else who I felt I had to save above all else. The dream ended after she reached safety, but as for what happened...|||Well n...  \n",
              "\n",
              "[8675 rows x 2 columns]"
            ],
            "text/html": [
              "\n",
              "  <div id=\"df-e690cabf-c88f-4082-8644-1e495f82cbeb\" class=\"colab-df-container\">\n",
              "    <div>\n",
              "<style scoped>\n",
              "    .dataframe tbody tr th:only-of-type {\n",
              "        vertical-align: middle;\n",
              "    }\n",
              "\n",
              "    .dataframe tbody tr th {\n",
              "        vertical-align: top;\n",
              "    }\n",
              "\n",
              "    .dataframe thead th {\n",
              "        text-align: right;\n",
              "    }\n",
              "</style>\n",
              "<table border=\"1\" class=\"dataframe\">\n",
              "  <thead>\n",
              "    <tr style=\"text-align: right;\">\n",
              "      <th></th>\n",
              "      <th>type</th>\n",
              "      <th>posts</th>\n",
              "    </tr>\n",
              "  </thead>\n",
              "  <tbody>\n",
              "    <tr>\n",
              "      <th>0</th>\n",
              "      <td>INFJ</td>\n",
              "      <td>'http://www.youtube.com/watch?v=qsXHcwe3krw|||http://41.media.tumblr.com/tumblr_lfouy03PMA1qa1rooo1_500.jpg|||enfp and intj moments  https://www.youtube.com/watch?v=iz7lE1g4XM4  sportscenter not top ten plays  https://www.youtube.com/watch?v=uCdfze1etec  pranks|||What has been the most life-changing experience in your life?|||http://www.youtube.com/watch?v=vXZeYwwRDw8   http://www.youtube.com/watch?v=u8ejam5DP3E  On repeat for most of today.|||May the PerC Experience immerse you.|||The last ...</td>\n",
              "    </tr>\n",
              "    <tr>\n",
              "      <th>1</th>\n",
              "      <td>ENTP</td>\n",
              "      <td>'I'm finding the lack of me in these posts very alarming.|||Sex can be boring if it's in the same position often. For example me and my girlfriend are currently in an environment where we have to creatively use cowgirl and missionary. There isn't enough...|||Giving new meaning to 'Game' theory.|||Hello *ENTP Grin*  That's all it takes. Than we converse and they do most of the flirting while I acknowledge their presence and return their words with smooth wordplay and more cheeky grins.|||This...</td>\n",
              "    </tr>\n",
              "    <tr>\n",
              "      <th>2</th>\n",
              "      <td>INTP</td>\n",
              "      <td>'Good one  _____   https://www.youtube.com/watch?v=fHiGbolFFGw|||Of course, to which I say I know; that's my blessing and my curse.|||Does being absolutely positive that you and your best friend could be an amazing couple count? If so, than yes.   Or it's more I could be madly in love in case I reconciled my feelings (which at...|||No, I didn't; thank you for a link!|||So-called Ti-Si loop (and it can stem from any current topic/obsession) can be deadly. It's like when you're stuck in your o...</td>\n",
              "    </tr>\n",
              "    <tr>\n",
              "      <th>3</th>\n",
              "      <td>INTJ</td>\n",
              "      <td>'Dear INTP,   I enjoyed our conversation the other day.  Esoteric gabbing about the nature of the universe and the idea that every rule and social code being arbitrary constructs created...|||Dear ENTJ sub,   Long time no see.  Sincerely, Alpha|||None of them. All other types hurt in deep existential ways that I want no part of.|||Probably a sliding scale that depends on individual preferences, like everything in humanity.|||Draco Malfoy also. I'd say he's either 358 or 368.|||I'm either 358...</td>\n",
              "    </tr>\n",
              "    <tr>\n",
              "      <th>4</th>\n",
              "      <td>ENTJ</td>\n",
              "      <td>'You're fired.|||That's another silly misconception. That approaching is logically is going to be the key to unlocking whatever it is you think you are entitled to.   Nobody wants to be approached with BS...|||But guys... he REALLY wants to go on a super-duper-long-ass vacation. C'mon guys. His boss just doesn't listen or get it. He even approached him logically and everything.|||Never mind. Just go on permanent vacation.|||Two months? I wouldn't be crazy about the idea. If you are really hi...</td>\n",
              "    </tr>\n",
              "    <tr>\n",
              "      <th>...</th>\n",
              "      <td>...</td>\n",
              "      <td>...</td>\n",
              "    </tr>\n",
              "    <tr>\n",
              "      <th>8670</th>\n",
              "      <td>ISFP</td>\n",
              "      <td>'https://www.youtube.com/watch?v=t8edHB_h908|||IxFP just because I always think of cats as Fi doms for some reason.   https://www.youtube.com/watch?v=ib28iGc9go4|||Especially on websites that have become a haven for neo nazis, such as PerC.|||I'm such a nerd. I've been learning Dutch on Duolingo and I'm having so much fun :)|||Duolingo is the shit!  Oh my god I love this XD|||Right wingers do this because they lack political consciousness.|||I doubt it, but if they are real then I hope to he...</td>\n",
              "    </tr>\n",
              "    <tr>\n",
              "      <th>8671</th>\n",
              "      <td>ENFP</td>\n",
              "      <td>'So...if this thread already exists someplace else (which it does:  http://personalitycafe.com/enfp-forum-inspirers/116902-movies-loved-enfp.html#post2952851), how the heck to I delete this one here???|||Ooops...I guess I didn't look too hard because I just started a Movies every ENFP should watch thread...|||So, this came up in the You Know You're An ENFP When... thread.  (@Pucca :  here we go!  IT IS DONE :D) This isn't a list of films with ENFPs IN them, but rather ones that you believe E...</td>\n",
              "    </tr>\n",
              "    <tr>\n",
              "      <th>8672</th>\n",
              "      <td>INTP</td>\n",
              "      <td>'So many questions when i do these things.  I would take the purple pill. Pick winning lottery numbers. Do whatever I want.|||I worked in a brewery for a couple years here. I dont know if you're familiar with the local micros/craft at all but Mill st. was the name of it. Their tankhouse is my favorite of anything local.|||I am going to summon the great and powerful mr cafebot and his song of destruction. The four horseman ride. Count your days people of earth.   Intro: Nick - the INTP male -...</td>\n",
              "    </tr>\n",
              "    <tr>\n",
              "      <th>8673</th>\n",
              "      <td>INFP</td>\n",
              "      <td>'I am very conflicted right now when it comes to wanting children.  I honestly had no maternal instinct whatsoever until recently.  Up until now, none of my close friends have had children, and I...|||If I had to guess for my closest friends:  1. ISFJ 2. ESFP 3. ISTJ 4. xNFP 5. ESFJ  I don't know if this is correct or not because I don't know if *they* know their types (actually the xNFP...|||What you said in the last paragraph ... as a teacher, this frustrates me too!  There's a trend in ed...</td>\n",
              "    </tr>\n",
              "    <tr>\n",
              "      <th>8674</th>\n",
              "      <td>INFP</td>\n",
              "      <td>'It has been too long since I have been on personalitycafe - although it doesn't seem to have changed one bit - but I must say it is good to be back somewhere like this. Usually I turn to Doctor Who...|||http://www.youtube.com/watch?v=6EEW-9NDM5k|||Overwhelmed by the world around me.|||In one dream I have had I was being chased by a large shadowy creature, with someone else who I felt I had to save above all else. The dream ended after she reached safety, but as for what happened...|||Well n...</td>\n",
              "    </tr>\n",
              "  </tbody>\n",
              "</table>\n",
              "<p>8675 rows × 2 columns</p>\n",
              "</div>\n",
              "    <div class=\"colab-df-buttons\">\n",
              "\n",
              "  <div class=\"colab-df-container\">\n",
              "    <button class=\"colab-df-convert\" onclick=\"convertToInteractive('df-e690cabf-c88f-4082-8644-1e495f82cbeb')\"\n",
              "            title=\"Convert this dataframe to an interactive table.\"\n",
              "            style=\"display:none;\">\n",
              "\n",
              "  <svg xmlns=\"http://www.w3.org/2000/svg\" height=\"24px\" viewBox=\"0 -960 960 960\">\n",
              "    <path d=\"M120-120v-720h720v720H120Zm60-500h600v-160H180v160Zm220 220h160v-160H400v160Zm0 220h160v-160H400v160ZM180-400h160v-160H180v160Zm440 0h160v-160H620v160ZM180-180h160v-160H180v160Zm440 0h160v-160H620v160Z\"/>\n",
              "  </svg>\n",
              "    </button>\n",
              "\n",
              "  <style>\n",
              "    .colab-df-container {\n",
              "      display:flex;\n",
              "      gap: 12px;\n",
              "    }\n",
              "\n",
              "    .colab-df-convert {\n",
              "      background-color: #E8F0FE;\n",
              "      border: none;\n",
              "      border-radius: 50%;\n",
              "      cursor: pointer;\n",
              "      display: none;\n",
              "      fill: #1967D2;\n",
              "      height: 32px;\n",
              "      padding: 0 0 0 0;\n",
              "      width: 32px;\n",
              "    }\n",
              "\n",
              "    .colab-df-convert:hover {\n",
              "      background-color: #E2EBFA;\n",
              "      box-shadow: 0px 1px 2px rgba(60, 64, 67, 0.3), 0px 1px 3px 1px rgba(60, 64, 67, 0.15);\n",
              "      fill: #174EA6;\n",
              "    }\n",
              "\n",
              "    .colab-df-buttons div {\n",
              "      margin-bottom: 4px;\n",
              "    }\n",
              "\n",
              "    [theme=dark] .colab-df-convert {\n",
              "      background-color: #3B4455;\n",
              "      fill: #D2E3FC;\n",
              "    }\n",
              "\n",
              "    [theme=dark] .colab-df-convert:hover {\n",
              "      background-color: #434B5C;\n",
              "      box-shadow: 0px 1px 3px 1px rgba(0, 0, 0, 0.15);\n",
              "      filter: drop-shadow(0px 1px 2px rgba(0, 0, 0, 0.3));\n",
              "      fill: #FFFFFF;\n",
              "    }\n",
              "  </style>\n",
              "\n",
              "    <script>\n",
              "      const buttonEl =\n",
              "        document.querySelector('#df-e690cabf-c88f-4082-8644-1e495f82cbeb button.colab-df-convert');\n",
              "      buttonEl.style.display =\n",
              "        google.colab.kernel.accessAllowed ? 'block' : 'none';\n",
              "\n",
              "      async function convertToInteractive(key) {\n",
              "        const element = document.querySelector('#df-e690cabf-c88f-4082-8644-1e495f82cbeb');\n",
              "        const dataTable =\n",
              "          await google.colab.kernel.invokeFunction('convertToInteractive',\n",
              "                                                    [key], {});\n",
              "        if (!dataTable) return;\n",
              "\n",
              "        const docLinkHtml = 'Like what you see? Visit the ' +\n",
              "          '<a target=\"_blank\" href=https://colab.research.google.com/notebooks/data_table.ipynb>data table notebook</a>'\n",
              "          + ' to learn more about interactive tables.';\n",
              "        element.innerHTML = '';\n",
              "        dataTable['output_type'] = 'display_data';\n",
              "        await google.colab.output.renderOutput(dataTable, element);\n",
              "        const docLink = document.createElement('div');\n",
              "        docLink.innerHTML = docLinkHtml;\n",
              "        element.appendChild(docLink);\n",
              "      }\n",
              "    </script>\n",
              "  </div>\n",
              "\n",
              "\n",
              "<div id=\"df-d451f258-953e-4318-853b-f97156b30260\">\n",
              "  <button class=\"colab-df-quickchart\" onclick=\"quickchart('df-d451f258-953e-4318-853b-f97156b30260')\"\n",
              "            title=\"Suggest charts\"\n",
              "            style=\"display:none;\">\n",
              "\n",
              "<svg xmlns=\"http://www.w3.org/2000/svg\" height=\"24px\"viewBox=\"0 0 24 24\"\n",
              "     width=\"24px\">\n",
              "    <g>\n",
              "        <path d=\"M19 3H5c-1.1 0-2 .9-2 2v14c0 1.1.9 2 2 2h14c1.1 0 2-.9 2-2V5c0-1.1-.9-2-2-2zM9 17H7v-7h2v7zm4 0h-2V7h2v10zm4 0h-2v-4h2v4z\"/>\n",
              "    </g>\n",
              "</svg>\n",
              "  </button>\n",
              "\n",
              "<style>\n",
              "  .colab-df-quickchart {\n",
              "      --bg-color: #E8F0FE;\n",
              "      --fill-color: #1967D2;\n",
              "      --hover-bg-color: #E2EBFA;\n",
              "      --hover-fill-color: #174EA6;\n",
              "      --disabled-fill-color: #AAA;\n",
              "      --disabled-bg-color: #DDD;\n",
              "  }\n",
              "\n",
              "  [theme=dark] .colab-df-quickchart {\n",
              "      --bg-color: #3B4455;\n",
              "      --fill-color: #D2E3FC;\n",
              "      --hover-bg-color: #434B5C;\n",
              "      --hover-fill-color: #FFFFFF;\n",
              "      --disabled-bg-color: #3B4455;\n",
              "      --disabled-fill-color: #666;\n",
              "  }\n",
              "\n",
              "  .colab-df-quickchart {\n",
              "    background-color: var(--bg-color);\n",
              "    border: none;\n",
              "    border-radius: 50%;\n",
              "    cursor: pointer;\n",
              "    display: none;\n",
              "    fill: var(--fill-color);\n",
              "    height: 32px;\n",
              "    padding: 0;\n",
              "    width: 32px;\n",
              "  }\n",
              "\n",
              "  .colab-df-quickchart:hover {\n",
              "    background-color: var(--hover-bg-color);\n",
              "    box-shadow: 0 1px 2px rgba(60, 64, 67, 0.3), 0 1px 3px 1px rgba(60, 64, 67, 0.15);\n",
              "    fill: var(--button-hover-fill-color);\n",
              "  }\n",
              "\n",
              "  .colab-df-quickchart-complete:disabled,\n",
              "  .colab-df-quickchart-complete:disabled:hover {\n",
              "    background-color: var(--disabled-bg-color);\n",
              "    fill: var(--disabled-fill-color);\n",
              "    box-shadow: none;\n",
              "  }\n",
              "\n",
              "  .colab-df-spinner {\n",
              "    border: 2px solid var(--fill-color);\n",
              "    border-color: transparent;\n",
              "    border-bottom-color: var(--fill-color);\n",
              "    animation:\n",
              "      spin 1s steps(1) infinite;\n",
              "  }\n",
              "\n",
              "  @keyframes spin {\n",
              "    0% {\n",
              "      border-color: transparent;\n",
              "      border-bottom-color: var(--fill-color);\n",
              "      border-left-color: var(--fill-color);\n",
              "    }\n",
              "    20% {\n",
              "      border-color: transparent;\n",
              "      border-left-color: var(--fill-color);\n",
              "      border-top-color: var(--fill-color);\n",
              "    }\n",
              "    30% {\n",
              "      border-color: transparent;\n",
              "      border-left-color: var(--fill-color);\n",
              "      border-top-color: var(--fill-color);\n",
              "      border-right-color: var(--fill-color);\n",
              "    }\n",
              "    40% {\n",
              "      border-color: transparent;\n",
              "      border-right-color: var(--fill-color);\n",
              "      border-top-color: var(--fill-color);\n",
              "    }\n",
              "    60% {\n",
              "      border-color: transparent;\n",
              "      border-right-color: var(--fill-color);\n",
              "    }\n",
              "    80% {\n",
              "      border-color: transparent;\n",
              "      border-right-color: var(--fill-color);\n",
              "      border-bottom-color: var(--fill-color);\n",
              "    }\n",
              "    90% {\n",
              "      border-color: transparent;\n",
              "      border-bottom-color: var(--fill-color);\n",
              "    }\n",
              "  }\n",
              "</style>\n",
              "\n",
              "  <script>\n",
              "    async function quickchart(key) {\n",
              "      const quickchartButtonEl =\n",
              "        document.querySelector('#' + key + ' button');\n",
              "      quickchartButtonEl.disabled = true;  // To prevent multiple clicks.\n",
              "      quickchartButtonEl.classList.add('colab-df-spinner');\n",
              "      try {\n",
              "        const charts = await google.colab.kernel.invokeFunction(\n",
              "            'suggestCharts', [key], {});\n",
              "      } catch (error) {\n",
              "        console.error('Error during call to suggestCharts:', error);\n",
              "      }\n",
              "      quickchartButtonEl.classList.remove('colab-df-spinner');\n",
              "      quickchartButtonEl.classList.add('colab-df-quickchart-complete');\n",
              "    }\n",
              "    (() => {\n",
              "      let quickchartButtonEl =\n",
              "        document.querySelector('#df-d451f258-953e-4318-853b-f97156b30260 button');\n",
              "      quickchartButtonEl.style.display =\n",
              "        google.colab.kernel.accessAllowed ? 'block' : 'none';\n",
              "    })();\n",
              "  </script>\n",
              "</div>\n",
              "\n",
              "  <div id=\"id_44d7c2c5-4ed1-45eb-b0d4-a66dfa109085\">\n",
              "    <style>\n",
              "      .colab-df-generate {\n",
              "        background-color: #E8F0FE;\n",
              "        border: none;\n",
              "        border-radius: 50%;\n",
              "        cursor: pointer;\n",
              "        display: none;\n",
              "        fill: #1967D2;\n",
              "        height: 32px;\n",
              "        padding: 0 0 0 0;\n",
              "        width: 32px;\n",
              "      }\n",
              "\n",
              "      .colab-df-generate:hover {\n",
              "        background-color: #E2EBFA;\n",
              "        box-shadow: 0px 1px 2px rgba(60, 64, 67, 0.3), 0px 1px 3px 1px rgba(60, 64, 67, 0.15);\n",
              "        fill: #174EA6;\n",
              "      }\n",
              "\n",
              "      [theme=dark] .colab-df-generate {\n",
              "        background-color: #3B4455;\n",
              "        fill: #D2E3FC;\n",
              "      }\n",
              "\n",
              "      [theme=dark] .colab-df-generate:hover {\n",
              "        background-color: #434B5C;\n",
              "        box-shadow: 0px 1px 3px 1px rgba(0, 0, 0, 0.15);\n",
              "        filter: drop-shadow(0px 1px 2px rgba(0, 0, 0, 0.3));\n",
              "        fill: #FFFFFF;\n",
              "      }\n",
              "    </style>\n",
              "    <button class=\"colab-df-generate\" onclick=\"generateWithVariable('dff')\"\n",
              "            title=\"Generate code using this dataframe.\"\n",
              "            style=\"display:none;\">\n",
              "\n",
              "  <svg xmlns=\"http://www.w3.org/2000/svg\" height=\"24px\"viewBox=\"0 0 24 24\"\n",
              "       width=\"24px\">\n",
              "    <path d=\"M7,19H8.4L18.45,9,17,7.55,7,17.6ZM5,21V16.75L18.45,3.32a2,2,0,0,1,2.83,0l1.4,1.43a1.91,1.91,0,0,1,.58,1.4,1.91,1.91,0,0,1-.58,1.4L9.25,21ZM18.45,9,17,7.55Zm-12,3A5.31,5.31,0,0,0,4.9,8.1,5.31,5.31,0,0,0,1,6.5,5.31,5.31,0,0,0,4.9,4.9,5.31,5.31,0,0,0,6.5,1,5.31,5.31,0,0,0,8.1,4.9,5.31,5.31,0,0,0,12,6.5,5.46,5.46,0,0,0,6.5,12Z\"/>\n",
              "  </svg>\n",
              "    </button>\n",
              "    <script>\n",
              "      (() => {\n",
              "      const buttonEl =\n",
              "        document.querySelector('#id_44d7c2c5-4ed1-45eb-b0d4-a66dfa109085 button.colab-df-generate');\n",
              "      buttonEl.style.display =\n",
              "        google.colab.kernel.accessAllowed ? 'block' : 'none';\n",
              "\n",
              "      buttonEl.onclick = () => {\n",
              "        google.colab.notebook.generateWithVariable('dff');\n",
              "      }\n",
              "      })();\n",
              "    </script>\n",
              "  </div>\n",
              "\n",
              "    </div>\n",
              "  </div>\n"
            ],
            "application/vnd.google.colaboratory.intrinsic+json": {
              "type": "dataframe",
              "variable_name": "dff",
              "summary": "{\n  \"name\": \"dff\",\n  \"rows\": 8675,\n  \"fields\": [\n    {\n      \"column\": \"type\",\n      \"properties\": {\n        \"dtype\": \"category\",\n        \"num_unique_values\": 16,\n        \"samples\": [\n          \"INFJ\",\n          \"ENTP\",\n          \"ENFJ\"\n        ],\n        \"semantic_type\": \"\",\n        \"description\": \"\"\n      }\n    },\n    {\n      \"column\": \"posts\",\n      \"properties\": {\n        \"dtype\": \"string\",\n        \"num_unique_values\": 8675,\n        \"samples\": [\n          \"'This. When I lie it's to avoid an unreasonable response for something I did that was completely justifiable to me but if I was to try to justify to someone else they'd be too hung up on what I did. I...|||Your IQ (SD15): 128|||I typically have very difficult times maintaining friends I've come to realize. I've had people I talk to for years and I still don't want to talk to them... I DID, but then I just got bored of them,...|||An INTJ friend of mine told me she really hates eating because it's so repetitive. As an INTP I don't really feel bothered, I don't really register eating I just do it while I'm thinking about...|||Similar Minds Advanced Test|||INTP 9 sx/so I have a lot of friends but I only have one I speak about how I actually feel with and only 1 other that I talk about what I am actually thinking about - with regards to...|||Getting close to someone and end up wanting to be infinitely close to them and end up merging every damn time.|||Interesting topic, I know two ENFP's, 1 is strange, as an INTP I view some of the stuff she does as 'coming onto me'?  - sort of. She gets really close and is very open to me, just what ENFP's do,...|||As far as I'm aware this is normal in all people, it's not so much your pessimistic self but just that humans are social creatures and you will feel better after socializing for that reason. Being...|||Vajrayaksa  How dare you use Lelouch as an INTP! He is an INTJ I say!|||I normally think about doing this stuff but don't actually do it.|||You'll probably find that commenting on their nihilistic thoughts logically would make them more open. Dismissing ideas will merely make them agree with that idea more as they'll feel a need to...|||Don't worry, calling me thinker is the same.|||INTJ - Winter - Coldest ENTJ - Summer - Actually doing things ENTP - Spring - Bringing out the fun in people INTP - Autumn - No one ever notices this season|||I've known a couple ENTP's, one ENTJ and an INTJ and it kind of went ENTP>ENTJ>ENTP>INTJ I love being able to constantly talk with ENTP's but also they need to know when to stop talking, if an ENTP...|||If you mean actually 1v1ing yourself I also have done this, maybe I'm wrong but I find it pretty easy to think about the most logical move the player I am playing should make with the information...|||Gender: female Age: 19-29 Intelligence: gifted Idea adoption: early-adopter MBTI personality profile: ESFP Closest alternative we found: ESFJ  I think I killed it when it told me to write...|||I'm fine with them, I'm more on shortage of people I'd ever want to do them with but that's on the grounds that any socialising that could be done could just as well be done over skype without the...|||I used to use pencils then I was told that my teachers wanted me to use pens only - so I used pens only. I haven't used a pencil - excluding my games of naughts and crosses earlier - in a couple...|||I'd love to own either a calm house out somewhere distant with a porch and a log cabin aesthetic - fuck it, I want a log cabin. OR I'd actually really like the idea of being in one of those smokey...|||Yeah I enjoy listening to lyrics but it doesn't make much of a difference if they're present or not, if they are there they're just another part of the instrumental I don't necessarily listen to...|||More often then not someone is only going to be fully entering my world if they invite me into theirs first and it's similar or we're friends on the internet - because then there are few...|||What did you get me today?  My head = Shit, shit, shit what did I miss, is it your birthday? Was I supposed to get you something? Are we that good friends that I should be buying you stuff? I...|||I frequently say it as an off hand thing, someone does something really awesome and I say fuck yeah I love you man or something like that. If I was to say it in a genuine way then it'd feel really...|||So something strange has been happening recently, my interest was drawn to naughts and crosses and how I could make it more enjoyable to play. I started by increasing the grid size and tried...|||You could tell them your thoughts. You could not tell them your thoughts and continue to brew over it. I think that there's no reason to be ashamed or annoyed about anything and if you don't...|||loudly, whilst he drew his|||and the baby platypi quivered|||particularly in the higher regions|||Starting with a lingering feeling|||What's the point of stopping? Why does it matter what they're called? Guilty pleasures are pleasures for a reason, does it matter that much?|||their own god dam story|||post multiple times to do|||It's impressive how people would|||Maximum of five words per line, feel free to say other stuff in the most but make sure it's clear which is the five words.     Once upon a time in|||someone who appreciates c.c. Fuck yeah!|||Yeezus can't we come to a reasonable conclusion without you picking a fight? It's not being open minded.|||More often then not I judge them purely by how they judge me, I have a dark sense of humor that I'm not exactly secretive about, I get along with most people on the grounds that I'm just friendly to...|||I chose my avatar as it's an awesome art work of Kaneki from Tokyo Ghoul and by god I loved the manga, love tragedies. Name is a slightly altered version of my name, George - Georgius. Liked the Halo...|||Violence in this situation would probably be a faster way to get things done for both parties involved and especially on the receiving end, trying to talk sense into someone who just said something...|||But surely the point that everyone would be worse off initially isn't relevant? Rebuilding a system would obviously have it's issues here and there.  I'm not crying revolution and I'm not being...|||We'd call it Diagon Alley!|||I'm with you, I make a pretty big point of not being a person for people to expect feelings from, I want to be that person but I just feel wrong, someones crying their eyes out and here I am lying...|||Good call but that's just how I read it ^^'|||What about a four dimensional plane.|||Why airplane why not aeroplane?|||Hit them for having the expectation that you should live up to their expectations which is infuriating in and of itself probably.|||It's just because hitting a women is politically incorrect and some women will use that to their advantage.|||What he's saying is that they should assume that if they say something worthy of being hit for, that they should be grateful when they're not hit for it, not expect not to be hit just on the basis...|||Is it particularly common amongst INTP's and other types to just acknowledge another sides point of view even though socially you shouldn't. What I mean by this is I can't have conversation with...'\",\n          \"'I said zero flexibility and little time for dating. Going around sifting through dates to find one that clicks isn't going to be as viable.  That has nothing to do with maintaining a relationship I...|||How you've come to the conclusion I have nothing to offer  merely because I am busy is beyond me.       No not really. Again, more made up stuff.|||okay, this isn't cool.  you're specifically looking to get into a relationship because you're about to enter a life phase where you will not have any resources to give to a relationship?   that is...|||I do take it slow (that's why I'm still single), but I'm not interested in making friends. I  have friends. Enough for my liking. I'm interested in going on dates with the intent of entering a...|||Absolutely not for me. I find the idea repugnant, actually.|||People could have been polite. Maybe average is a more conservative bet. And I'm not claiming I'm a social butterfly. I'm just a normal guy who is introverted but not a social doofus.  I don't...|||I'm probably giving up the online thing here when my next subscription runs out. After that I really don't know where to look. Bars are a definite no. I don't understand where people meet their...|||I've tried both ways, actually. The last few women I have gone out with have gotten really weird and/or ignored my backhanded compliments. I don't know what to do anymore. Seems I get screwed either...|||I'm actually pretty healthy.     Sorry you feel that way. Not sure which ones you met, but assholes exist everywhere. The number isn't anywhere near 99% though.|||If anything I err on the side of being indifferent. Definitely not overeager.|||Yeah my close friends don't live near me anymore.  The issue is that I have been meeting people, a good amount, and nothing works. I want to know why it is that deformed, infirm, mentally unstable,...|||My friends are in worse positions than I am. Asking them isn't going to help.   As far as feedback, not really because that seems like an extraordinarily awkward thing to ask someone you barely...|||So, I'm a 26 year old male who has been striking out time and time again when it comes to relationships. I've been in one relationship my entire life that lasted like 1.5 years and ended when I was...|||I don't think this sort of dating method is very reasonable, and at best, it is counterproductive. Being friends first just throws a wrench in what is normally a smooth dating process. When you fear...|||Never was a kiss.|||I appreciate the feedback. I think I'm just going to tell her we shouldn't hang out unless she can dedicate a decent amount of time to it. What is happening right now is dragging things out and...|||I don't know. After thinking more, I'm on the verge of giving up. It has nothing to do with seeing her infrequently, or not making it official or what have you. It's that she keeps things...|||I don't know. I'm not a model or anything but I'm decent looking. She's drop dead gorgeous and nice and smart. Guys are always after her it seems. But I'm also smarter and have better career...|||I like your answer, but maybe I'm just being optimistic. It is basically, what I've been doing. I can't shake the feeling that she wouldn't be giving me any of her time if she weren't interested and...|||How am I supposed to know if an INFJ just wants to be friends? Things have been very weird with an INFJ I've been seeing. I've been very upfront about my intentions and she essentially told me she...|||Interesting. I find it unusual INFJs are known for taking forever to open up and trust people yet all the responses so far have indicated kissing in 3 or fewer dates....|||My INFJ friend has been with an INTJ, and i don't want to bust your confidence but even though she liked him at first, she soon found out that he was putting her down and felt caged. I can see that...|||Enlighten us infjs. Also indicate your gender and if you initiated.|||Well there was more than that. She also said she was basically trying to figure out if I'm trustworthy and decent.|||Those two things seem at odds. How can you be simultaneously not saying things that need to be said but also being proactively aggressive?|||Pretty much yeah. Women just do not enjoy my company on any level. I'm in the same situation. Never had any female friends, dated one person in my life and it lasted a little less than two years. The...|||I don't think that is going to help me dig myself out of the very clingy seeming hole I dug myself. I basically asked her if she knew I was romantically interested and she responded of course lol...|||I should have just let things proceed at a natural pace. Pretty pissed at myself. About zero chance she speaks to me again.|||I read through most of that thread. From what I can tell I never did anything egregious. Good chance she lost interest after my bluntness though lol.|||I broke that off shortly after my post. I felt like a slime ball. I only did it because people were telling me she's a lost cause and I should see other people. BTW I have a very well developed...|||Update on this. Told her I liked her and got no reassurance she liked me or even that she wasn't interested. Those who said she was ambivalent were right. I'm pretty much calling it off at this point...|||Yeah so I told her and didn't get an affirmation she liked me nor that she didn't. She basically said she had known for a while I like her. Pretty much what I expected. Probably going to call it...|||Is the crystal ball reference supposed to mean your guess is as good as mine or what? Edit: guess not :p|||So I've gone on six or so dates with an INFJ over a 3 month period (she's pretty busy, and me too) and recently I feel like progress has been a little glacial. For a bit I thought she was warming up...|||She hates texting.  And yeah, she told me how picky she was about people recently and that normally she wouldn't give anyone the time of day.|||You would literally have to have an autism spectrum disorder. I would know.  Not to mention you don't tell someone who is just friends how much you like them. That would be more than bizarre.|||It's kind of hard to get to the point of officially dating when you have no idea what is going on in her head. For all I know an attempt to kiss her would result in abject horror and assault...|||Spoke to her last night, she essentially said she likes me a lot and would normally never make any time for people unless she was obligated to. But she also indirectly used the word friend but it...|||So I met an INFJ female a while back, and we've been out like five or so times on a date. They go well, we get along, everything seems nice. I find her very attractive and we have quite a bit in...|||'  I don't know, I kind of have a rule that I don't compliment a female on her appearance until she trusts me. I did compliment her personality a few times.  She is extremely cautious from what I...|||Well, now I have a new question. Went on a second date a few days ago and it went well and she said she wanted to meet up again. The problem is, there hasn't been an ounce of flirting or touching...|||She started initiating with me and asked if I'm free soon. -_-    If there is anything to be learned it is don't play the analysis game. You will lose.|||Expectations of....?|||I don't know. I can't really fault a strong introvert for being wary about someone she doesn't really know. Number 2 is cruel, but it is how modern dating works.    Pretty sure this isn't the...|||I don't know. I can't really fault a strong introvert for being wary about someone she doesn't really know. Number 2 is cruel, but it is how modern dating works.    Pretty sure this isn't the...|||Thanks, option 1 seems most likely. It seems whenever I finally get her to open up there is like a cascade of good conversation that finally ensues, but it is like pulling teeth initially. Then I...|||I'm socially retarded and would know that if a random stranger asked for my contact info then asked me out for drinks or lunch then the person probably isn't interested in just being friends.|||So I shouldn't be deterred by the fact she doesn't really ever reach out to me? I don't enjoy appearing like someone who can't take a hint or who puts someone else in an awkward situation. I worry...|||No this seems to fit her pretty well.|||Thanks for the advice everyone. I appreciate your taking the time to respond.'\",\n          \"'This has to be written with bias or something, I'm not sure how you could even say that truthfully. For some reason you put subjectivity for both God and man? It says nothing.    That makes no...|||??? How?  The main priority of the church is written throughout it's texts for the past nearly 2000 years and reverberated throughout the church's dialogues both before and after the incident about...|||That's an annoying phrasing, as it's just obtuse and confusing to newcomers. I don't blame you for your response there.    Why must the revealed knowledge not speak truth but contain a bias...|||There are no priestly desk jobs. The closest thing you have to being a priest that gets you away from people is being a monk and that in itself is very different.  I am telling you they did it out...|||No, you really won't. You can't just go to an INTP and assume their intelligence level. That would end in failure. Don't be afraid to ask big questions when musing with the INTP and just try to...|||Heresy is, like, the core reason most all Christian in-fighting occurs. Everything else is minor disputes about theological opinions.|||That's exceedingly subjective. See what they're interested in, strike up a conversation about it. Definitely ask them their thoughts.|||To dismiss my concept of it is to dismiss all history on the topic, dismiss what the apostles taught, and literally all sects of Christianity. But fine, whatever.|||Do cool shit, discuss ideas, have patience, don't try to judge personally too quickly or control them. ALSO, make the first move to show you're interested in talking with them.|||I used to feel about the same until I read the book Self-Made Man, where a lesbian 'butch' woman dressed like a man and tried to live as one. She noticed herself being considered a feminine man quite...|||I'm not sure what the hell is going on in this thread but I would like to say I know no ENTJs personally, I don't think. It'd be neat, though.|||All churches are forms of political institutions. Catholic and Orthodox ones have the benefit of being centralized. All sects have declared doctrine in one way or another.  You're speaking against...|||And here is the most boring post in the whole thread.|||What part? If it's the idea of a teaching authority, you have a problem with all church until the 13th century. If it's the idea of a group being guided by the Holy Spirit in their decisions on...|||For Catholics, the church has a dual meaning. The whole of the believers (the Body of Christ) and the political institution. For Catholicism, their teachings of Christ are said to be protected by...|||Priests were relocated to other parishes so they may quiet down the criticism of the time and handle thing themselves. Again, poor decision but that was their decision.  The church's first priority...|||Well sure then. Yes, the church did protect child offenders. The church's reasoning was the image of the church itself and the their leadership's own ignorance of the size of the problem. The church...|||Edit: Based double post|||No, it really isn't. The Bible itself is the canon collection of texts. The Bible was established once the theological and historical work was done to establish the canon and it was not modified...|||Yes, nevermind it because the two claims do not contradict each other at all. I could work through how there is no contradiction if you're struggling.    I wouldn't say all, no. That's a...|||? There's no way to tell? But many of them depend on logic and/or history that contradicts or ruins their claims? Granted there are a few cases of we're yet to be able to know but many of it can...|||The problem of induction is a grand way of humbling yourself about scientific findings when you're younger. It brings into question if what we know is what we could call true.|||Rubix cubes.|||Pantheism makes no sense. I'd advise otherwise. Atheism and Abrahamic Theism are the only two rational choices.|||You, motherfucker.|||What is the meaning of everything? The universe exists. We are to learn to love in it.|||Disappointed 24 year old reporting in.  Good luck, OP.|||This is exceedingly naive. The early church, before scripture, applied their teaching to better society. After scripture, it was held in high esteem as a basis to properly better society. Most work...|||From the Catholic Catechism (list of official teaching) here is how we are to read the Bible:  III. THE HOLY SPIRIT, INTERPRETER OF SCRIPTURE   109 In Sacred Scripture, God speaks to man in a...|||I never liked people pointing to the Scandinavian model for the success of their economic system and not their incredible oil and natural resource supply compared to their small populations.|||While shit just got stupid for a moment. Lets try to get back on track.|||You're pretty smart, you know that?  Look at this fucker, she thinks I'm smart. Pfft.|||Exceedingly poor.|||I've just been told I'm bright, but I'm sure most everyone else says the same to the kids.|||And what of you?|||The most efficient way to remove self-doubt is to stop doubting yourself so much. Faith and trust, nigga.|||You suspect wrongly. I like the chatter and I'm being friendly with you. I seriously do hope you have a good day too.|||Indeed you do. Feel free to ask/argue/chat/or bullshit with me if you want. Have a good one, man.|||I'd say that's a stretch to say. Catholics believe the bible was inspired by God but written by men. Orthodox do too. As they assembled the biblical canon I'd have to say they have the greatest say...|||Edit: Welp.|||I see the arguments for inconsistencies. Sometimes they aren't actually inconsistencies. Sometimes they are. I find the simplest example of a true one being the rabbit that is apparently chewing...|||Sorry to take so long to get back to you, my internet has been screwing up horribly.  As for the answer, there was a considerable amount of things that got me off the atheist train but if I were to...|||The believing portion was a long and arduous process for me. I researched culture as a hobby and eventually I rolled around to religion. It was an interesting topic for me and I eventually began to...|||To your first statement... just... what. Where did that even come from? Of course they can know love, though with God they can know it fully, I'd argue.  As for Hell, it's taken a variety of...|||I'm very mixed on him. His criticism of Christianity (and envy, now that I've seen the video) is, while popular, piss poor and Max Scheler did a wonderful job making an argument otherwise on his...|||People believing in something as incontrovertibly true is what gets people into a murderous rage? Why just the incontrovertibly true? Why not the empirically true? Why not just majority opinion? To...|||Sure thing. Sounds sorta similar to the Epicurean Paradox.  Suffering/free will exists to strengthen the good. If you create a people so they may know love they cannot sincerely know love if they...|||Yo. Christian INTP here.  Anything you want?|||It's not we can make healthy children! it's we only let the healthy babies live! which is the issue. It's a moral issue about the innate value of life.|||249210'\"\n        ],\n        \"semantic_type\": \"\",\n        \"description\": \"\"\n      }\n    }\n  ]\n}"
            }
          },
          "metadata": {},
          "execution_count": 14
        }
      ]
    },
    {
      "cell_type": "code",
      "source": [
        "df=dff"
      ],
      "metadata": {
        "id": "uuRcE3xIunNZ"
      },
      "execution_count": null,
      "outputs": []
    },
    {
      "cell_type": "markdown",
      "metadata": {
        "id": "O8rfTa_CgEPD"
      },
      "source": [
        "### Data splitting"
      ]
    },
    {
      "cell_type": "code",
      "execution_count": null,
      "metadata": {
        "id": "Iu080pgWgEPD"
      },
      "outputs": [],
      "source": [
        "X_train, X_test = train_test_split(df, test_size=.2, stratify=df['type'])"
      ]
    },
    {
      "cell_type": "code",
      "execution_count": null,
      "metadata": {
        "id": "k10jo70sgEPD"
      },
      "outputs": [],
      "source": []
    },
    {
      "cell_type": "code",
      "execution_count": null,
      "metadata": {
        "id": "Oc4vQerrgEPE"
      },
      "outputs": [],
      "source": []
    },
    {
      "cell_type": "markdown",
      "metadata": {
        "id": "hqWVKi_GorxZ"
      },
      "source": [
        "### EDA on training data"
      ]
    },
    {
      "cell_type": "markdown",
      "metadata": {
        "id": "R1zxJpFxorxa"
      },
      "source": [
        "- check NaNs"
      ]
    },
    {
      "cell_type": "code",
      "execution_count": null,
      "metadata": {
        "id": "HVEttSujorxa",
        "colab": {
          "base_uri": "https://localhost:8080/"
        },
        "outputId": "62910558-4a2f-47f6-d583-415d9aa66d81"
      },
      "outputs": [
        {
          "output_type": "execute_result",
          "data": {
            "text/plain": [
              "type     0\n",
              "posts    0\n",
              "dtype: int64"
            ]
          },
          "metadata": {},
          "execution_count": 16
        }
      ],
      "source": [
        "X_train.isna().sum()"
      ]
    },
    {
      "cell_type": "markdown",
      "metadata": {
        "id": "UwjbzVaIorxb"
      },
      "source": [
        "- check duplicates"
      ]
    },
    {
      "cell_type": "code",
      "execution_count": null,
      "metadata": {
        "id": "J_FlBWISorxb",
        "colab": {
          "base_uri": "https://localhost:8080/"
        },
        "outputId": "d836211d-518c-4104-a178-fbf655b8f809"
      },
      "outputs": [
        {
          "output_type": "execute_result",
          "data": {
            "text/plain": [
              "0"
            ]
          },
          "metadata": {},
          "execution_count": 17
        }
      ],
      "source": [
        "X_train.duplicated().sum()"
      ]
    },
    {
      "cell_type": "markdown",
      "metadata": {
        "id": "YjIBFc35orxc"
      },
      "source": [
        "- show a representative sample of data texts to find out required preprocessing steps"
      ]
    },
    {
      "cell_type": "code",
      "execution_count": null,
      "metadata": {
        "id": "zGFKzSCRorxc",
        "colab": {
          "base_uri": "https://localhost:8080/",
          "height": 884
        },
        "outputId": "88b5b380-1843-46b1-8c4a-39c27286ca9c"
      },
      "outputs": [
        {
          "output_type": "execute_result",
          "data": {
            "text/plain": [
              "      type  \\\n",
              "187   INTP   \n",
              "6126  INFP   \n",
              "696   INTP   \n",
              "3016  INFP   \n",
              "5432  ESTP   \n",
              "5694  ENFJ   \n",
              "2197  INFJ   \n",
              "1782  INTJ   \n",
              "2546  INFJ   \n",
              "8253  INTP   \n",
              "\n",
              "                                                                                                                                                                                                                                                                                                                                                                                                                                                                                                                    posts  \n",
              "187   So who is the Rush Limbaugh of the intuitives and the Uncle Ruckus of the Sensors?|||A few weeks and some months not fafe to face social interaction.|||Introverted thinking and extroverted intuition give the ability to pattern seek and logically find a way and correlate information and throw away old information. In reality just make us great at...|||INTPs are the smartest and nowhere getting around it. We suck at social levels until we get older and than we can control the social setting wi...  \n",
              "6126  'I frolic even when people are around|||You're now chatting with a random stranger. Say hi! Official messages from Omegle will not be sent with the label 'Stranger:'. Strangers claiming to represent Omegle are lying. You: hi Stranger:...|||Don't think, just do|||Oh, i got ya, ya now that I read it over structure does not exist much in it. I am incredibly a mess when trying to explain things, no structure what so ever. So do INFP's tend to have no structure...|||I am not sure what you mean. B...  \n",
              "696   'Yes I really have thought a little bit about this too, the poor intx espeically intj, that should be societies next generetaion intellectuals and all that stuff. There is quite a staggering amount of...|||14/15  I hate that bottom left fucker on the korealike flag on question 14. I did not get that one ><'  EDIT: Oh I get it now, it moves counterclockwise 45degreees then 90 then 180 so on ? it...|||Hehe, yep he has grand delusional vision of what he thinks is good and bad, he thinks it is g...  \n",
              "3016  'I'm currently broadcasting.  If anyone is curious, shoot me a PM and I'll give you a link.|||http://www.youtube.com/watch?v=hSo-ttyk31I|||Heh, I'm going to have to admit that I'm a little disappointed in the guarded/muted responses in this thread.  I know you guys are freakier than I like x body part or i like x perfect...|||How have I not come across this thread yet?  This is totally my element.  First thing everyone needs to understand is that sexuality is about as normal as people are.  ...  \n",
              "5432  'Pro-life|||I am married to a major feeler like yourself, he's ESFJ.  He says the exact things you said about your SO. We are difficult to get close to and we are very slow moving with sharing our inner personal...|||I'm not one to just sit and talk, it gets boring after a while. To be honest most friendships I enjoy with other girls are around doing things together.|||She could be an ESTP.  I was never shy with adults as a kid but that could be more nurture than nature.  I can also see how ...  \n",
              "5694  'Sorry, but this is, to put it quite frankly, bullshit.  It's victim blaming at its finest.  The logic here is akin to She was raped because she wore a short skirt.  Almost any psychologist will...|||I've never cheated and wouldn't even dream of it, but I have been cheated on by at least two ex-girlfriends and one ex-wife.    I really can't speak as to why one of the ex-girlfriends cheated, but...|||Congratulations Seeker,  I definitely wish you the best.    I'm at the 6 month mark with my I...  \n",
              "2197  '4w5. I am the opposite of aggressive.|||Another thought: If INFJs do tend to like people who are hard to get, it might have something to do with the whole perfectionist-about-romance thing. I know I've always had a disconnect between the...|||It's funny that everyone seems to be giving examples of shy people as hard to get. For me, the extroverts I get crushes on are the ones I really give up on. It's easier for me to become close to an...|||Quang has it spot-on.  As a 4(w5), I've found mys...  \n",
              "1782  'I've not really seen any sensor-haters here so far... But maybe I've missed them, and I haven't been here for very long.  Seen a lot of posts about sensor-haters though, that's true.  As for...|||My friends used to get really annoyed with me in high school. Whenever they'd start gossiping, I'd make my opinion clear that I don't care and I didn't want to hear it. It was mostly about people I...|||I don't know if it was the way my dad used to describe parenthood or watching my little sister g...  \n",
              "2546  'She strikes me as having a lot of Ne and Fe, but I'm not sure of her type. Why do you type her as INFJ? That's an interesting idea.|||This really resonates, and I think there are a lot of dichotomies inherent in the INFJ personality that result from a Ni-Ti inner world which is possibly the most abstract, detached combination, and...|||I relate to all of this, and it is a curiosity to me because I could write a set of encyclopedias on all the reasons I should be sexually suppressed, and I g...  \n",
              "8253  'ADDD, my friend, it is like you described my personal story step-by-step. You are absolutely right in every detail. Every single one. It is even scary. Listen to his wise words, fellow INTPs, listen...|||My previous relationship was with an INFJ too and everything happened exactly like yours, it was like reading my own story. The understanding/chemistry was perfect and I wonder if I could ever have...|||Ah, in that case I agree with you. Most people (even famous writers - but fame is not re...  "
            ],
            "text/html": [
              "\n",
              "  <div id=\"df-54f14a8f-f9fa-467f-b293-44f00dd74e1b\" class=\"colab-df-container\">\n",
              "    <div>\n",
              "<style scoped>\n",
              "    .dataframe tbody tr th:only-of-type {\n",
              "        vertical-align: middle;\n",
              "    }\n",
              "\n",
              "    .dataframe tbody tr th {\n",
              "        vertical-align: top;\n",
              "    }\n",
              "\n",
              "    .dataframe thead th {\n",
              "        text-align: right;\n",
              "    }\n",
              "</style>\n",
              "<table border=\"1\" class=\"dataframe\">\n",
              "  <thead>\n",
              "    <tr style=\"text-align: right;\">\n",
              "      <th></th>\n",
              "      <th>type</th>\n",
              "      <th>posts</th>\n",
              "    </tr>\n",
              "  </thead>\n",
              "  <tbody>\n",
              "    <tr>\n",
              "      <th>187</th>\n",
              "      <td>INTP</td>\n",
              "      <td>So who is the Rush Limbaugh of the intuitives and the Uncle Ruckus of the Sensors?|||A few weeks and some months not fafe to face social interaction.|||Introverted thinking and extroverted intuition give the ability to pattern seek and logically find a way and correlate information and throw away old information. In reality just make us great at...|||INTPs are the smartest and nowhere getting around it. We suck at social levels until we get older and than we can control the social setting wi...</td>\n",
              "    </tr>\n",
              "    <tr>\n",
              "      <th>6126</th>\n",
              "      <td>INFP</td>\n",
              "      <td>'I frolic even when people are around|||You're now chatting with a random stranger. Say hi! Official messages from Omegle will not be sent with the label 'Stranger:'. Strangers claiming to represent Omegle are lying. You: hi Stranger:...|||Don't think, just do|||Oh, i got ya, ya now that I read it over structure does not exist much in it. I am incredibly a mess when trying to explain things, no structure what so ever. So do INFP's tend to have no structure...|||I am not sure what you mean. B...</td>\n",
              "    </tr>\n",
              "    <tr>\n",
              "      <th>696</th>\n",
              "      <td>INTP</td>\n",
              "      <td>'Yes I really have thought a little bit about this too, the poor intx espeically intj, that should be societies next generetaion intellectuals and all that stuff. There is quite a staggering amount of...|||14/15  I hate that bottom left fucker on the korealike flag on question 14. I did not get that one &gt;&lt;'  EDIT: Oh I get it now, it moves counterclockwise 45degreees then 90 then 180 so on ? it...|||Hehe, yep he has grand delusional vision of what he thinks is good and bad, he thinks it is g...</td>\n",
              "    </tr>\n",
              "    <tr>\n",
              "      <th>3016</th>\n",
              "      <td>INFP</td>\n",
              "      <td>'I'm currently broadcasting.  If anyone is curious, shoot me a PM and I'll give you a link.|||http://www.youtube.com/watch?v=hSo-ttyk31I|||Heh, I'm going to have to admit that I'm a little disappointed in the guarded/muted responses in this thread.  I know you guys are freakier than I like x body part or i like x perfect...|||How have I not come across this thread yet?  This is totally my element.  First thing everyone needs to understand is that sexuality is about as normal as people are.  ...</td>\n",
              "    </tr>\n",
              "    <tr>\n",
              "      <th>5432</th>\n",
              "      <td>ESTP</td>\n",
              "      <td>'Pro-life|||I am married to a major feeler like yourself, he's ESFJ.  He says the exact things you said about your SO. We are difficult to get close to and we are very slow moving with sharing our inner personal...|||I'm not one to just sit and talk, it gets boring after a while. To be honest most friendships I enjoy with other girls are around doing things together.|||She could be an ESTP.  I was never shy with adults as a kid but that could be more nurture than nature.  I can also see how ...</td>\n",
              "    </tr>\n",
              "    <tr>\n",
              "      <th>5694</th>\n",
              "      <td>ENFJ</td>\n",
              "      <td>'Sorry, but this is, to put it quite frankly, bullshit.  It's victim blaming at its finest.  The logic here is akin to She was raped because she wore a short skirt.  Almost any psychologist will...|||I've never cheated and wouldn't even dream of it, but I have been cheated on by at least two ex-girlfriends and one ex-wife.    I really can't speak as to why one of the ex-girlfriends cheated, but...|||Congratulations Seeker,  I definitely wish you the best.    I'm at the 6 month mark with my I...</td>\n",
              "    </tr>\n",
              "    <tr>\n",
              "      <th>2197</th>\n",
              "      <td>INFJ</td>\n",
              "      <td>'4w5. I am the opposite of aggressive.|||Another thought: If INFJs do tend to like people who are hard to get, it might have something to do with the whole perfectionist-about-romance thing. I know I've always had a disconnect between the...|||It's funny that everyone seems to be giving examples of shy people as hard to get. For me, the extroverts I get crushes on are the ones I really give up on. It's easier for me to become close to an...|||Quang has it spot-on.  As a 4(w5), I've found mys...</td>\n",
              "    </tr>\n",
              "    <tr>\n",
              "      <th>1782</th>\n",
              "      <td>INTJ</td>\n",
              "      <td>'I've not really seen any sensor-haters here so far... But maybe I've missed them, and I haven't been here for very long.  Seen a lot of posts about sensor-haters though, that's true.  As for...|||My friends used to get really annoyed with me in high school. Whenever they'd start gossiping, I'd make my opinion clear that I don't care and I didn't want to hear it. It was mostly about people I...|||I don't know if it was the way my dad used to describe parenthood or watching my little sister g...</td>\n",
              "    </tr>\n",
              "    <tr>\n",
              "      <th>2546</th>\n",
              "      <td>INFJ</td>\n",
              "      <td>'She strikes me as having a lot of Ne and Fe, but I'm not sure of her type. Why do you type her as INFJ? That's an interesting idea.|||This really resonates, and I think there are a lot of dichotomies inherent in the INFJ personality that result from a Ni-Ti inner world which is possibly the most abstract, detached combination, and...|||I relate to all of this, and it is a curiosity to me because I could write a set of encyclopedias on all the reasons I should be sexually suppressed, and I g...</td>\n",
              "    </tr>\n",
              "    <tr>\n",
              "      <th>8253</th>\n",
              "      <td>INTP</td>\n",
              "      <td>'ADDD, my friend, it is like you described my personal story step-by-step. You are absolutely right in every detail. Every single one. It is even scary. Listen to his wise words, fellow INTPs, listen...|||My previous relationship was with an INFJ too and everything happened exactly like yours, it was like reading my own story. The understanding/chemistry was perfect and I wonder if I could ever have...|||Ah, in that case I agree with you. Most people (even famous writers - but fame is not re...</td>\n",
              "    </tr>\n",
              "  </tbody>\n",
              "</table>\n",
              "</div>\n",
              "    <div class=\"colab-df-buttons\">\n",
              "\n",
              "  <div class=\"colab-df-container\">\n",
              "    <button class=\"colab-df-convert\" onclick=\"convertToInteractive('df-54f14a8f-f9fa-467f-b293-44f00dd74e1b')\"\n",
              "            title=\"Convert this dataframe to an interactive table.\"\n",
              "            style=\"display:none;\">\n",
              "\n",
              "  <svg xmlns=\"http://www.w3.org/2000/svg\" height=\"24px\" viewBox=\"0 -960 960 960\">\n",
              "    <path d=\"M120-120v-720h720v720H120Zm60-500h600v-160H180v160Zm220 220h160v-160H400v160Zm0 220h160v-160H400v160ZM180-400h160v-160H180v160Zm440 0h160v-160H620v160ZM180-180h160v-160H180v160Zm440 0h160v-160H620v160Z\"/>\n",
              "  </svg>\n",
              "    </button>\n",
              "\n",
              "  <style>\n",
              "    .colab-df-container {\n",
              "      display:flex;\n",
              "      gap: 12px;\n",
              "    }\n",
              "\n",
              "    .colab-df-convert {\n",
              "      background-color: #E8F0FE;\n",
              "      border: none;\n",
              "      border-radius: 50%;\n",
              "      cursor: pointer;\n",
              "      display: none;\n",
              "      fill: #1967D2;\n",
              "      height: 32px;\n",
              "      padding: 0 0 0 0;\n",
              "      width: 32px;\n",
              "    }\n",
              "\n",
              "    .colab-df-convert:hover {\n",
              "      background-color: #E2EBFA;\n",
              "      box-shadow: 0px 1px 2px rgba(60, 64, 67, 0.3), 0px 1px 3px 1px rgba(60, 64, 67, 0.15);\n",
              "      fill: #174EA6;\n",
              "    }\n",
              "\n",
              "    .colab-df-buttons div {\n",
              "      margin-bottom: 4px;\n",
              "    }\n",
              "\n",
              "    [theme=dark] .colab-df-convert {\n",
              "      background-color: #3B4455;\n",
              "      fill: #D2E3FC;\n",
              "    }\n",
              "\n",
              "    [theme=dark] .colab-df-convert:hover {\n",
              "      background-color: #434B5C;\n",
              "      box-shadow: 0px 1px 3px 1px rgba(0, 0, 0, 0.15);\n",
              "      filter: drop-shadow(0px 1px 2px rgba(0, 0, 0, 0.3));\n",
              "      fill: #FFFFFF;\n",
              "    }\n",
              "  </style>\n",
              "\n",
              "    <script>\n",
              "      const buttonEl =\n",
              "        document.querySelector('#df-54f14a8f-f9fa-467f-b293-44f00dd74e1b button.colab-df-convert');\n",
              "      buttonEl.style.display =\n",
              "        google.colab.kernel.accessAllowed ? 'block' : 'none';\n",
              "\n",
              "      async function convertToInteractive(key) {\n",
              "        const element = document.querySelector('#df-54f14a8f-f9fa-467f-b293-44f00dd74e1b');\n",
              "        const dataTable =\n",
              "          await google.colab.kernel.invokeFunction('convertToInteractive',\n",
              "                                                    [key], {});\n",
              "        if (!dataTable) return;\n",
              "\n",
              "        const docLinkHtml = 'Like what you see? Visit the ' +\n",
              "          '<a target=\"_blank\" href=https://colab.research.google.com/notebooks/data_table.ipynb>data table notebook</a>'\n",
              "          + ' to learn more about interactive tables.';\n",
              "        element.innerHTML = '';\n",
              "        dataTable['output_type'] = 'display_data';\n",
              "        await google.colab.output.renderOutput(dataTable, element);\n",
              "        const docLink = document.createElement('div');\n",
              "        docLink.innerHTML = docLinkHtml;\n",
              "        element.appendChild(docLink);\n",
              "      }\n",
              "    </script>\n",
              "  </div>\n",
              "\n",
              "\n",
              "<div id=\"df-c6fcd10d-0564-4350-b0a8-1060a5128139\">\n",
              "  <button class=\"colab-df-quickchart\" onclick=\"quickchart('df-c6fcd10d-0564-4350-b0a8-1060a5128139')\"\n",
              "            title=\"Suggest charts\"\n",
              "            style=\"display:none;\">\n",
              "\n",
              "<svg xmlns=\"http://www.w3.org/2000/svg\" height=\"24px\"viewBox=\"0 0 24 24\"\n",
              "     width=\"24px\">\n",
              "    <g>\n",
              "        <path d=\"M19 3H5c-1.1 0-2 .9-2 2v14c0 1.1.9 2 2 2h14c1.1 0 2-.9 2-2V5c0-1.1-.9-2-2-2zM9 17H7v-7h2v7zm4 0h-2V7h2v10zm4 0h-2v-4h2v4z\"/>\n",
              "    </g>\n",
              "</svg>\n",
              "  </button>\n",
              "\n",
              "<style>\n",
              "  .colab-df-quickchart {\n",
              "      --bg-color: #E8F0FE;\n",
              "      --fill-color: #1967D2;\n",
              "      --hover-bg-color: #E2EBFA;\n",
              "      --hover-fill-color: #174EA6;\n",
              "      --disabled-fill-color: #AAA;\n",
              "      --disabled-bg-color: #DDD;\n",
              "  }\n",
              "\n",
              "  [theme=dark] .colab-df-quickchart {\n",
              "      --bg-color: #3B4455;\n",
              "      --fill-color: #D2E3FC;\n",
              "      --hover-bg-color: #434B5C;\n",
              "      --hover-fill-color: #FFFFFF;\n",
              "      --disabled-bg-color: #3B4455;\n",
              "      --disabled-fill-color: #666;\n",
              "  }\n",
              "\n",
              "  .colab-df-quickchart {\n",
              "    background-color: var(--bg-color);\n",
              "    border: none;\n",
              "    border-radius: 50%;\n",
              "    cursor: pointer;\n",
              "    display: none;\n",
              "    fill: var(--fill-color);\n",
              "    height: 32px;\n",
              "    padding: 0;\n",
              "    width: 32px;\n",
              "  }\n",
              "\n",
              "  .colab-df-quickchart:hover {\n",
              "    background-color: var(--hover-bg-color);\n",
              "    box-shadow: 0 1px 2px rgba(60, 64, 67, 0.3), 0 1px 3px 1px rgba(60, 64, 67, 0.15);\n",
              "    fill: var(--button-hover-fill-color);\n",
              "  }\n",
              "\n",
              "  .colab-df-quickchart-complete:disabled,\n",
              "  .colab-df-quickchart-complete:disabled:hover {\n",
              "    background-color: var(--disabled-bg-color);\n",
              "    fill: var(--disabled-fill-color);\n",
              "    box-shadow: none;\n",
              "  }\n",
              "\n",
              "  .colab-df-spinner {\n",
              "    border: 2px solid var(--fill-color);\n",
              "    border-color: transparent;\n",
              "    border-bottom-color: var(--fill-color);\n",
              "    animation:\n",
              "      spin 1s steps(1) infinite;\n",
              "  }\n",
              "\n",
              "  @keyframes spin {\n",
              "    0% {\n",
              "      border-color: transparent;\n",
              "      border-bottom-color: var(--fill-color);\n",
              "      border-left-color: var(--fill-color);\n",
              "    }\n",
              "    20% {\n",
              "      border-color: transparent;\n",
              "      border-left-color: var(--fill-color);\n",
              "      border-top-color: var(--fill-color);\n",
              "    }\n",
              "    30% {\n",
              "      border-color: transparent;\n",
              "      border-left-color: var(--fill-color);\n",
              "      border-top-color: var(--fill-color);\n",
              "      border-right-color: var(--fill-color);\n",
              "    }\n",
              "    40% {\n",
              "      border-color: transparent;\n",
              "      border-right-color: var(--fill-color);\n",
              "      border-top-color: var(--fill-color);\n",
              "    }\n",
              "    60% {\n",
              "      border-color: transparent;\n",
              "      border-right-color: var(--fill-color);\n",
              "    }\n",
              "    80% {\n",
              "      border-color: transparent;\n",
              "      border-right-color: var(--fill-color);\n",
              "      border-bottom-color: var(--fill-color);\n",
              "    }\n",
              "    90% {\n",
              "      border-color: transparent;\n",
              "      border-bottom-color: var(--fill-color);\n",
              "    }\n",
              "  }\n",
              "</style>\n",
              "\n",
              "  <script>\n",
              "    async function quickchart(key) {\n",
              "      const quickchartButtonEl =\n",
              "        document.querySelector('#' + key + ' button');\n",
              "      quickchartButtonEl.disabled = true;  // To prevent multiple clicks.\n",
              "      quickchartButtonEl.classList.add('colab-df-spinner');\n",
              "      try {\n",
              "        const charts = await google.colab.kernel.invokeFunction(\n",
              "            'suggestCharts', [key], {});\n",
              "      } catch (error) {\n",
              "        console.error('Error during call to suggestCharts:', error);\n",
              "      }\n",
              "      quickchartButtonEl.classList.remove('colab-df-spinner');\n",
              "      quickchartButtonEl.classList.add('colab-df-quickchart-complete');\n",
              "    }\n",
              "    (() => {\n",
              "      let quickchartButtonEl =\n",
              "        document.querySelector('#df-c6fcd10d-0564-4350-b0a8-1060a5128139 button');\n",
              "      quickchartButtonEl.style.display =\n",
              "        google.colab.kernel.accessAllowed ? 'block' : 'none';\n",
              "    })();\n",
              "  </script>\n",
              "</div>\n",
              "\n",
              "    </div>\n",
              "  </div>\n"
            ],
            "application/vnd.google.colaboratory.intrinsic+json": {
              "type": "dataframe",
              "summary": "{\n  \"name\": \"X_train\",\n  \"rows\": 10,\n  \"fields\": [\n    {\n      \"column\": \"type\",\n      \"properties\": {\n        \"dtype\": \"string\",\n        \"num_unique_values\": 6,\n        \"samples\": [\n          \"INTP\",\n          \"INFP\",\n          \"INTJ\"\n        ],\n        \"semantic_type\": \"\",\n        \"description\": \"\"\n      }\n    },\n    {\n      \"column\": \"posts\",\n      \"properties\": {\n        \"dtype\": \"string\",\n        \"num_unique_values\": 10,\n        \"samples\": [\n          \"'She strikes me as having a lot of Ne and Fe, but I'm not sure of her type. Why do you type her as INFJ? That's an interesting idea.|||This really resonates, and I think there are a lot of dichotomies inherent in the INFJ personality that result from a Ni-Ti inner world which is possibly the most abstract, detached combination, and...|||I relate to all of this, and it is a curiosity to me because I could write a set of encyclopedias on all the reasons I should be sexually suppressed, and I guess I am except in a trusted...|||I would suggest finding a time when she is not stressed, but calm and clear, and ask her directly about it. Ask what you've done to cause the problem, and what both of you can do to solve it. You...|||:( Is there a way you can travel or take some time apart? Some people do things like teach english overseas for six weeks in the summer. That is just a random example of the type of thing that could...|||Wow, this is really surreal to read because I definitely relate to all of it. I've ended up with a lot of chronic fatigue too, and I think it is because there is so much pain and problem solving that...|||Both times I ended long term relationships, i took about a year getting the person set us as perfectly as possible, so it would be easy for them. This last time was the hardest, but I made sure he...|||[/I][/COLOR]I have these contrasts, although I mostly feel a lot of inner dichotomies between the Ni-Ti loop and the Fe-Se loop. I can get very lost in the abstract in a lot of unresolved thinking...|||Blue Heron|||Olivia Dunham from Fringe Also Jane Eyre|||I have known and loved many different NF artists and have recently been reflecting on how different various types of imagination can be. I recently went to visit my sister (INFP) and she told me...|||Since I don't know about your profession, his profession, and/or any hobbies involved, I have no idea how you would apply this advice.  I can relate to being attracted to shy, distant guys and am...|||Do you have a place in your house where spiders go to die?|||I now officially hate most of humanity and distrust virtually the whole lot of them. My feelings are especially directed at socially competitive women who bully each other by innocently flirting...|||I'm trying to overcome insecure jealousy now, and am wondering if i'm even ready for a relationship anymore. My first serious relationship I was the jealous type with an INTP guy who felt zero...|||I'm back to thinking he's INFJ. He has way too much Ni and Fe when you talk to him. I think he is just Enneagram 9 like I probably am. I'm also extremely laid back and drawn towards music and dance...|||Are you an INTP?  I'm an INFJ stuck in a Ni-Ti loop :oP|||https://www.youtube.com/watch?v=ZCUCBCL8KKQ rather INFPish, but I'm enough of an NF to be lurvin this one...|||It seems like a reasonable enough question and yet there are those inclined to ingest anything with colorful enough sparkles.|||I'm a little confused, but my main advice to everyone is Don't step in or eat the poop, even if it is rainbow colored - *especially* if it is rainbow colored.|||One thing that surprises me about myself is that I could write an entire encyclopedia set of books to list all the reasons I should be sexually inhibited, but I'm not. I had sexual abuse, a mother...|||I find it helpful to re-contextualize the question into something that can be thought about from a distance.  In life, would it be better to experience physical sensation or feel nothing at all? ...|||I felt terribly isolated in high school and as life progressed it has gradually gotten better. One thing I would tell any young INFJ, especially if lonely and depressed, is that the only certainty is...|||Do you find this true of INFJs, or do you assume people who converse with you in this manner are INFJs?  Coherency is important to me, but having a dominant Perceiving function it is an impossible...|||Human attraction is rather instinctual and random. I've read that by the age of five our impressions of what kinds of people make us feel safe and appeal to us are set. I've noticed in myself that I...|||An abstraction of the abstract.  I'll try to be more specific later, but I find systems of symbols and ideas to be too concrete. Concepts can exist without linguistic definition, so it's like fluid...|||Empathy|||I also agree with those who posted:  Eternal Sunshine of the Spotless Mind  Amelie  As much as I enjoyed the Matrix, I would classify it more as an INTJ head-trip, but still a Ni based...|||May  Carrie  Donnie Darko  Jane Eyre (even a little telepathy going on here)  Nell (although not necessarily because she is an INFJ because she might not be.)|||When reading over lists of ENFP musicians, I have to say I think most of the ones I've seen listed are ESFPs. I have known and worked with several hard-core ENFP musicians and they have no filter...|||This is some of what Jung says about inferior Se in the INFJ, and I find I relate to quite a bit of it. We spend so much time thinking about Ni, that it's easy to forget to think about how we relate...|||Wow, Daniel Day Lewis is a hard-core INFJ. It's great to see such a clear example of a male INFJ. He has the distant objectivity/empathy dichotomy nailed. Thanks for sharing that, @BlackFandango.|||I was a bit more of the initiator, which is also a shock because I'm horrible at flirting and dating. I just take risks when it's important to me. He is much more of a responder than initiator. I...|||I don't think he is an extrovert because his presence is very quiet. One of the first times I met him was after we had all performed on a concert and he just quietly came up and stood next to me and...|||Thanks, chimeric. That is helpful. Like me his main passion is music, but a completely broad range of music, and also astronomy and a sense of meaning and understanding the nature of the universe....|||Based on this he definitely isn't ENFP. He is an unusually good listener and he doesn't talk and move that fast. He will go way out of his way to accommodate people and will stay in a relationship if...|||Thanks, Miya, that is an interesting and helpful approach. I'll have to think about it quite a bit though.  I have links to videos of him performing, but since they aren't anonymous, I hesitate to...|||Perhaps I should mention that the bands he likes to see are often Black Metal or Death Metal, and some have the most intensely dark emotional expression known to mankind, but some of them are about...|||The funny thing is that the guy I'm involved with feels like he falls exactly between the two types. I also have a laid-back, silly streak. There is a confusing way that people whose dominant...|||Trent Reznor   https://www.youtube.com/watch?v=1JXFCq5QaE0|||I agree with the first part. Is it horrible to say that I don't trust anyone, including myself, implicitly in all things?|||I want to draw charcoal images of a particular person and he agreed to it, but the impulse in me to do it is much stronger than what would be normal. I think about it a lot. I think it's that whole...|||In some ways the differences might seem obvious, but sometimes I'll meet someone who is clearly an NF and clearly an N-dom, but a case could be made for either type. What are some of the differences...|||In some ways the differences might seem obvious, but sometimes I'll meet someone who is clearly an NF and clearly an N-dom, but a case could be made for either type. What are some of the differences...|||The character Donny Darko|||Like with most things, I have an inner dichotomy of clinginess and independence. I'm mostly independent, but when I have no one in an environment I can count on, I feel a great deal of pain. I don't...|||NTPs are evil demons who roam the earth to feed on our souls.|||Dear Bratty, Selfish, Manipulative Girl, If we lived in caveman days, I would have knocked you out with a club and dragged you to the nearest village of idiots a year ago, but alas we don't....|||I only take a lead role if I'm working on a people oriented system professionally, like planning a musical or a recital. In that way I'm organized and can plan out rehearsals and cast people well,...|||Clearly, but also nuanced. Metaphor and symbol are an important part of that.  Let me give an example of one type of direct communication I have found ideal. If I'm interacting with a person and...'\",\n          \"'I frolic even when people are around|||You're now chatting with a random stranger. Say hi! Official messages from Omegle will not be sent with the label 'Stranger:'. Strangers claiming to represent Omegle are lying. You: hi Stranger:...|||Don't think, just do|||Oh, i got ya, ya now that I read it over structure does not exist much in it. I am incredibly a mess when trying to explain things, no structure what so ever. So do INFP's tend to have no structure...|||I am not sure what you mean. But, ya I guess my words that day may have been rather INFP. I also Didn't know I was trying to get to the point of anything, seems like I said exactly how it is.|||I click well with ENFP females, Its a great dynamic, the laughter is so insane between me and my ENFP friend. I almost stopped breathing a few times, and laughed my self to tears many times. I...|||Thank you.|||I am so Jealous, groundation is awesome. I went to their tribute to Bob a few years back when they came to Honolulu. So so so great.|||Such a sick video!!!!!  http://www.youtube.com/watch?v=mIpcCzNiN5s&feature=related  Goosebumps every time I watch it.  JAaaaaaaaaaaaaah RAaaaaaaaaaastafaaaaaari!!!|||I ship out for USAF basic training on August 9th. It will be quite the experience, I am looking forward to it.|||Osama Bin Laden|||Irish, Portuguese, Hawaiian, Norwegion.|||Are you a scorpio? I get a strong scorpio vibe from you. But anyways, I would say it is a normal thing to lose friends at that age. Hang in there your are definitely not alone on this one. The...|||Buy some land, have a farm, use sustainable practices. Create your own village.|||I was so excited about my first cooking video I made, I wanted to share it. Although its not your typical cooking instruction with measurements and so forth. Enjoy  ...|||I collect recipes, other than that I dislike clutter, so I get rid of stuff all the time|||http://www.youtube.com/watch?v=L1BDM1oBRJ8|||Drink more water, headaches you are experiencing might be a slight dehydration. I also am having trouble focusing lately. I have not figured it out. One thing I did notice is the more I try to fix it...|||Crow was my next animal after spider, crows are cool.  http://www.youtube.com/watch?v=Rbzgu_qaxPM&feature=related|||Wow 6 spiders so far, maybe an INFP thing or what?|||Just for fun! try it out. it's quick like 15 questions  Also where else should I post this thread so more than just INFP's can join in?  http://www.jerismithready.com/quiz/  You are a Spider!...|||I work my ass off, when I do work, so when I get home relaxing is that much more fantastic|||sex then cuddle...maybe more sex later, followed by cuddling till fall asleep. YAY for beds|||Haiku - Uncyclopedia, the content-free encyclopedia <<<<<< check this out, here is a sample:  x93Alfred Molina Has four extra metal arms I am fucking screwedx94  ~ Spiderman on Doctor Octopus|||fuck fuck fuck fuck fuuuuuuuuuuuuuuuuuuck...... FUUUUUUUUUUUUUUUUUUUUUUUUUUUUUUUUUUUCK.|||USAF basic training, and getting yelled at for 2 months|||I wish I knew|||In a female, turn ons are: Curiosity, playfulness, kindness, honesty, encouraging. Also a deep connection.|||Shawshank Redemption The Beach (the book is better)  there are probably more, just can't think right now  Music: Old school reggae, Bob marley, aswad, black uhuru, toots and the maytals, the...|||Thats something I will take into consideration, thank you.|||Covert manipulative behavior. The boss doesnt like his job, so he always butters me up saying how great I am at this and that. He has already asked me to stay to take a manager position. He wants me...|||Siddhartha Herman Hesse|||I love that shit, I have a puzzle book with math problems I solve while riding the subway, as well as sudoku|||I was fed up with a girlfriend (now ex) and just turned around and walked away. One of the best decisions I ever made.|||OMG, I want to hug you and squeeze you empathy bear, you are so cute and cuddly, I wuv woo|||I concure, also a big fan of certain fungus, psilocybin|||I would say that I am very sensitive to how others feel on their deeper sense, not on the superficial side that they display. Around certain people I have an uneasy feeling in my gut, because they...|||I am hard to get to know. It rubs people the wrong way. But when I share myself, like genuinely share myself I really give to the other person. By give I mean my energy, it is a way to feel connected...|||I would say that I am very sensitive to how others feel on their deeper sense, not on the superficial side that they display. Around certain people I have an uneasy feeling in my gut, because they...|||I scored ESTP  Your Type is  ESTP Extraverted SensingThinkingPerceiving Strength of the preferences % 89125033|||http://www.youtube.com/watch?v=ZvSgLHWR16o I love this song|||People who dont want the deep stuff I act crazy and looney around them  People who do like the deep stuff I act crazy and looney as well as throw in some deep shat.|||Yes, do not compare yourself to others. You should be grateful you are not married. Save up some money and go travel the world.|||A humble man does not know he is humble|||All year round in Hawaii, Cheeeeeeeeeeee whooooooooooooooooooooo|||I could be one of those, may I join you? I also would like to have a partner in crime, its fun to share the experience with someone.|||Im going to start an off grid permaculture farm. Or buy an old bus and turn half of it into an aquaponic garden  All you People should try WWOOFing, google it, its as close as you can get while...|||One simple fact is I am here. You are here, because you asked a question and I am responding. I imagine when I am on my death bed, I would be more proud of the things I did, than the things I did...|||The third-grade teacher calls on Little Ernie and says, Can you use the word `beautiful' twice in the same sentence?  Oh, sure, replies Ernie. Um... Yesterday, my sister came home, told my...|||I say dat some darn good edumakashin, ya dun lurnd, reckon lemme in on yer sekret'\",\n          \"'Sorry, but this is, to put it quite frankly, bullshit.  It's victim blaming at its finest.  The logic here is akin to She was raped because she wore a short skirt.  Almost any psychologist will...|||I've never cheated and wouldn't even dream of it, but I have been cheated on by at least two ex-girlfriends and one ex-wife.    I really can't speak as to why one of the ex-girlfriends cheated, but...|||Congratulations Seeker,  I definitely wish you the best.    I'm at the 6 month mark with my INFJ and it's still going better than fantastic.  I think as long as the ENFJ and INFJ's value systems...|||First, sorry to hear of your loss.    Now, for your question:  xNFJ's tend to be very future-orientated planners.  If, after even the first few dates, we really like someone we will definitely...|||Thanks for all of the replies.  You INFJs are the best!  This weekend was a bit trying in some ways.  We took some visiting from out-of-town friends to some local sites and she wasn't putting up...|||I certainly understand that and I'm not at all suggesting that she should be over it.  What's odd is that when the relationship first started it seemed as though she was the one coming in all guns...|||I'm looking for some advice here.  I'm an ENFJ and I've been with my INFJ girlfriend for 5 months.  We've both said that this is the best relationship we've ever been in.  We really seem to...|||I'd echo the INFJ statement,but I'd also throw fellow ENFJ's into the mix.  Some of my closest friends fall into the xFNJ category and my current girlfriend (who I think will one day become a...|||Right.  Extroversion  \\u2260  Friendliness and Introversion  \\u2260  Being alone  I'm very clearly an extrovert, but I also sometimes crave alone time.  My girlfriend is definitely an introvert, but loves...|||My ex (a fellow ENFJ) had a ton of gay guy friends that she always hung out with.  Maybe you've got something to your theory here.|||Care to explain?  I'm only two months deep with an INFJ and this is probably the best relationship I've ever had, including one that lasted almost 15 years.  I've never had a relationship where so...|||Seeker,  Thanks for the well wishes.  It sounds like you have a real conundrum on your hands.  I haven't been on too much lately, so I was wondering how that was going for you.    Of the serious...|||I've been dating an INFJ for about a month now and I can honestly say that this is the healthiest, most honest, and least guarded relationship I've ever been in.  I feel as though I'm dating the...|||I replied in this thread as opposed to the other one as to not derail the original poster's question over there.  Thanks for asking though.  So far so good.  It's refreshing to date with someone...|||This may not be that helpful, but I can tell you one thing, if she is truly an ENFJ then you aren't stuck in the middle ground.  She's either interested in you or she's completely disinterested.  ...|||Here's how I look at it:  I'm an extremely logical person.  When a friend comes to me with a problem I am usually quite good at breaking it down in a purely factual manner and then presenting it...|||I'm an ENFJ male and my dad is an INTP (mom is also an ENFJ).  I'm not exactly sure what you mean by lack of a connection though.  I felt/feel a connection to both of my parents, but the relationship...|||95066  We are all the same.  I'm a fairly organized person, but you might not realize it because I also subscribe to the pile technique.  What's funny is that my mom, who is also an ENFJ, does...|||We've been talking almost every night for a week or so, but because I was travelling for work we did didn't have our first date until last night.    I'd say it went rather well.  We got on the...|||If I had a dollar for every time I've been accused of overthinking things.....   I talked to her again last night and afterward I sort of came to the same conclusion that you guys are all telling...|||There was a thread on here a few weeks back that kind of got off track where a few of us (Seeker, Eggsies, etc.) were discussing being picky when choosing a potential mate.  Just now I was reading...|||Where are all of the INFP's hiding?  The only one I know is my uncle (he's definitely my favorite on my dad's side).  I'd certainly like to be able to weigh in on this action.    As for INFJs, I...|||I answered yes purely on the merit of the question and not considering any other context.  For example, if you would have asked Do you enjoy being single more than being in a healthy relationship...|||Seeker, you seem like a really cool person.  I just want to wish you the best here.|||I think the thing that we need to remember when it comes to Extrovert v. Introvert, Intuitive v. Sensing, Feeling v. Thinking, and Judging v. Perceiving is that these are not on/off switches.  Each...|||I don't mean to sound arrogant, but I feel like I do deserve what I perceive as a higher quality woman.  I'm not asking for Ms. Perfect, just someone that is intelligent, caring, sane, and that I...|||Just FYI, this isn't necessarily a gender thing.  There are plenty of women that only want to get in a guy's pants.  The last woman I dated (a quintessential ESFP) was like that.  She was a big fan...|||I just meant not dating someone based on reasons that others may not agree with or think I'm being too picky about.    The children thing is kind of a big deal for me due to my past.  My ex-wife...|||Seeker,  I really am sorry if what I said made you feel bad.  That's absolutely the last thing I'd want to do on here.  It's almost like this thread has come full circle though.  I have my criteria...|||The main problem I have with that is that I've always wanted to have a family.  I'm not opposed to adoption, but I'd really like to have my own biological children.  I'd like to date/be married to...|||Yes, pretty much I'd say late 20's to mid 30's.  I'm 34, so that's about what I'm dealing with.    I've gone out with a 24 and a 25 year old in an attempt to beat the system, but the problem I...|||I don't mean to sound cynical with this reply, but I already know it will.  It will get better and then IT WILL GET WORSE...WAY FUCKING WORSE.  There is a period (typically post-college/mid 20's)...|||I've had four romantic relationships in my life that I would say got to a somewhat serious phase.  Two of them cheated.  We're in the same boat there, brother.  It's disgusting.  I've never even...|||I think you hit the nail on the head here.  My ex-wife was 5'4 and about 125lbs when we got married, but after about 8 years of marriage (and no kids to blame) she got past 170lbs.  For years she...|||That's fair.  And blatantly obvious.  I guess I'm just afraid that they will think think it's for purely superficial reasons (it is), but I just want everyone to be happy and for nobody to get their...|||Yeah, that's my big problem.  I tend to be pretty straightforward, but in this case I need to be tactful.|||I've been divorced for about a year-and-a-half now.  I stared dating again about a year ago and in that time I've probably gone out with 6-7 women (only two of them got mildly serious).  What never...|||When the woman I was just dating and I broke up a few weeks back I had the strong intuition that she was hinting at a FWB type setup.  She told me that she wanted to continue to hang out on a regular...|||And not to sound objectifying or anything, but the one that I dated for a bit was also by far the best lover I've ever had - very passionate and very giving.  Maybe that is the case for all of us...|||Yeah, that does sound like a very unhealthy one.  It was mentioned in another thread on here this week, but cheating for an ENFJ is pretty rare.  Good thing you got away from that one.|||I have only once, but unfortunately at the time she wasn't emotionally ready for a serious relationship (I might not have been either) due to very serious relationships that we both had just gotten...|||Someone already kind of hit this topic, but I think that XNFXs are just different when it comes to love/relationships.  Those BS games don't work on NFs.  I just got out of a relationship with an...|||You nailed this.  There aren't too many people I dislike, but if you've wronged me and get the ENFJ version of the door slam then prepare yourself.  Personally my cold is more of a passive...|||I voted INFJ, but...........  there is a caveat.  I think this only applies to them before they open up.  Here is my example:  I met a woman over a year ago that was a childhood/highschool friend...|||Hopefully you guys don't think I was bashing ESFPs from my post, I just think that for a serious romantic relationship the ENFJ - ESFP mix is just not a good one at all.  Y'all are an absolute...|||I'm asking this because to me cheating is such a foreign concept.  I can't even fathom ever doing it.  Back when I was married I remember feeling very guilty because I once ran into a good friend's...|||I just got out of a relationship with one.  The first month or two were spectacular.  She was always looking to have fun and live in the moment...  Then real life caught up.    The negatives I saw...|||I'm sorry for the loss of your grandfather.   I think that sometimes the ENFJ power of intuition can indeed be a curse.  I, too, have been in the situation where I can tell something negative is...|||ENFJs can be pretty controlling if they are not the healthiest or if they are just completely unaware of those tendencies.  Your dad has probably thought about this a lot and has envisioned all of...|||Yes, I'm digging up an old thread, but I just ended things with my ESFP girlfriend last night.  I figured I'd weigh in on this to share another perspective on this type of match up.  I'm actually...'\"\n        ],\n        \"semantic_type\": \"\",\n        \"description\": \"\"\n      }\n    }\n  ]\n}"
            }
          },
          "metadata": {},
          "execution_count": 18
        }
      ],
      "source": [
        "X_train.sample(10)"
      ]
    },
    {
      "cell_type": "markdown",
      "metadata": {
        "id": "UqdSUtbdorxd"
      },
      "source": [
        "- check dataset balancing"
      ]
    },
    {
      "cell_type": "code",
      "execution_count": null,
      "metadata": {
        "id": "JBHrSvXhorxd",
        "colab": {
          "base_uri": "https://localhost:8080/"
        },
        "outputId": "cfa7bd52-e91b-477b-f28e-53c7c57acf5f"
      },
      "outputs": [
        {
          "output_type": "execute_result",
          "data": {
            "text/plain": [
              "type\n",
              "INFP    1466\n",
              "INFJ    1176\n",
              "INTP    1043\n",
              "INTJ     873\n",
              "ENTP     548\n",
              "ENFP     540\n",
              "ISTP     270\n",
              "ISFP     217\n",
              "ENTJ     185\n",
              "ISTJ     164\n",
              "ENFJ     152\n",
              "ISFJ     133\n",
              "ESTP      71\n",
              "ESFP      38\n",
              "ESFJ      33\n",
              "ESTJ      31\n",
              "Name: count, dtype: int64"
            ]
          },
          "metadata": {},
          "execution_count": 65
        }
      ],
      "source": [
        "X_train['type'].value_counts()"
      ]
    },
    {
      "cell_type": "markdown",
      "source": [
        "### Our data not balanced , sure we will see the same proportion in the test\n"
      ],
      "metadata": {
        "id": "uXIQT4yWvj1M"
      }
    },
    {
      "cell_type": "markdown",
      "metadata": {
        "id": "x3wl_crkorxd"
      },
      "source": [
        "- Cleaning and Preprocessing steps:\n",
        "    - 1. The `preprocess_text` function contains the following preprocessing steps:\n",
        "        - Remove mentions and hashtags.\n",
        "        - Remove URLs.\n",
        "        - Remove emojis, symbols, and non-ASCII characters.\n",
        "        - Lowercase the text.\n",
        "        - Handle contractions using `contractions.fix()`.\n",
        "        - Remove punctuation using `text.translate(str.maketrans('', '', string.punctuation))`.\n",
        "        - Remove digits using `re.sub(r'\\d+', '', text)`.\n",
        "        - Remove whitespace using `re.sub(r'\\s+', ' ', text).strip()`.\n",
        "    - 2. The `stem_text` function applies stemming to the text using the Porter Stemmer from NLTK:\n",
        "        - Tokenize the text into words.\n",
        "        - Apply stemming to each word.\n",
        "        - Join the stemmed words back into a single string.\n",
        "\n"
      ]
    },
    {
      "cell_type": "markdown",
      "metadata": {
        "id": "XyJkqK9gorxe"
      },
      "source": [
        "### Cleaning and Preprocessing"
      ]
    },
    {
      "cell_type": "code",
      "execution_count": null,
      "metadata": {
        "id": "FvRhDRfxgEPG"
      },
      "outputs": [],
      "source": [
        "def preprocess_text(text):\n",
        "    # Remove mentions and hashtags\n",
        "    text = re.sub(r'@[A-Za-z0-9_]+|#[A-Za-z0-9_]+', '', text)\n",
        "    # Remove URLs\n",
        "    text = re.sub(r'http\\S+', '', text)\n",
        "    # Remove emojis, symbols, non-ASCII characters\n",
        "    text = re.sub(r'[^\\x00-\\x7F]+', '', text)\n",
        "    # Lowercasing\n",
        "    text = text.lower()\n",
        "    # Handle Contractions (Wee need it before remove punctuation)\n",
        "    text = contractions.fix(text)\n",
        "    # Remove Punctuation\n",
        "    text = text.translate(str.maketrans('', '', string.punctuation))\n",
        "    # Remove digits\n",
        "    text = re.sub(r'\\d+', '', text)\n",
        "    # Remove Whitspace like (  jkl   klkl      fgh  )\n",
        "    text=re.sub(r'\\s+', ' ', text).strip()\n",
        "\n",
        "    return text\n"
      ]
    },
    {
      "cell_type": "code",
      "execution_count": null,
      "metadata": {
        "id": "9KbprLwRgEPG",
        "colab": {
          "base_uri": "https://localhost:8080/"
        },
        "outputId": "455341a8-f946-46f9-c834-683ce954da3c"
      },
      "outputs": [
        {
          "output_type": "stream",
          "name": "stderr",
          "text": [
            "[nltk_data] Downloading package wordnet to /root/nltk_data...\n"
          ]
        },
        {
          "output_type": "execute_result",
          "data": {
            "text/plain": [
              "True"
            ]
          },
          "metadata": {},
          "execution_count": 21
        }
      ],
      "source": [
        "import nltk\n",
        "nltk.download('wordnet')"
      ]
    },
    {
      "cell_type": "code",
      "execution_count": null,
      "metadata": {
        "id": "WiwvKhOdgEPG"
      },
      "outputs": [],
      "source": [
        "from nltk.stem import PorterStemmer\n",
        "#stemmer = PorterStemmer()"
      ]
    },
    {
      "cell_type": "code",
      "source": [
        "def stem_text(text):\n",
        "    # init Porter Stemmer\n",
        "    stemmer = PorterStemmer()\n",
        "    # Tokenize into wordss\n",
        "    words = text.split()\n",
        "    # stemming to each word\n",
        "    stemmed_words = [stemmer.stem(word) for word in words]\n",
        "    # Join the stemmed words back into === > a single string\n",
        "    stemmed_text = ' '.join(stemmed_words)\n",
        "    return stemmed_text"
      ],
      "metadata": {
        "id": "iC18VZ0rv23P"
      },
      "execution_count": null,
      "outputs": []
    },
    {
      "cell_type": "markdown",
      "source": [
        "## We need to test our preprocessing before but it in the pipline"
      ],
      "metadata": {
        "id": "JbrydYgav-XE"
      }
    },
    {
      "cell_type": "code",
      "source": [
        "dff = df.iloc[:,1].apply(preprocess_text)"
      ],
      "metadata": {
        "id": "oxDhioLrv9YM"
      },
      "execution_count": null,
      "outputs": []
    },
    {
      "cell_type": "code",
      "source": [
        "dff=dff.apply(stem_text)\n",
        "dff"
      ],
      "metadata": {
        "colab": {
          "base_uri": "https://localhost:8080/"
        },
        "id": "nz1cnWyawN9f",
        "outputId": "73f76701-bb0f-4ece-c49a-8775c81cf40c"
      },
      "execution_count": null,
      "outputs": [
        {
          "output_type": "execute_result",
          "data": {
            "text/plain": [
              "0       and intj moment sportscent not top ten play prankswhat ha been the most lifechang experi in your life on repeat for most of todaymay the perc experi immers youth last thing my infj friend post on hi facebook befor commit suicid the next day rest in peac enfj sorri to hear of your distress it is onli natur for a relationship to not be perfect all the time in everi moment of exist tri to figur the hard time as time of growth as welcom and stuff game set matchprozac wellbrutin at least thirti m...\n",
              "1       i am find the lack of me in these post veri alarmingsex can be bore if it is in the same posit often for exampl me and my girlfriend are current in an environ where we have to creativ use cowgirl and missionari there is not enoughgiv new mean to game theoryhello entp grin that is all it take than we convers and they do most of the flirt while i acknowledg their presenc and return their word with smooth wordplay and more cheeki grinsthi lack of balanc and hand eye coordinationr iq test i scor...\n",
              "2       good one cours to which i say i know that is my bless and my cursedo be absolut posit that you and your best friend could be an amaz coupl count if so than ye or it is more i could be madli in love in case i reconcil my feel which atno i did not thank you for a linksocal tisi loop and it can stem from ani current topicobsess can be deadli it is like when you are stuck in your own thought and your mind just wander in circl feel truli terribl have you notic how peculiar veget can be all you ha...\n",
              "3       dear intp i enjoy our convers the other day esoter gab about the natur of the univers and the idea that everi rule and social code be arbitrari construct createddear entj sub long time no see sincer alphanon of them all other type hurt in deep existenti way that i want no part ofprob a slide scale that depend on individu prefer like everyth in humanitydraco malfoy also i would say he is either or i am either or though in which stack to me is a somewhat arbitrari distinct to make as i believ ...\n",
              "4       you are firedthat is anoth silli misconcept that approach is logic is go to be the key to unlock whatev it is you think you are entitl to nobodi want to be approach with bsbut guy he realli want to go on a superduperlongass vacat cmon guy hi boss just doe not listen or get it he even approach him logic and everythingnev mind just go on perman vacationtwo month i would not be crazi about the idea if you are realli hi best employe then that is what may be cook him who want their most reliabl a...\n",
              "                                                                                                                                                                                                                                                               ...                                                                                                                                                                                                                                                         \n",
              "8670    just becaus i alway think of cat as fi dom for some reason on websit that have becom a haven for neo nazi such as perci am such a nerd i have been learn dutch on duolingo and i am have so much fun duolingo is the shit oh my god i love thi xdright winger do thi becaus they lack polit consciousnessi doubt it but if they are real then i hope to hell that they are noth like the twilight vampiresi would agre that both are like relat to confid level it make sens to me that someon would be aggress ...\n",
              "8671    soif thi thread alreadi exist someplac els which it doe how the heck to i delet thi one hereooopsi guess i did not look too hard becaus i just start a movi everi enfp should watch threadso thi came up in the you know you are an enfp when thread here we go it is done d thi is not a list of film with enfp in them but rather one that you believ enfp wouldi know that i like up di choos feed myself joy over beat myself up buddi wakefieldquotepuccai have never seen itshockedquot me neither guess w...\n",
              "8672    so mani question when i do these thing i would take the purpl pill pick win lotteri number do whatev i wanti work in a breweri for a coupl year here i do not know if you are familiar with the local microscraft at all but mill st wa the name of it their tankhous is my favorit of anyth locali am go to summon the great and power mr cafebot and hi song of destruct the four horseman ride count your day peopl of earth intro nick the intp male from a basementthi thread is obvious about the textbook...\n",
              "8673    i am veri conflict right now when it come to want children i honestli had no matern instinct whatsoev until recent up until now none of my close friend have had children and iif i had to guess for my closest friend isfj esfp istj xnfp esfj i do not know if thi is correct or not becaus i do not know if they know their type actual the xnfpwhat you said in the last paragraph as a teacher thi frustrat me too there is a trend in educ to combin class more and more to contain a varieti of type of s...\n",
              "8674    it ha been too long sinc i have been on personalitycaf although it doe not seem to have chang one bit but i must say it is good to be back somewher like thi usual i turn to doctor who by the world around mein one dream i have had i wa be chase by a larg shadowi creatur with someon els who i felt i had to save abov all els the dream end after she reach safeti but as for what happenedwel now my avatar is a doctor who clockwork creatur i alway like thi monster becaus it is just a worker tri to ...\n",
              "Name: posts, Length: 8675, dtype: object"
            ]
          },
          "metadata": {},
          "execution_count": 25
        }
      ]
    },
    {
      "cell_type": "markdown",
      "source": [
        "## Before Preprocessing"
      ],
      "metadata": {
        "id": "UCPdu_nIxfHA"
      }
    },
    {
      "cell_type": "code",
      "source": [
        "df.sample(10,random_state=42)"
      ],
      "metadata": {
        "colab": {
          "base_uri": "https://localhost:8080/",
          "height": 884
        },
        "id": "D9NNZCoBxerM",
        "outputId": "1a44f3ad-b53c-4a80-9499-55bbca66c2b8"
      },
      "execution_count": null,
      "outputs": [
        {
          "output_type": "execute_result",
          "data": {
            "text/plain": [
              "      type  \\\n",
              "2802  INTP   \n",
              "2166  INTJ   \n",
              "1919  INTP   \n",
              "360   ENFP   \n",
              "1115  ENTJ   \n",
              "623   INFJ   \n",
              "1741  INTJ   \n",
              "5818  ENTP   \n",
              "1559  ESTJ   \n",
              "7212  INTP   \n",
              "\n",
              "                                                                                                                                                                                                                                                                                                                                                                                                                                                                                                                    posts  \n",
              "2802  'This. When I lie it's to avoid an unreasonable response for something I did that was completely justifiable to me but if I was to try to justify to someone else they'd be too hung up on what I did. I...|||Your IQ (SD15): 128|||I typically have very difficult times maintaining friends I've come to realize. I've had people I talk to for years and I still don't want to talk to them... I DID, but then I just got bored of them,...|||An INTJ friend of mine told me she really hates eating because ...  \n",
              "2166  'I said zero flexibility and little time for dating. Going around sifting through dates to find one that clicks isn't going to be as viable.  That has nothing to do with maintaining a relationship I...|||How you've come to the conclusion I have nothing to offer  merely because I am busy is beyond me.       No not really. Again, more made up stuff.|||okay, this isn't cool.  you're specifically looking to get into a relationship because you're about to enter a life phase where you will not hav...  \n",
              "1919  'This has to be written with bias or something, I'm not sure how you could even say that truthfully. For some reason you put subjectivity for both God and man? It says nothing.    That makes no...|||??? How?  The main priority of the church is written throughout it's texts for the past nearly 2000 years and reverberated throughout the church's dialogues both before and after the incident about...|||That's an annoying phrasing, as it's just obtuse and confusing to newcomers. I don't blame you...  \n",
              "360   'HAuhuHAuh You might be right Muhicz. I'm just wondering if these steps come exactly the same ages like it said, it's tought to believe scientifically... but, it doesn't really matter, the point is...|||Thank you, MisterJordan. Your words are helpfull. It helps me to think that the conflicting beetwen Fi and Ti could be an inner development of myself, improving who I am. But I must say I'm not the...|||I've read about the Fe and Fi functions, I'm a Fi. I also know well about the MBTI types, ...  \n",
              "1115  'Her parents are kind of the go to college = good job people, and they want her to have a stable career. She on the other hand, wants to travel, perhaps teach English in foreign lands (especially in...|||I have a friend who is going through this crisis.   She is about to graduate high school, and has absolutely know idea what to do with her life. She doesn't have anything she's really passionate...|||I recently met a few waitresses at one restaurant in my town who served for a living. I know...  \n",
              "623   'that's so ironic, considering how your signature is cats are the better people.. cats are known to kill or play with their prey for fun. you think that's wrong because that's how you were...|||ooh, I'm a virgo rising INFJ! virgo is also one of my fav zodiac signs.  INFJ's is that kind and honest childhood friend who even after years of not talking would be happy to check up on you and...|||I'm consumed by machiavellianism in dark periods of my life. I sometimes just get fed up by all the fa...  \n",
              "1741  'Well said , Codger.|||You will like it. :proud:|||Never mind. Apologies for the intrusion.|||True.  Hey Cetanu. Been a while. How ya doin ?|||Hey ChancyRose, how are ya ? Add me to that list too. The punching bag thing didn't really work...|||I've got mine on; and the world is still retarded....among other things.|||Good luck.|||u200b Good morning people..|||Anyway... Nothing to do but go to bed and deal with whatever bullshit my subconscious has in store for me. At least it would be a chan...  \n",
              "5818  'Just curious. I realise this is a bit of a stupid question, and bound to generalisations, but would there be anything the way NFs look, dress etc which is distinguishable from others?|||I can relate to this so much it's ridiculous|||Nothing goes unnoticed.|||I 'deal' with loneliness by:  - Rationalising and shooing it away (only works less than half of the time) - Focusing on my main current goal (successfully used loneliness as an excuse to do well...|||Aerospace Engineering (check) Civil ...  \n",
              "1559  Boring means men who are usually quite and self absorbed when I'm with them ,I like men who know how to start a meaningful conversation and have a good sense of humor to make me laugh and flirt with...|||Well most important thing according to me would be ,yes definitely he shouldn't be a boring person ,also I prefer men who are good looking but are concerned about their health more than their looks,...|||That's some good and sensible advice you gave here for people who want to get a tattoo f...  \n",
              "7212  'I can seem like an INTJ or like an INFJ at times.    Can't be any of the SJ types.|||Definitely not. Social skills can be practiced and enhanced. I find socialization and public speaking easy and simple.|||Shyness and insecurity are not related to being extroverted/introverted.  Perhaps you were always an extrovert but were restraining yourself form getting the socialization you craved, because of...|||An ESTJ figurehead  An INTP actually cleverly planning everything  An ENTJ to boss around...  "
            ],
            "text/html": [
              "\n",
              "  <div id=\"df-162e9d35-edca-4b2d-86a3-d00978060595\" class=\"colab-df-container\">\n",
              "    <div>\n",
              "<style scoped>\n",
              "    .dataframe tbody tr th:only-of-type {\n",
              "        vertical-align: middle;\n",
              "    }\n",
              "\n",
              "    .dataframe tbody tr th {\n",
              "        vertical-align: top;\n",
              "    }\n",
              "\n",
              "    .dataframe thead th {\n",
              "        text-align: right;\n",
              "    }\n",
              "</style>\n",
              "<table border=\"1\" class=\"dataframe\">\n",
              "  <thead>\n",
              "    <tr style=\"text-align: right;\">\n",
              "      <th></th>\n",
              "      <th>type</th>\n",
              "      <th>posts</th>\n",
              "    </tr>\n",
              "  </thead>\n",
              "  <tbody>\n",
              "    <tr>\n",
              "      <th>2802</th>\n",
              "      <td>INTP</td>\n",
              "      <td>'This. When I lie it's to avoid an unreasonable response for something I did that was completely justifiable to me but if I was to try to justify to someone else they'd be too hung up on what I did. I...|||Your IQ (SD15): 128|||I typically have very difficult times maintaining friends I've come to realize. I've had people I talk to for years and I still don't want to talk to them... I DID, but then I just got bored of them,...|||An INTJ friend of mine told me she really hates eating because ...</td>\n",
              "    </tr>\n",
              "    <tr>\n",
              "      <th>2166</th>\n",
              "      <td>INTJ</td>\n",
              "      <td>'I said zero flexibility and little time for dating. Going around sifting through dates to find one that clicks isn't going to be as viable.  That has nothing to do with maintaining a relationship I...|||How you've come to the conclusion I have nothing to offer  merely because I am busy is beyond me.       No not really. Again, more made up stuff.|||okay, this isn't cool.  you're specifically looking to get into a relationship because you're about to enter a life phase where you will not hav...</td>\n",
              "    </tr>\n",
              "    <tr>\n",
              "      <th>1919</th>\n",
              "      <td>INTP</td>\n",
              "      <td>'This has to be written with bias or something, I'm not sure how you could even say that truthfully. For some reason you put subjectivity for both God and man? It says nothing.    That makes no...|||??? How?  The main priority of the church is written throughout it's texts for the past nearly 2000 years and reverberated throughout the church's dialogues both before and after the incident about...|||That's an annoying phrasing, as it's just obtuse and confusing to newcomers. I don't blame you...</td>\n",
              "    </tr>\n",
              "    <tr>\n",
              "      <th>360</th>\n",
              "      <td>ENFP</td>\n",
              "      <td>'HAuhuHAuh You might be right Muhicz. I'm just wondering if these steps come exactly the same ages like it said, it's tought to believe scientifically... but, it doesn't really matter, the point is...|||Thank you, MisterJordan. Your words are helpfull. It helps me to think that the conflicting beetwen Fi and Ti could be an inner development of myself, improving who I am. But I must say I'm not the...|||I've read about the Fe and Fi functions, I'm a Fi. I also know well about the MBTI types, ...</td>\n",
              "    </tr>\n",
              "    <tr>\n",
              "      <th>1115</th>\n",
              "      <td>ENTJ</td>\n",
              "      <td>'Her parents are kind of the go to college = good job people, and they want her to have a stable career. She on the other hand, wants to travel, perhaps teach English in foreign lands (especially in...|||I have a friend who is going through this crisis.   She is about to graduate high school, and has absolutely know idea what to do with her life. She doesn't have anything she's really passionate...|||I recently met a few waitresses at one restaurant in my town who served for a living. I know...</td>\n",
              "    </tr>\n",
              "    <tr>\n",
              "      <th>623</th>\n",
              "      <td>INFJ</td>\n",
              "      <td>'that's so ironic, considering how your signature is cats are the better people.. cats are known to kill or play with their prey for fun. you think that's wrong because that's how you were...|||ooh, I'm a virgo rising INFJ! virgo is also one of my fav zodiac signs.  INFJ's is that kind and honest childhood friend who even after years of not talking would be happy to check up on you and...|||I'm consumed by machiavellianism in dark periods of my life. I sometimes just get fed up by all the fa...</td>\n",
              "    </tr>\n",
              "    <tr>\n",
              "      <th>1741</th>\n",
              "      <td>INTJ</td>\n",
              "      <td>'Well said , Codger.|||You will like it. :proud:|||Never mind. Apologies for the intrusion.|||True.  Hey Cetanu. Been a while. How ya doin ?|||Hey ChancyRose, how are ya ? Add me to that list too. The punching bag thing didn't really work...|||I've got mine on; and the world is still retarded....among other things.|||Good luck.|||u200b Good morning people..|||Anyway... Nothing to do but go to bed and deal with whatever bullshit my subconscious has in store for me. At least it would be a chan...</td>\n",
              "    </tr>\n",
              "    <tr>\n",
              "      <th>5818</th>\n",
              "      <td>ENTP</td>\n",
              "      <td>'Just curious. I realise this is a bit of a stupid question, and bound to generalisations, but would there be anything the way NFs look, dress etc which is distinguishable from others?|||I can relate to this so much it's ridiculous|||Nothing goes unnoticed.|||I 'deal' with loneliness by:  - Rationalising and shooing it away (only works less than half of the time) - Focusing on my main current goal (successfully used loneliness as an excuse to do well...|||Aerospace Engineering (check) Civil ...</td>\n",
              "    </tr>\n",
              "    <tr>\n",
              "      <th>1559</th>\n",
              "      <td>ESTJ</td>\n",
              "      <td>Boring means men who are usually quite and self absorbed when I'm with them ,I like men who know how to start a meaningful conversation and have a good sense of humor to make me laugh and flirt with...|||Well most important thing according to me would be ,yes definitely he shouldn't be a boring person ,also I prefer men who are good looking but are concerned about their health more than their looks,...|||That's some good and sensible advice you gave here for people who want to get a tattoo f...</td>\n",
              "    </tr>\n",
              "    <tr>\n",
              "      <th>7212</th>\n",
              "      <td>INTP</td>\n",
              "      <td>'I can seem like an INTJ or like an INFJ at times.    Can't be any of the SJ types.|||Definitely not. Social skills can be practiced and enhanced. I find socialization and public speaking easy and simple.|||Shyness and insecurity are not related to being extroverted/introverted.  Perhaps you were always an extrovert but were restraining yourself form getting the socialization you craved, because of...|||An ESTJ figurehead  An INTP actually cleverly planning everything  An ENTJ to boss around...</td>\n",
              "    </tr>\n",
              "  </tbody>\n",
              "</table>\n",
              "</div>\n",
              "    <div class=\"colab-df-buttons\">\n",
              "\n",
              "  <div class=\"colab-df-container\">\n",
              "    <button class=\"colab-df-convert\" onclick=\"convertToInteractive('df-162e9d35-edca-4b2d-86a3-d00978060595')\"\n",
              "            title=\"Convert this dataframe to an interactive table.\"\n",
              "            style=\"display:none;\">\n",
              "\n",
              "  <svg xmlns=\"http://www.w3.org/2000/svg\" height=\"24px\" viewBox=\"0 -960 960 960\">\n",
              "    <path d=\"M120-120v-720h720v720H120Zm60-500h600v-160H180v160Zm220 220h160v-160H400v160Zm0 220h160v-160H400v160ZM180-400h160v-160H180v160Zm440 0h160v-160H620v160ZM180-180h160v-160H180v160Zm440 0h160v-160H620v160Z\"/>\n",
              "  </svg>\n",
              "    </button>\n",
              "\n",
              "  <style>\n",
              "    .colab-df-container {\n",
              "      display:flex;\n",
              "      gap: 12px;\n",
              "    }\n",
              "\n",
              "    .colab-df-convert {\n",
              "      background-color: #E8F0FE;\n",
              "      border: none;\n",
              "      border-radius: 50%;\n",
              "      cursor: pointer;\n",
              "      display: none;\n",
              "      fill: #1967D2;\n",
              "      height: 32px;\n",
              "      padding: 0 0 0 0;\n",
              "      width: 32px;\n",
              "    }\n",
              "\n",
              "    .colab-df-convert:hover {\n",
              "      background-color: #E2EBFA;\n",
              "      box-shadow: 0px 1px 2px rgba(60, 64, 67, 0.3), 0px 1px 3px 1px rgba(60, 64, 67, 0.15);\n",
              "      fill: #174EA6;\n",
              "    }\n",
              "\n",
              "    .colab-df-buttons div {\n",
              "      margin-bottom: 4px;\n",
              "    }\n",
              "\n",
              "    [theme=dark] .colab-df-convert {\n",
              "      background-color: #3B4455;\n",
              "      fill: #D2E3FC;\n",
              "    }\n",
              "\n",
              "    [theme=dark] .colab-df-convert:hover {\n",
              "      background-color: #434B5C;\n",
              "      box-shadow: 0px 1px 3px 1px rgba(0, 0, 0, 0.15);\n",
              "      filter: drop-shadow(0px 1px 2px rgba(0, 0, 0, 0.3));\n",
              "      fill: #FFFFFF;\n",
              "    }\n",
              "  </style>\n",
              "\n",
              "    <script>\n",
              "      const buttonEl =\n",
              "        document.querySelector('#df-162e9d35-edca-4b2d-86a3-d00978060595 button.colab-df-convert');\n",
              "      buttonEl.style.display =\n",
              "        google.colab.kernel.accessAllowed ? 'block' : 'none';\n",
              "\n",
              "      async function convertToInteractive(key) {\n",
              "        const element = document.querySelector('#df-162e9d35-edca-4b2d-86a3-d00978060595');\n",
              "        const dataTable =\n",
              "          await google.colab.kernel.invokeFunction('convertToInteractive',\n",
              "                                                    [key], {});\n",
              "        if (!dataTable) return;\n",
              "\n",
              "        const docLinkHtml = 'Like what you see? Visit the ' +\n",
              "          '<a target=\"_blank\" href=https://colab.research.google.com/notebooks/data_table.ipynb>data table notebook</a>'\n",
              "          + ' to learn more about interactive tables.';\n",
              "        element.innerHTML = '';\n",
              "        dataTable['output_type'] = 'display_data';\n",
              "        await google.colab.output.renderOutput(dataTable, element);\n",
              "        const docLink = document.createElement('div');\n",
              "        docLink.innerHTML = docLinkHtml;\n",
              "        element.appendChild(docLink);\n",
              "      }\n",
              "    </script>\n",
              "  </div>\n",
              "\n",
              "\n",
              "<div id=\"df-aff611ba-a78f-4379-916a-b29c3a80cffe\">\n",
              "  <button class=\"colab-df-quickchart\" onclick=\"quickchart('df-aff611ba-a78f-4379-916a-b29c3a80cffe')\"\n",
              "            title=\"Suggest charts\"\n",
              "            style=\"display:none;\">\n",
              "\n",
              "<svg xmlns=\"http://www.w3.org/2000/svg\" height=\"24px\"viewBox=\"0 0 24 24\"\n",
              "     width=\"24px\">\n",
              "    <g>\n",
              "        <path d=\"M19 3H5c-1.1 0-2 .9-2 2v14c0 1.1.9 2 2 2h14c1.1 0 2-.9 2-2V5c0-1.1-.9-2-2-2zM9 17H7v-7h2v7zm4 0h-2V7h2v10zm4 0h-2v-4h2v4z\"/>\n",
              "    </g>\n",
              "</svg>\n",
              "  </button>\n",
              "\n",
              "<style>\n",
              "  .colab-df-quickchart {\n",
              "      --bg-color: #E8F0FE;\n",
              "      --fill-color: #1967D2;\n",
              "      --hover-bg-color: #E2EBFA;\n",
              "      --hover-fill-color: #174EA6;\n",
              "      --disabled-fill-color: #AAA;\n",
              "      --disabled-bg-color: #DDD;\n",
              "  }\n",
              "\n",
              "  [theme=dark] .colab-df-quickchart {\n",
              "      --bg-color: #3B4455;\n",
              "      --fill-color: #D2E3FC;\n",
              "      --hover-bg-color: #434B5C;\n",
              "      --hover-fill-color: #FFFFFF;\n",
              "      --disabled-bg-color: #3B4455;\n",
              "      --disabled-fill-color: #666;\n",
              "  }\n",
              "\n",
              "  .colab-df-quickchart {\n",
              "    background-color: var(--bg-color);\n",
              "    border: none;\n",
              "    border-radius: 50%;\n",
              "    cursor: pointer;\n",
              "    display: none;\n",
              "    fill: var(--fill-color);\n",
              "    height: 32px;\n",
              "    padding: 0;\n",
              "    width: 32px;\n",
              "  }\n",
              "\n",
              "  .colab-df-quickchart:hover {\n",
              "    background-color: var(--hover-bg-color);\n",
              "    box-shadow: 0 1px 2px rgba(60, 64, 67, 0.3), 0 1px 3px 1px rgba(60, 64, 67, 0.15);\n",
              "    fill: var(--button-hover-fill-color);\n",
              "  }\n",
              "\n",
              "  .colab-df-quickchart-complete:disabled,\n",
              "  .colab-df-quickchart-complete:disabled:hover {\n",
              "    background-color: var(--disabled-bg-color);\n",
              "    fill: var(--disabled-fill-color);\n",
              "    box-shadow: none;\n",
              "  }\n",
              "\n",
              "  .colab-df-spinner {\n",
              "    border: 2px solid var(--fill-color);\n",
              "    border-color: transparent;\n",
              "    border-bottom-color: var(--fill-color);\n",
              "    animation:\n",
              "      spin 1s steps(1) infinite;\n",
              "  }\n",
              "\n",
              "  @keyframes spin {\n",
              "    0% {\n",
              "      border-color: transparent;\n",
              "      border-bottom-color: var(--fill-color);\n",
              "      border-left-color: var(--fill-color);\n",
              "    }\n",
              "    20% {\n",
              "      border-color: transparent;\n",
              "      border-left-color: var(--fill-color);\n",
              "      border-top-color: var(--fill-color);\n",
              "    }\n",
              "    30% {\n",
              "      border-color: transparent;\n",
              "      border-left-color: var(--fill-color);\n",
              "      border-top-color: var(--fill-color);\n",
              "      border-right-color: var(--fill-color);\n",
              "    }\n",
              "    40% {\n",
              "      border-color: transparent;\n",
              "      border-right-color: var(--fill-color);\n",
              "      border-top-color: var(--fill-color);\n",
              "    }\n",
              "    60% {\n",
              "      border-color: transparent;\n",
              "      border-right-color: var(--fill-color);\n",
              "    }\n",
              "    80% {\n",
              "      border-color: transparent;\n",
              "      border-right-color: var(--fill-color);\n",
              "      border-bottom-color: var(--fill-color);\n",
              "    }\n",
              "    90% {\n",
              "      border-color: transparent;\n",
              "      border-bottom-color: var(--fill-color);\n",
              "    }\n",
              "  }\n",
              "</style>\n",
              "\n",
              "  <script>\n",
              "    async function quickchart(key) {\n",
              "      const quickchartButtonEl =\n",
              "        document.querySelector('#' + key + ' button');\n",
              "      quickchartButtonEl.disabled = true;  // To prevent multiple clicks.\n",
              "      quickchartButtonEl.classList.add('colab-df-spinner');\n",
              "      try {\n",
              "        const charts = await google.colab.kernel.invokeFunction(\n",
              "            'suggestCharts', [key], {});\n",
              "      } catch (error) {\n",
              "        console.error('Error during call to suggestCharts:', error);\n",
              "      }\n",
              "      quickchartButtonEl.classList.remove('colab-df-spinner');\n",
              "      quickchartButtonEl.classList.add('colab-df-quickchart-complete');\n",
              "    }\n",
              "    (() => {\n",
              "      let quickchartButtonEl =\n",
              "        document.querySelector('#df-aff611ba-a78f-4379-916a-b29c3a80cffe button');\n",
              "      quickchartButtonEl.style.display =\n",
              "        google.colab.kernel.accessAllowed ? 'block' : 'none';\n",
              "    })();\n",
              "  </script>\n",
              "</div>\n",
              "\n",
              "    </div>\n",
              "  </div>\n"
            ],
            "application/vnd.google.colaboratory.intrinsic+json": {
              "type": "dataframe",
              "summary": "{\n  \"name\": \"df\",\n  \"rows\": 10,\n  \"fields\": [\n    {\n      \"column\": \"type\",\n      \"properties\": {\n        \"dtype\": \"string\",\n        \"num_unique_values\": 7,\n        \"samples\": [\n          \"INTP\",\n          \"INTJ\",\n          \"ENTP\"\n        ],\n        \"semantic_type\": \"\",\n        \"description\": \"\"\n      }\n    },\n    {\n      \"column\": \"posts\",\n      \"properties\": {\n        \"dtype\": \"string\",\n        \"num_unique_values\": 10,\n        \"samples\": [\n          \"Boring means men who are usually quite and self absorbed when I'm with them ,I like men who know how to start a meaningful conversation and have a good sense of humor to make me laugh and flirt with...|||Well most important thing according to me would be ,yes definitely he shouldn't be a boring person ,also I prefer men who are good looking but are concerned about their health more than their looks,...|||That's some good and sensible advice you gave here for people who want to get a tattoo for themselves ,I personally think, those people who get a tattoo just for a sex symbol or for bragging that...|||One thing I know about working in technical field is, don't differentiate yourself based on your gender with your colleagues , I myself never felt as if I'm a woman so they won't socialize with me...|||Whatever department or field of technology a woman may be, she would be always judged as incompetent compared to man at first but once you prove your metal and skill in your field ,I don't think...|||ESTJ, I never heard my parents curse in-front of us while growing up ,even sometimes when we used to hear someone using it and try it out just for fun ,we used to get scolded by our parents ,so I...|||Since from my childhood and teenage years I had been very shy and hesitating type ,because my mischievous and unladylike behavior used to get frowned and dislike by my family and people ,a lot .Later...|||I'm a huge fan of Russell Brand ,watching his funny antics and dialogues in his movies make me go ROFL ,apart from that I mostly like Indian stand-up comedians like Sunil Pal, Kapil Sharma,Raju...|||ESTJ,   I usually don't like to see people cry ,but if someone I know, like I really know and am close to him/her, I would go to them and compassionately ask them about their problem and reason of...|||When I feel down ,I usually talk to my elder brother who is very close to me,and more than talking I do the listening ,but only if the other person has something funny ,amusing or motivational to say...|||I really find it quite lovely and heart touching when people despite of hardships and temptation stay honest and truthful ,keep on hardworking and progressing no matter how much suffering or pain...|||No, absolutely not ,because I was always the free-spirit child ,doing what I liked and that is why I was always a source of embarrassment to my parents because they wanted me to be like other...|||My mother is an ISFJ and we argue a lot because she has this habit to self-righteousness even though she would be wrong ,and then to hide her mistake she would start pointing out drawbacks and...|||-We are very entertaining ,even though we are scary kind of people. -We keep things neat and organized ,so less trouble with finding things . -We stay faithful to our relationships which we accept...|||No doubt, ENFPs and INFPs for sure......|||The Ant Sparer   Just be friendly and humorous when interacting with us ,I like smart people with good sense of humor who are friendly in nature.   Be honest ,smart and efficient with us ,don't...|||This is the most laughable excuse I ever heard of for breaking up with a person ,LOL ,seems like you really love this woman or are just jealous because she chose another guy over you, but whatever...|||Since she is a sensor and you are intuitive ,you should keep things in mind that doesn't please her or things that upset her about and try to not repeat them in-front of her .She may not voice her...|||As an ESTJ ,I won't say I never lied in my life or that I don't do it anymore, its just that I don't do it that often .Only when I feel that someone close to me is going get hurt from the truth I...|||ESTJ's are sensitive people if you think it is a flaw .They don't like being lied to ,cheated ,or betrayed upon.  If an ESTJ wants to hurt someone I think they can be really cold and detached with...|||The most practical and workable philosophy won't work if you won't .No matter whatever advice you get here ,if you yourself don't inculcate the decision to change your way of thinking and mindset...|||Yeah I too agree with this point ,at first I was kind of fascinated by tattoos and I myself had planned for getting a tattoo for myself but later when in real life I saw people with tattoos in weird...|||I go with ENFP ,based on my real life experience.|||I usually help people as much it is in my capacity to help them but for people who are close to my heart I do a little extra to help them with all my heart .|||ESTJ and INFP .|||lol .|||Nope ,because you can never get bored with an ESTJ and they are simply irresistible but they are hard to impress too.|||ESTJ ,guess why ?|||My favorite Bollywood movies from that era are ,Saheb ,Bibi Aur Gulam ,Pyaasa ,Amar Prem ,Dharam-Veer , All movies of Meena Kumari ,Sholay ,Padosan, etc,list is very long ,LOL but these are some of...|||what kind of nonsense thread this is ?????|||I liked the Tom Hanks forrest gump very much ,apart from it psycho from 60s is also one of mine favorite ,rest I like all Bollywood movies from retro era to late 90s .|||I like traveling at night more than traveling during day.|||6w5-3w2-8w9,ESTJ, I did that once or twice and I realized, that's a really stupid thing to do,because nobody unless they truly love you would care about how are you feeling .Outside people are just...|||Power to me ,means where I have complete control over my own-self such that ,I have my senses ,my reactions and desires under my control ,nothing fears me,where I'm aware of truth ,free from...|||when you refuse to take substitute  for original.|||Me too, though forgot to mention this in my post.|||Manipulative, dramatic ,stupid and whining people , people with habit of backbiting and liars.|||well ,I want to let go of my anxiety problems which makes my mind blank sometimes ,though so far I somehow manage to come out of it in time but still I don't want to get anxious to start with and...|||6w5-3w2-8w9 ,SP/SX.   I procrastinate when I dislike the task I'm doing ,specially when its boring and uncreative .    I think being one of the intense types ,it creates a lack of desire to...|||I don't think its true that we ignore the people we like ,all those who say that might be lying about it because it obvious when we trust and like someone we cherish them in our life .As for me I...|||For me its the lyrics as well as music of the song,but most importantly music ,I like classical songs most for this reason because even without lyrics just the music of it soothes and pleasures my...|||when you see disorganization of a system and  feel compelled to correct that problem.|||Songs which have very passionate and motivational lyrics ,sad songs that make me realize about truth of life ,songs which keep me grounded to my roots.|||In my case I'm not much of the talkative kind of person,I like things to be said in brief and explicit words ,buttering or lengthy talks test my patience most of the time but if I'm interested in a...|||Though I feel very strongly of things sometimes ,other times I stay just unaffected by them but it's very hard and also uncomfortable for me to express or show my feelings to others ,because I have...|||congrats Ms. Boss :happy:|||I liked the Dracula from Van Helsing movie because he was not only handsome but also knew how to dance,lol. Anyman who can dance is sexy for me .|||LOL, Gud luck .|||Congratulations dear.|||After reading all this I think you should be thankful that you aren't a man and since I respect women ,I won't lash out on you for your such insensible behavior even though it was not me with whom...\",\n          \"'I said zero flexibility and little time for dating. Going around sifting through dates to find one that clicks isn't going to be as viable.  That has nothing to do with maintaining a relationship I...|||How you've come to the conclusion I have nothing to offer  merely because I am busy is beyond me.       No not really. Again, more made up stuff.|||okay, this isn't cool.  you're specifically looking to get into a relationship because you're about to enter a life phase where you will not have any resources to give to a relationship?   that is...|||I do take it slow (that's why I'm still single), but I'm not interested in making friends. I  have friends. Enough for my liking. I'm interested in going on dates with the intent of entering a...|||Absolutely not for me. I find the idea repugnant, actually.|||People could have been polite. Maybe average is a more conservative bet. And I'm not claiming I'm a social butterfly. I'm just a normal guy who is introverted but not a social doofus.  I don't...|||I'm probably giving up the online thing here when my next subscription runs out. After that I really don't know where to look. Bars are a definite no. I don't understand where people meet their...|||I've tried both ways, actually. The last few women I have gone out with have gotten really weird and/or ignored my backhanded compliments. I don't know what to do anymore. Seems I get screwed either...|||I'm actually pretty healthy.     Sorry you feel that way. Not sure which ones you met, but assholes exist everywhere. The number isn't anywhere near 99% though.|||If anything I err on the side of being indifferent. Definitely not overeager.|||Yeah my close friends don't live near me anymore.  The issue is that I have been meeting people, a good amount, and nothing works. I want to know why it is that deformed, infirm, mentally unstable,...|||My friends are in worse positions than I am. Asking them isn't going to help.   As far as feedback, not really because that seems like an extraordinarily awkward thing to ask someone you barely...|||So, I'm a 26 year old male who has been striking out time and time again when it comes to relationships. I've been in one relationship my entire life that lasted like 1.5 years and ended when I was...|||I don't think this sort of dating method is very reasonable, and at best, it is counterproductive. Being friends first just throws a wrench in what is normally a smooth dating process. When you fear...|||Never was a kiss.|||I appreciate the feedback. I think I'm just going to tell her we shouldn't hang out unless she can dedicate a decent amount of time to it. What is happening right now is dragging things out and...|||I don't know. After thinking more, I'm on the verge of giving up. It has nothing to do with seeing her infrequently, or not making it official or what have you. It's that she keeps things...|||I don't know. I'm not a model or anything but I'm decent looking. She's drop dead gorgeous and nice and smart. Guys are always after her it seems. But I'm also smarter and have better career...|||I like your answer, but maybe I'm just being optimistic. It is basically, what I've been doing. I can't shake the feeling that she wouldn't be giving me any of her time if she weren't interested and...|||How am I supposed to know if an INFJ just wants to be friends? Things have been very weird with an INFJ I've been seeing. I've been very upfront about my intentions and she essentially told me she...|||Interesting. I find it unusual INFJs are known for taking forever to open up and trust people yet all the responses so far have indicated kissing in 3 or fewer dates....|||My INFJ friend has been with an INTJ, and i don't want to bust your confidence but even though she liked him at first, she soon found out that he was putting her down and felt caged. I can see that...|||Enlighten us infjs. Also indicate your gender and if you initiated.|||Well there was more than that. She also said she was basically trying to figure out if I'm trustworthy and decent.|||Those two things seem at odds. How can you be simultaneously not saying things that need to be said but also being proactively aggressive?|||Pretty much yeah. Women just do not enjoy my company on any level. I'm in the same situation. Never had any female friends, dated one person in my life and it lasted a little less than two years. The...|||I don't think that is going to help me dig myself out of the very clingy seeming hole I dug myself. I basically asked her if she knew I was romantically interested and she responded of course lol...|||I should have just let things proceed at a natural pace. Pretty pissed at myself. About zero chance she speaks to me again.|||I read through most of that thread. From what I can tell I never did anything egregious. Good chance she lost interest after my bluntness though lol.|||I broke that off shortly after my post. I felt like a slime ball. I only did it because people were telling me she's a lost cause and I should see other people. BTW I have a very well developed...|||Update on this. Told her I liked her and got no reassurance she liked me or even that she wasn't interested. Those who said she was ambivalent were right. I'm pretty much calling it off at this point...|||Yeah so I told her and didn't get an affirmation she liked me nor that she didn't. She basically said she had known for a while I like her. Pretty much what I expected. Probably going to call it...|||Is the crystal ball reference supposed to mean your guess is as good as mine or what? Edit: guess not :p|||So I've gone on six or so dates with an INFJ over a 3 month period (she's pretty busy, and me too) and recently I feel like progress has been a little glacial. For a bit I thought she was warming up...|||She hates texting.  And yeah, she told me how picky she was about people recently and that normally she wouldn't give anyone the time of day.|||You would literally have to have an autism spectrum disorder. I would know.  Not to mention you don't tell someone who is just friends how much you like them. That would be more than bizarre.|||It's kind of hard to get to the point of officially dating when you have no idea what is going on in her head. For all I know an attempt to kiss her would result in abject horror and assault...|||Spoke to her last night, she essentially said she likes me a lot and would normally never make any time for people unless she was obligated to. But she also indirectly used the word friend but it...|||So I met an INFJ female a while back, and we've been out like five or so times on a date. They go well, we get along, everything seems nice. I find her very attractive and we have quite a bit in...|||'  I don't know, I kind of have a rule that I don't compliment a female on her appearance until she trusts me. I did compliment her personality a few times.  She is extremely cautious from what I...|||Well, now I have a new question. Went on a second date a few days ago and it went well and she said she wanted to meet up again. The problem is, there hasn't been an ounce of flirting or touching...|||She started initiating with me and asked if I'm free soon. -_-    If there is anything to be learned it is don't play the analysis game. You will lose.|||Expectations of....?|||I don't know. I can't really fault a strong introvert for being wary about someone she doesn't really know. Number 2 is cruel, but it is how modern dating works.    Pretty sure this isn't the...|||I don't know. I can't really fault a strong introvert for being wary about someone she doesn't really know. Number 2 is cruel, but it is how modern dating works.    Pretty sure this isn't the...|||Thanks, option 1 seems most likely. It seems whenever I finally get her to open up there is like a cascade of good conversation that finally ensues, but it is like pulling teeth initially. Then I...|||I'm socially retarded and would know that if a random stranger asked for my contact info then asked me out for drinks or lunch then the person probably isn't interested in just being friends.|||So I shouldn't be deterred by the fact she doesn't really ever reach out to me? I don't enjoy appearing like someone who can't take a hint or who puts someone else in an awkward situation. I worry...|||No this seems to fit her pretty well.|||Thanks for the advice everyone. I appreciate your taking the time to respond.'\",\n          \"'that's so ironic, considering how your signature is cats are the better people.. cats are known to kill or play with their prey for fun. you think that's wrong because that's how you were...|||ooh, I'm a virgo rising INFJ! virgo is also one of my fav zodiac signs.  INFJ's is that kind and honest childhood friend who even after years of not talking would be happy to check up on you and...|||I'm consumed by machiavellianism in dark periods of my life. I sometimes just get fed up by all the fake people and lies around me that others perceive as truth and reality. So instead to just focus...|||people tend to generally like me and they try to be careful and polite to me as to not offend me, in order to not turn me off. idk if i come off as intimidating or if they think that they need to...|||I get overwhelmingly sarcastic and ironic at the person I'm interested in. That's how flirting comes to me naturally, and I hate it. The person I'm interested in may actually get offended and I...|||Yes. No matter if I end up being the last human on earth or if we all vanish. There is a big big chance that the Big Bang will happen again and things will take their course from the beginning|||https://www.youtube.com/watch?v=g2tMGq6r37Y|||NomadLeviathan   he's an ESFJ, and thanks!:proud:|||i swear i feel bad about ignoring you but i am too shy and boring IRL please understand, i know i'm kinda selfish by doing this|||ZiggyStardust I really like your style!  me on the left :tongue:  379698 379706|||stop yelling at me for crying WHILE im crying! i dont care if you dont like seeing me cry but yelling at me to stop makes it worse|||people call me laid back and chill a lot. also they claim that i am easy to talk to since i am not judgemental. i guess i give off this calm and accepting vibe|||ESFP and ENFJ|||376082  me ft. fake smile for the camera  376090  my cute ESFJ partner sleepin|||When I'm at my best and the healthiest I am definitely the first type.  On rainy days when my self consciousness and anxiety comes to surface I am the second type.|||I still haven't read or researched much about the enneagram types and I've got mistyped a lot in the past.. But I tested myself again some days ago and I think that I'm a type 4.  The bad thing is...|||I'm sure this problem is common among INFJ's who are a little more insecure or too passive/submissive.  I've had people/friends (turned out to be fake) take advantage of me and my kindness. This...|||365506  I definitely would :tongue: The sound of the waterfall would be calming. I just love being around water|||My first name, Vanessa, means butterfly or of Venus in latin. My second name means shining light, or bright one.  INFJ|||extra mozzarella, extra pepperoni and black olives.  or chicken, extra cheese, green pepper and black olives|||Going to an experienced and licensed hypno-psychotherapist has literally changed my life and my outlook on things for the better. I highly recommend it to people who have had issues like me with...|||I'm sorry, I'm still quite new and I am still learning about the MBTI types and how they work. I didn't find any recent thread on this subject so I thought to make one, based on my dilemma.. Looking...|||haha you're cute|||Esfp|||I was thinking about this today.  Do the MBTI types of the parents influence in some way the MBTI type that their kids will be?  I was thinking what kind of parents would most likely raise an...|||364290  front phone cameras aren't very good quality :/|||oh it makes me restless and my hands start shaking.  Cappuccino's make me sleepy though|||Take a shower, dress up and go out for shopping (clothes) and then call my mother telling her the good news. Then we would probably either move or replace all furniture. I'd feel extremely...|||ENTJ or ESTJ|||Honestly, I had about the same thoughts as you 5-6 months ago along with suicidal and depressing thoughts.  I found a good hypnotherapist with whom we clicked right away and he helped me, in just 2...|||Why are you taking her selflessness so personally? You don't have to deal or put up with your mother's kindness. Be glad that she is a good person and mother and treat her like a human being....|||Stop making me feel unwanted and awkward around you.... it makes me rethink everything between us.|||https://www.youtube.com/watch?v=eDyvBGoHejw  not very INFJ, haha|||Greece is probably one of the worst places for INFJ people..  Very Se and extroverted. They are traditional in every aspect. Not very open minded. OFC there are exceptions but I only met about 4-5...|||Whenever I drink I just get incredibly dizzy and sleepy.. If I interact with anyone I get incredibly clingy and pour my heart out to them, maybe actually reveal things that I have kept hidden from...|||Enfj|||Iceland: INFJ  ?|||Iceland and Finland|||you give me this intimidating and confident INTJ vibe. read more about the F and T functions (both of them, not only T!)  to understand them and see which one applies to you the most, since you said...|||Maybe he's insecure and needs constant validation? I feel like that sometimes, I need validation in words more than actions.  Perhaps you should tell him what you wrote here. Tell him that you have...|||is he an INFJ?  If so, don't worry about sounding too cliche or sappy... We do not judge those who are close to our heart, and he will of course be happy to hear affectionate words from you. Try to...|||People misunderstanding you.  They either take my quiet, reserved behavior as an insult or automatically categorize me as boring. To me, it hurts, but I gotta accept the fact that it's not my...|||Intj|||I have taken the enneagram test three times and every time I got a different type. My mood affects my answers a lot.. I was thinking about it yesterday, I know that I am mistyped.   Regarding that...|||yup, the moment I get to know someone better I just get conflicted constantly whenever I try to figure out something about them on my own. I think I need to be more sure of myself and a bit more...|||Either as a partner, sibling, friend, etc....  How do you show someone that you love and care for them?  For me it would be listening to their troubles and empathizing with them as much as I can....|||I used to say yes to everything and generally do everyone's favors but I learned that it's now how you win people's trust and make them like you... I learned how to be more self assertive and I love...|||Let's just say that many people have cried because of my words and actions while I was in my unhealthy phase.   I have two unhealthy phases and it depends on what triggered them: I either act like...|||Forgot to mention how when we started talking he told me that he wants to find a serious relationship because he can't stand being alone. He told me he needs someone by his side to love him and show...|||that's interesting, thanks for your input.  he seems more like a Se individual, definitely.  I guess he's an ESFJ, and despite his kindness and displays of affection I'm still afraid that I might...'\"\n        ],\n        \"semantic_type\": \"\",\n        \"description\": \"\"\n      }\n    }\n  ]\n}"
            }
          },
          "metadata": {},
          "execution_count": 26
        }
      ]
    },
    {
      "cell_type": "markdown",
      "source": [
        "## After Preprocessing"
      ],
      "metadata": {
        "id": "4RR6idpPxjn7"
      }
    },
    {
      "cell_type": "code",
      "source": [
        "dff.sample(10,random_state=42)"
      ],
      "metadata": {
        "colab": {
          "base_uri": "https://localhost:8080/"
        },
        "id": "zyzHm23qxjUN",
        "outputId": "08cbcc62-cc0a-47a3-da0a-d2e847526827"
      },
      "execution_count": null,
      "outputs": [
        {
          "output_type": "execute_result",
          "data": {
            "text/plain": [
              "2802    thi when i lie it is to avoid an unreason respons for someth i did that wa complet justifi to me but if i wa to tri to justifi to someon els they would be too hung up on what i did iyour iq sd i typic have veri difficult time maintain friend i have come to realiz i have had peopl i talk to for year and i still do not want to talk to them i did but then i just got bore of theman intj friend of mine told me she realli hate eat becaus it is so repetit as an intp i do not realli feel bother i do...\n",
              "2166    i said zero flexibl and littl time for date go around sift through date to find one that click is not go to be as viabl that ha noth to do with maintain a relationship ihow you have come to the conclus i have noth to offer mere becaus i am busi is beyond me no not realli again more made up stuffokay thi is not cool you are specif look to get into a relationship becaus you are about to enter a life phase where you will not have ani resourc to give to a relationship that isi do take it slow th...\n",
              "1919    thi ha to be written with bia or someth i am not sure how you could even say that truth for some reason you put subject for both god and man it say noth that make no how the main prioriti of the church is written throughout it is text for the past nearli year and reverber throughout the church dialogu both befor and after the incid aboutthat is an annoy phrase as it is just obtus and confus to newcom i do not blame you for your respons there whi must the reveal knowledg not speak truth but c...\n",
              "360     hauhuhauh you might be right muhicz i am just wonder if these step come exactli the same age like it said it is tought to believ scientif but it doe not realli matter the point isthank you misterjordan your word are helpful it help me to think that the conflict beetwen fi and ti could be an inner develop of myself improv who i am but i must say i am not thei have read about the fe and fi function i am a fi i also know well about the mbti type i have been stdi them the last year fi prefer mea...\n",
              "1115    her parent are kind of the go to colleg good job peopl and they want her to have a stabl career she on the other hand want to travel perhap teach english in foreign land especi ini have a friend who is go through thi crisi she is about to graduat high school and ha absolut know idea what to do with her life she doe not have anyth she is realli passionatei recent met a few waitress at one restaur in my town who serv for a live i know that on paper waiter and bartend make less than minimum wag...\n",
              "623     that is so iron consid how your signatur is cat are the better peopl cat are known to kill or play with their prey for fun you think that is wrong becaus that is how you wereooh i am a virgo rise infj virgo is also one of my fav zodiac sign infj is that kind and honest childhood friend who even after year of not talk would be happi to check up on you andi am consum by machiavellian in dark period of my life i sometim just get fed up by all the fake peopl and lie around me that other perceiv ...\n",
              "1741    well said codgery will like it proudnev mind apolog for the intrusiontru hey cetanu been a while how ya doin hey chancyros how are ya add me to that list too the punch bag thing did not realli worki have got mine on and the world is still retardedamong other thingsgood luckub good morn peopleanyway noth to do but go to bed and deal with whatev bullshit my subconsci ha in store for me at least it would be a chang of sceneryi am sorryi am have one of thoseub daysa is the condit in mani countri...\n",
              "5818    just curiou i realis thi is a bit of a stupid question and bound to generalis but would there be anyth the way nf look dress etc which is distinguish from othersi can relat to thi so much it is ridiculousnoth goe unnoticedi deal with loneli by rationalis and shoo it away onli work less than half of the time focus on my main current goal success use loneli as an excus to do wellaerospac engin check civil engin electron engin econom w busi manag psycholog comput scienc english music physic w a...\n",
              "1559    bore mean men who are usual quit and self absorb when i am with them i like men who know how to start a meaning convers and have a good sens of humor to make me laugh and flirt withwel most import thing accord to me would be ye definit he should not be a bore person also i prefer men who are good look but are concern about their health more than their looksthat is some good and sensibl advic you gave here for peopl who want to get a tattoo for themselv i person think those peopl who get a ta...\n",
              "7212    i can seem like an intj or like an infj at time cannot be ani of the sj typesdefinit not social skill can be practic and enhanc i find social and public speak easi and simpleshy and insecur are not relat to be extrovertedintrovert perhap you were alway an extrovert but were restrain yourself form get the social you crave becaus ofan estj figurehead an intp actual cleverli plan everyth an entj to boss around the slave isfj slave an intj to fill in the practic hole that aris from grand intp sc...\n",
              "Name: posts, dtype: object"
            ]
          },
          "metadata": {},
          "execution_count": 27
        }
      ]
    },
    {
      "cell_type": "code",
      "source": [],
      "metadata": {
        "id": "NJhGIpVYx4ct"
      },
      "execution_count": null,
      "outputs": []
    },
    {
      "cell_type": "markdown",
      "metadata": {
        "id": "Rb8mHRSf2orQ"
      },
      "source": [
        "## Now we will put them together in custum tansformer with pipline :\n"
      ]
    },
    {
      "cell_type": "markdown",
      "metadata": {
        "id": "QuNPTRzqoEJF",
        "tags": []
      },
      "source": [
        "#### Extra: use custom scikit-learn Transformers"
      ]
    },
    {
      "cell_type": "markdown",
      "metadata": {
        "id": "z8rpB602oEJF"
      },
      "source": [
        "Using custom transformers in scikit-learn provides flexibility, reusability, and control over the data transformation process, allowing you to seamlessly integrate with scikit-learn's pipelines, enabling you to combine multiple preprocessing steps and modeling into a single workflow. This makes your code more modular, readable, and easier to maintain."
      ]
    },
    {
      "cell_type": "markdown",
      "metadata": {
        "id": "fjVw-Fb8oEJG",
        "tags": []
      },
      "source": [
        "##### link: https://www.andrewvillazon.com/custom-scikit-learn-transformers/"
      ]
    },
    {
      "cell_type": "code",
      "source": [
        "from sklearn.base import BaseEstimator, TransformerMixin\n",
        "\n",
        "class CustomTransformer(BaseEstimator, TransformerMixin):\n",
        "    def __init__(self):\n",
        "        # self.parameter1 = parameter1\n",
        "        # self.parameter2 = parameter2\n",
        "        pass\n",
        "\n",
        "        # Add any initialization code here\n",
        "\n",
        "    def fit(self, X, y=None):\n",
        "        # Add code for fitting the transformer here\n",
        "        return df\n",
        "\n",
        "    def transform(self, X):\n",
        "        # Add code for transforming the data here\n",
        "        transformed_X = X.copy()  # Example: Just copying the data\n",
        "        transformed_X=transformed_X.iloc[:,1].apply(preprocess_text)\n",
        "        transformed_X=transformed_X.apply(stem_text)\n",
        "        return transformed_X\n",
        "\n",
        "    def fit_transform(self, X, y=None):\n",
        "        # This function combines fit and transform\n",
        "        self.fit(X, y)\n",
        "        return self.transform(X)"
      ],
      "metadata": {
        "id": "qCCJvduXx6v4"
      },
      "execution_count": null,
      "outputs": []
    },
    {
      "cell_type": "code",
      "source": [
        "# Init CustomTransformer\n",
        "custom_transformer = CustomTransformer()\n",
        "\n",
        "# Fit and transform X_train\n",
        "transformed_X_train = custom_transformer.fit_transform(X_train)\n"
      ],
      "metadata": {
        "id": "Vz2A5JRdx6WR"
      },
      "execution_count": null,
      "outputs": []
    },
    {
      "cell_type": "code",
      "source": [
        "transformed_X_train"
      ],
      "metadata": {
        "colab": {
          "base_uri": "https://localhost:8080/"
        },
        "id": "aJn9YvVdy5Yd",
        "outputId": "3515b4e5-e5db-4216-81be-023dcb023b97"
      },
      "execution_count": null,
      "outputs": [
        {
          "output_type": "execute_result",
          "data": {
            "text/plain": [
              "6345    i have been told i have a death glare my wife while she is use to me and ha no fear of me fear for other when i use it i do not even know when i use itthi you are an istp right most of us are fairli plainspoken folksoh yeah that is me got to check you out from a distanc and see what you are all about befor i consid let you in the inner circl onc you are in you are in for life with the except ofi think istp would fare well for that hour period do not expect that most of us would be out do stu...\n",
              "8391    inconsider is a word i see thrown around a lot on thi forum as well as gener describ men and use he pronoun or impli male and to touch on the inconsider part i think it would bewhen i wa littl i want to be an archaeologist then a marin biologist then a detect and now a writer i actual still want to be all these thingsi guess i must be extrem picki i meet peopl and i know just know they are not it they may be for someon els but not for me and at the moment i think i have a lot of grow to do b...\n",
              "342     hahahahahaha i just love my abil to read peopl and manipul convers d mwahaha it make me feel powerfuli hope it went over well d for me when i like a guy i tri to spend time with them as much as i can i go out of my way to see them i smile and laugh a lot when i am around them in the first fewwhen peopl are rude to me i get extrem offend and i pretti much alway fight back immedi but if it is one of my close friend i ignor it and sweep it under the rug i guess i do not mindoop i am a littl lat...\n",
              "3462    i think it is like to be true or close to it if you take in account the irreduc complex system it is the onli solut to the develop of them ps just to provok you guy do youyour argument is logic invalidthat logic structur is a fallacyther is thi injf friend i talk about anyth with heri have written fantasi book though they are terribl wrote them when i wa year old current think of one book i should not type them yet both becaus i need more inform and have finish high school go to colleg next ...\n",
              "7081    i am so sick of base everyth i do off what peopl might think about mei write with my right hand but do almost everyth els sport with my left but then there are sport like tenni and bowl where i realli do not think i have a strong hand just two equallyi know a few istp and they are all pretti cool peopl the one i am most familiar with sometim ha problem with sensit peopl like myself lol he can be an asshol unintent but hei am and i have never had a girlfriend i use to worri about it a lot sti...\n",
              "                                                                                                                                                                                                                                                               ...                                                                                                                                                                                                                                                         \n",
              "2619    quit a vari amount of respons interestingy messag him becaus you want to be friend then you said you messag him on accid your intent do not seem clear i would be quit skeptic of youpurpos or no purpos you continu live not like you realli have a choicewhat trend have you seen for the infp and infp what type do you frequent see them pair up with i agre with your idea that infpestp is extrem rare and not even heard of theirth detailstel him what you have told us then tell us what he tell youyea...\n",
              "4518    veri smilish for an intj oh fellow enfp for some reason i cannot post pictur from my comput here but it is me on my profil pic say hi to all of younot just stand but realli like i simpli seem to get along well with ntsa someon who is neither intp or intj but know peopl of both type i will just say just accept your intp xd look intj will rare suffer that much becaus they do not have a goal theiri must contribut to thi beauti of a thread you intj infp lol it is ok it is not like you are gener ...\n",
              "6625    just want to say all repli to thi thread have been much appreci that and these thread too unsur you were right he burn it when i tire to exploit the fi he delet all of our instagram togeth from hi pageok thank yeah i wa torn between that strategi which i alreadi tri for a week and did not work and tri to fix it in the moment while the emot are still raw i kind of compromisedsorri for host the text on anoth site i am kind of paranoid and embarrass about share thi sort of thing on the www tldr...\n",
              "5767    i know that feel when peopl make me think i alway end up like them if they insult me or say someth rude i end up analyz their person extens just becaus those kind of commentsthey wrote the classicsyeah i am pretti much a tomboy i can overcom it when necessari i have heard them say you clean up nice with a slight hint of surpris in their voic that amus me i am not realli masculineuuum well here is some emot detach ne for ya might add view themselvesoth in term of potenti rather than actual va...\n",
              "3159    the sign in the store are actual tell you to buy a chocol bar realli they are you know that if californian actual use their turn signal it would save live you putth moon of me present be take care of thi the land and sea for time begun a settl march to thing unknowni just want to thank all the poet here and put thi whole thread in my pocket all day it is like you are strip the paint off my wall and use better color so great and so real to me thank you veri much bubbleboy you cover your eye w...\n",
              "Name: posts, Length: 6940, dtype: object"
            ]
          },
          "metadata": {},
          "execution_count": 30
        }
      ]
    },
    {
      "cell_type": "code",
      "source": [
        "# Transform X_test\n",
        "transformed_X_test = custom_transformer.transform(X_test)"
      ],
      "metadata": {
        "id": "q6xL7VmLzGKB"
      },
      "execution_count": null,
      "outputs": []
    },
    {
      "cell_type": "code",
      "source": [
        "transformed_X_test"
      ],
      "metadata": {
        "colab": {
          "base_uri": "https://localhost:8080/"
        },
        "id": "X6cSZijUzLxb",
        "outputId": "66ff9882-bfaa-4e47-c475-a3215c81c54b"
      },
      "execution_count": null,
      "outputs": [
        {
          "output_type": "execute_result",
          "data": {
            "text/plain": [
              "806     enfj theodor twombl infp ami estprefer entp archetyp richard feynman ergo sum your exist is not depend on other human be or even your environ percept of your exist your exist depend on your own thought and action so next timefear itself sinc one ideal of what make a human adult male manli is so wide subject one specif mbti type cannot be assign the titl have establish that my idea of manli is someon likei am atheist when it come to the god of the variou man made religion as we have discov th...\n",
              "6142    when wa your birthday you should watch it as soon as possibl then how wa ameliesuck punch it ha some pretti awesom actionfight scenesth color purpl by alic walker one flew over the cuckoo nest by ken kesey a clockwork orang by anthoni burgress i have not read it yet but i hear it is goodbut ha it is own slanglanguag catcher in the rye jd saling the great gatsbi f scott fitzgerald memoir of a geisha arthur golden the color purpl alic walkeri read quit a bit but not a lot of theth losersthi by...\n",
              "6275    i rememb think i wa an enfj when i join thi forum then i thought i wa an esfj and i eventu realiz that i have been an entj my entir life i also agre with you type yourself asi could not have put thi in better word myself great post dude best wish chri fergusonth titl of thi thread might give you the idea that i am post just to rais my post count but if you think that you are wrong i care about the qualiti of my post and not the quantiti i havei am an entj and i find that i have the coolest f...\n",
              "1257    spacechem still have not manag to finish it but the war of the chosen dlc for xcom is pretti brutal i mean befor the dlc i finish a campaign on command difficulti without much of ai have the same dinner almost everi day afford meat like hamburg or chicken precut veggi and bean with a bunch of sriracha for flavor it is not that i cannot cook anyth els but ii like the idea of meme as open sourc comedi in the sens that a meme provid us with a templat for humor that we are encourag to improvis o...\n",
              "1602    threaten my friend threaten my famili show yourself to be the absolut scum of the earth show yourself that the world can truli be made a better place without you make yourself a murder aoooo i will like thi thread that look can get me go love a good snuggl festi know it is been said befor and i do apolog if the inform is unhelp entheo s post struck a particular chord in how i live my life as well we are fierc guard creatur and whatyou are too nice someon will take advantag of you you seem to...\n",
              "                                                                                                                                                                                                                                                               ...                                                                                                                                                                                                                                                         \n",
              "4453    i think he is some kind of strang isfp actual i use to think he wa intj but hi lyric are heavi on feelingbas content specif fi and ni what baffl me about him howev is thatswordsman of mana what make you think social for gimli i can definit see him as a sodom but not realli sure about he is assert but doe not realli seem focus on control i have not readal introvert function valu past preced in some form or anoth gener peopl who get stuck in their way are peopl who remov themselv from the worl...\n",
              "5179    what etyp sandra maitri is i like her booksi think he is sweet and love e lolgood song but not brilliant it is just bore to type herh is so sexi do not care about hi type he be isfj are you kid he is so damn smart he is veri ration and logic and of cours he is extroverty she could be type sx my favorit from new album i like that for my sevenish side happyhello i am call all trityp the ambassador let us do two thing for fun post here a pictur that best describ you and a song i will start i th...\n",
              "109     how is that even anatom possibleuhhh i am an intp actual i do not know whi it say intj or whi my countri is blackpriv what is blackpriv anyway how doe india even come under that aaaaaand i embarrass to day thiseveryon here seem to be either too fast or too slow am i the onli one here who doe thing at a normal pace be it eat or write or anyth elsethat easi huh well ye that is inde how i reach the conclus i did tri to do a few more but onli drew a blank guess i am not readi to be sherlock yeti...\n",
              "4139    ye you will eventu make friend so long as you leav your apart and associ with peopl gener adult make friend with peopl they work with so that is a good place to start if you do not know what to do the best thing to do is to ask what can i do for you or how can i help thi indic that you are will to help support you are allow her toperson immedi exposur to a damag event like an argument or insult result in be be withdrawn distant uncommun and prone to make irrat conclus prolongedi get tire and...\n",
              "5900    i like that you can see where i am come from and that i am not tri to belittl isfj it is quit difficult for intj and isfj to have discuss about thi topic becaus in describ thewel friendship between intj and isfj are certainli not imposs i have a fairli close male isfj friend and we have never had ani issu or found that he ha bother me in the least butthey are the opposit cognit function as us mean just about everyth we stand for will be unimport and unapp to isfj and vice versa my stepmom is...\n",
              "Name: posts, Length: 1735, dtype: object"
            ]
          },
          "metadata": {},
          "execution_count": 32
        }
      ]
    },
    {
      "cell_type": "code",
      "source": [
        "transformed_X_train.shape , transformed_X_test.shape"
      ],
      "metadata": {
        "colab": {
          "base_uri": "https://localhost:8080/"
        },
        "id": "zyxLE_6UzRJz",
        "outputId": "c4b946c3-d8d1-4999-dad9-ba3176769ae5"
      },
      "execution_count": null,
      "outputs": [
        {
          "output_type": "execute_result",
          "data": {
            "text/plain": [
              "((6940,), (1735,))"
            ]
          },
          "metadata": {},
          "execution_count": 33
        }
      ]
    },
    {
      "cell_type": "code",
      "source": [
        "# Check again if there is any duplication after preprocessing\n",
        "transformed_X_train.duplicated().sum()"
      ],
      "metadata": {
        "colab": {
          "base_uri": "https://localhost:8080/"
        },
        "id": "DFZEn8nYzeCt",
        "outputId": "710d8526-742c-4fe5-f2d6-19f1b985b1ca"
      },
      "execution_count": null,
      "outputs": [
        {
          "output_type": "execute_result",
          "data": {
            "text/plain": [
              "0"
            ]
          },
          "metadata": {},
          "execution_count": 34
        }
      ]
    },
    {
      "cell_type": "code",
      "source": [
        "# import numpy as np\n",
        "# from collections import Counter\n",
        "# from keras.preprocessing.sequence import pad_sequences\n",
        "\n",
        "# def process_text_data(X_train):\n",
        "#     # Step 1: Tokenize the data\n",
        "#     word_counts = Counter()\n",
        "#     for text in X_train:\n",
        "#         word_counts.update(text.split())\n",
        "\n",
        "#     # Create word-to-index and index-to-word mappings\n",
        "#     word2idx = {word: idx + 1 for idx, (word, _) in enumerate(word_counts.most_common())}\n",
        "#     idx2word = {idx: word for word, idx in word2idx.items()}\n",
        "\n",
        "#     # Step 2: Convert text data into sequences of integers\n",
        "#     max_seq_length = max(len(text.split()) for text in X_train)\n",
        "#     sequences = []\n",
        "#     for text in X_train:\n",
        "#         sequence = [word2idx[word] for word in text.split()]\n",
        "#         sequences.append(sequence)\n",
        "\n",
        "#     # Step 3: Pad sequences (if necessary)\n",
        "#     padded_sequences = pad_sequences(sequences, maxlen=max_seq_length)\n",
        "\n",
        "#     return padded_sequences, word2idx, idx2word\n"
      ],
      "metadata": {
        "id": "F859lOZe1uVo"
      },
      "execution_count": null,
      "outputs": []
    },
    {
      "cell_type": "markdown",
      "source": [
        "### `process_text_data` Function Summary\n",
        "\n",
        "This function processes the text data for input to a neural network model.\n",
        "\n",
        "#### Parameters:\n",
        "- `transformed_X_train` (list): A list of strings, where each string represents a document or sentence.\n",
        "\n",
        "#### Returns:\n",
        "- `padded_sequences` (numpy.ndarray): A 2D numpy array representing the padded sequences of word indices.\n",
        "- `word2idx` (dict): A dictionary mapping words to their corresponding indices.\n"
      ],
      "metadata": {
        "id": "B9X6_fFiDQBi"
      }
    },
    {
      "cell_type": "code",
      "source": [
        "from sklearn.feature_extraction.text import CountVectorizer\n",
        "from keras.preprocessing.sequence import pad_sequences\n",
        "\n",
        "def process_text_data(transformed_X_train):\n",
        "    # strings ==> tokens\n",
        "    tokenized_X_train = [doc.split() for doc in transformed_X_train]\n",
        "\n",
        "    # CountVectorizer ==> try to extract unique values\n",
        "    vectorizer = CountVectorizer()\n",
        "\n",
        "    # Join tokenized sentences ==> strings\n",
        "    transformed_X_train_strings = [' '.join(tokens) for tokens in tokenized_X_train]\n",
        "\n",
        "    # Fit on data ==> extract unique words\n",
        "    vectorizer.fit(transformed_X_train_strings)\n",
        "\n",
        "    # unique words and their ==> indices\n",
        "    word2idx = {word: idx + 1 for idx, word in enumerate(vectorizer.get_feature_names_out())}\n",
        "    # index 0 to unknown words\n",
        "    word2idx['<UNK>'] = 0\n",
        "\n",
        "    # sentences ==> sequences of word indices\n",
        "    sequences = []\n",
        "    for tokens in tokenized_X_train:\n",
        "        word_indices = [word2idx.get(word, 0) for word in tokens]\n",
        "        sequences.append(word_indices)\n",
        "\n",
        "    # Paddingg\n",
        "    max_seq_length = max(len(seq) for seq in sequences)\n",
        "    padded_sequences = pad_sequences(sequences, maxlen=max_seq_length, padding='post')\n",
        "\n",
        "    return padded_sequences, word2idx,max_seq_length\n"
      ],
      "metadata": {
        "id": "G1_0bhqw11ik"
      },
      "execution_count": null,
      "outputs": []
    },
    {
      "cell_type": "code",
      "source": [
        "padded_sequences, word2idx,max_seq_length = process_text_data(transformed_X_train)"
      ],
      "metadata": {
        "id": "yU09OfNLBSRM"
      },
      "execution_count": null,
      "outputs": []
    },
    {
      "cell_type": "code",
      "source": [
        "padded_sequences[0].shape,padded_sequences[1].shape"
      ],
      "metadata": {
        "colab": {
          "base_uri": "https://localhost:8080/"
        },
        "id": "WfCPZtA95mLS",
        "outputId": "160374e2-cdec-446d-c61a-c77d57e7d263"
      },
      "execution_count": null,
      "outputs": [
        {
          "output_type": "execute_result",
          "data": {
            "text/plain": [
              "((1910,), (1910,))"
            ]
          },
          "metadata": {},
          "execution_count": 38
        }
      ]
    },
    {
      "cell_type": "code",
      "source": [
        "padded_sequences[0],padded_sequences[1]"
      ],
      "metadata": {
        "colab": {
          "base_uri": "https://localhost:8080/"
        },
        "id": "gXQoq6aEC77q",
        "outputId": "7d154409-fcee-4332-a5b4-a4e4aa871e17"
      },
      "execution_count": null,
      "outputs": [
        {
          "output_type": "execute_result",
          "data": {
            "text/plain": [
              "(array([    0, 80134, 19073, ...,     0,     0,     0], dtype=int32),\n",
              " array([90342, 96220,     0, ...,     0,     0,     0], dtype=int32))"
            ]
          },
          "metadata": {},
          "execution_count": 39
        }
      ]
    },
    {
      "cell_type": "code",
      "source": [
        "max_seq_length"
      ],
      "metadata": {
        "colab": {
          "base_uri": "https://localhost:8080/"
        },
        "id": "S2ywHeomD1p7",
        "outputId": "66077e68-14bd-4ccd-913e-6df800207688"
      },
      "execution_count": null,
      "outputs": [
        {
          "output_type": "execute_result",
          "data": {
            "text/plain": [
              "1910"
            ]
          },
          "metadata": {},
          "execution_count": 40
        }
      ]
    },
    {
      "cell_type": "markdown",
      "source": [
        "## Applay on the test data :-"
      ],
      "metadata": {
        "id": "Bz2-mGvJEVHE"
      }
    },
    {
      "cell_type": "code",
      "source": [
        "def process_text_data(transformed_data, word2idx, max_seq_length):\n",
        "    \"\"\"\n",
        "    Processes the text data for input to a neural network model.\n",
        "\n",
        "    Args:\n",
        "    transformed_data (list): A list of strings, where each string represents a document or sentence.\n",
        "    word2idx (dict): A dictionary mapping words to their corresponding indices.\n",
        "    max_seq_length (int): Maximum sequence length.\n",
        "\n",
        "    Returns:\n",
        "    numpy.ndarray: A 2D numpy array representing the padded sequences of word indices.\n",
        "    \"\"\"\n",
        "    # strings ==> tokens\n",
        "    tokenized_data = [doc.split() for doc in transformed_data]\n",
        "\n",
        "    # sentencee ==> to sequences of word indices\n",
        "    sequences = []\n",
        "    for tokens in tokenized_data:\n",
        "        word_indices = [word2idx.get(word, 0) for word in tokens]\n",
        "        sequences.append(word_indices)\n",
        "\n",
        "    # Padding\n",
        "    padded_sequences = pad_sequences(sequences, maxlen=max_seq_length, padding='post')\n",
        "\n",
        "    return padded_sequences\n"
      ],
      "metadata": {
        "id": "GmpmPWpLEUF_"
      },
      "execution_count": null,
      "outputs": []
    },
    {
      "cell_type": "code",
      "source": [
        "padded_sequences_test = process_text_data(transformed_X_test, word2idx, max_seq_length=padded_sequences.shape[1])"
      ],
      "metadata": {
        "id": "YNDzEV5OEjZS"
      },
      "execution_count": null,
      "outputs": []
    },
    {
      "cell_type": "code",
      "source": [
        "padded_sequences_test[0].shape"
      ],
      "metadata": {
        "colab": {
          "base_uri": "https://localhost:8080/"
        },
        "id": "_Th4mg7QErxB",
        "outputId": "a40e0593-4408-4e1b-81e4-ae6aafb396ab"
      },
      "execution_count": null,
      "outputs": [
        {
          "output_type": "execute_result",
          "data": {
            "text/plain": [
              "(1910,)"
            ]
          },
          "metadata": {},
          "execution_count": 43
        }
      ]
    },
    {
      "cell_type": "code",
      "source": [
        "## In case you have multi-labeles\n",
        "## We need to decode y here\n",
        "from sklearn.preprocessing import LabelEncoder\n",
        "\n",
        "# Initialize LabelEncoder\n",
        "label_encoder = LabelEncoder()\n",
        "\n",
        "# Encode the string labels into integers\n",
        "y_train_encoded = label_encoder.fit_transform(X_train['type'])\n",
        "y_test_encoded = label_encoder.transform(X_test['type'])\n",
        "\n",
        "# Convert the integer labels to one-hot encoded format\n",
        "y_train_categorical = tf.keras.utils.to_categorical(y_train_encoded)\n",
        "y_test_categorical = tf.keras.utils.to_categorical(y_test_encoded)\n"
      ],
      "metadata": {
        "id": "PfxdbX90G3LQ"
      },
      "execution_count": null,
      "outputs": []
    },
    {
      "cell_type": "code",
      "source": [
        "y_test_encoded"
      ],
      "metadata": {
        "colab": {
          "base_uri": "https://localhost:8080/"
        },
        "id": "RIM2pTMwS9i6",
        "outputId": "dfa33853-f665-40b9-b6cf-391b821fd5f2"
      },
      "execution_count": null,
      "outputs": [
        {
          "output_type": "execute_result",
          "data": {
            "text/plain": [
              "array([ 3, 12,  2, ..., 10,  8, 10])"
            ]
          },
          "metadata": {},
          "execution_count": 57
        }
      ]
    },
    {
      "cell_type": "code",
      "source": [
        "y_train_categorical"
      ],
      "metadata": {
        "colab": {
          "base_uri": "https://localhost:8080/"
        },
        "id": "chFmP69ASqMD",
        "outputId": "fdd35e7c-da89-41bb-9d34-25dd5091295a"
      },
      "execution_count": null,
      "outputs": [
        {
          "output_type": "execute_result",
          "data": {
            "text/plain": [
              "array([[0., 0., 0., ..., 0., 0., 1.],\n",
              "       [0., 0., 0., ..., 0., 0., 0.],\n",
              "       [1., 0., 0., ..., 0., 0., 0.],\n",
              "       ...,\n",
              "       [0., 0., 0., ..., 0., 0., 0.],\n",
              "       [0., 0., 0., ..., 0., 0., 0.],\n",
              "       [0., 0., 0., ..., 0., 0., 0.]], dtype=float32)"
            ]
          },
          "metadata": {},
          "execution_count": 54
        }
      ]
    },
    {
      "cell_type": "markdown",
      "metadata": {
        "id": "ba0r1ASHorxf"
      },
      "source": [
        "**You  are doing Great so far!**"
      ]
    },
    {
      "cell_type": "markdown",
      "metadata": {
        "id": "R9BhRQbYorxf"
      },
      "source": [
        "### Modelling"
      ]
    },
    {
      "cell_type": "code",
      "execution_count": null,
      "metadata": {
        "id": "qntHST9YgEPG",
        "colab": {
          "base_uri": "https://localhost:8080/"
        },
        "outputId": "c35af5f9-e9ed-492c-bb31-0932826652f1"
      },
      "outputs": [
        {
          "output_type": "execute_result",
          "data": {
            "text/plain": [
              "221387"
            ]
          },
          "metadata": {},
          "execution_count": 45
        }
      ],
      "source": [
        "VOCAB_SIZE = len(word2idx)\n",
        "VOCAB_SIZE"
      ]
    },
    {
      "cell_type": "code",
      "execution_count": null,
      "metadata": {
        "id": "b_RXRSZ1gEPG"
      },
      "outputs": [],
      "source": [
        "# model = tf.keras.models.Sequential([\n",
        "#     tf.keras.layers.Embedding(VOCAB_SIZE, 128),\n",
        "#     tf.keras.layers.SimpleRNN(64),\n",
        "#     tf.keras.layers.Dense(64, activation='relu'),\n",
        "#     tf.keras.layers.Dense(16, activation='softmax')\n",
        "# ])"
      ]
    },
    {
      "cell_type": "code",
      "execution_count": null,
      "metadata": {
        "id": "R3g-8gpxgEPG"
      },
      "outputs": [],
      "source": [
        "# model.compile(loss=tf.keras.losses.CategoricalCrossentropy,\n",
        "#               optimizer=tf.keras.optimizers.Adam(),\n",
        "#               metrics=['accuracy'])"
      ]
    },
    {
      "cell_type": "code",
      "source": [
        "model = tf.keras.models.Sequential([\n",
        "    tf.keras.layers.Embedding(VOCAB_SIZE, 128),\n",
        "    tf.keras.layers.SimpleRNN(64),\n",
        "    tf.keras.layers.Dense(64, activation='relu'),\n",
        "    tf.keras.layers.Dense(16, activation='softmax')\n",
        "])\n",
        "\n",
        "model.compile(loss=tf.keras.losses.CategoricalCrossentropy(),\n",
        "              optimizer=tf.keras.optimizers.Adam(),\n",
        "              metrics=['accuracy'])\n",
        "\n",
        "history = model.fit(padded_sequences, y_train_categorical, epochs=5, batch_size=128,\n",
        "                    validation_data=(padded_sequences_test, y_test_categorical),\n",
        "                    validation_steps=30)\n"
      ],
      "metadata": {
        "colab": {
          "base_uri": "https://localhost:8080/"
        },
        "id": "qZqhLqHlKaLG",
        "outputId": "b3567a23-952c-402f-8b45-4db8ac0cdea0"
      },
      "execution_count": null,
      "outputs": [
        {
          "output_type": "stream",
          "name": "stdout",
          "text": [
            "Epoch 1/5\n",
            "55/55 [==============================] - ETA: 0s - loss: 2.3986 - accuracy: 0.1833"
          ]
        },
        {
          "output_type": "stream",
          "name": "stderr",
          "text": [
            "WARNING:tensorflow:Your input ran out of data; interrupting training. Make sure that your dataset or generator can generate at least `steps_per_epoch * epochs` batches (in this case, 30 batches). You may need to use the repeat() function when building your dataset.\n"
          ]
        },
        {
          "output_type": "stream",
          "name": "stdout",
          "text": [
            "\b\b\b\b\b\b\b\b\b\b\b\b\b\b\b\b\b\b\b\b\b\b\b\b\b\b\b\b\b\b\b\b\b\b\b\b\b\b\b\b\b\b\b\b\b\b\b\b\b\b\b\b\b\b\b\b\b\b\b\b\b\b\b\b\b\b\b\b\b\b\b\b\b\b\b\b\b\b\b\b\b\b\r55/55 [==============================] - 114s 2s/step - loss: 2.3986 - accuracy: 0.1833 - val_loss: 2.2866 - val_accuracy: 0.2110\n",
            "Epoch 2/5\n",
            "55/55 [==============================] - 109s 2s/step - loss: 2.2878 - accuracy: 0.2112\n",
            "Epoch 3/5\n",
            "55/55 [==============================] - 104s 2s/step - loss: 2.2875 - accuracy: 0.2013\n",
            "Epoch 4/5\n",
            "55/55 [==============================] - 112s 2s/step - loss: 2.2854 - accuracy: 0.2078\n",
            "Epoch 5/5\n",
            "55/55 [==============================] - 104s 2s/step - loss: 2.2838 - accuracy: 0.2112\n"
          ]
        }
      ]
    },
    {
      "cell_type": "markdown",
      "metadata": {
        "id": "85JlkIQXorxg"
      },
      "source": [
        "#### Evaluation"
      ]
    },
    {
      "cell_type": "markdown",
      "metadata": {
        "id": "ovtnbzbhgEPG"
      },
      "source": [
        "**Evaluation metric:**\n",
        "Precision"
      ]
    },
    {
      "cell_type": "code",
      "source": [
        "# predictions on the test data\n",
        "y_pred = model.predict(padded_sequences_test)\n",
        "# probabilities to class labels\n",
        "y_pred_labels = np.argmax(y_pred, axis=1)"
      ],
      "metadata": {
        "colab": {
          "base_uri": "https://localhost:8080/"
        },
        "id": "UbVgJ505TzFN",
        "outputId": "ed230655-85b4-42e1-f770-35c4773a6797"
      },
      "execution_count": null,
      "outputs": [
        {
          "output_type": "stream",
          "name": "stdout",
          "text": [
            "55/55 [==============================] - 8s 147ms/step\n"
          ]
        }
      ]
    },
    {
      "cell_type": "code",
      "source": [
        "# pd.DataFrame(y_pred_labels).value_counts()"
      ],
      "metadata": {
        "id": "Tv7BRqjPUMDu"
      },
      "execution_count": null,
      "outputs": []
    },
    {
      "cell_type": "code",
      "execution_count": null,
      "metadata": {
        "id": "nmick5IlgEPG"
      },
      "outputs": [],
      "source": [
        "def calculate_precision(model, test_data, true_labels):\n",
        "    \"\"\"\n",
        "    Calculate precision for the given model on the test data.\n",
        "\n",
        "    Args:\n",
        "    model: The trained model.\n",
        "    test_data: The test data (padded sequences).\n",
        "    true_labels: The true labels for the test data.\n",
        "\n",
        "    Returns:\n",
        "    float: The precision score.\n",
        "    \"\"\"\n",
        "    # Make predictions on the test data\n",
        "    y_pred = model.predict(test_data)\n",
        "\n",
        "    # Convert probabilities to class labels\n",
        "    y_pred_labels = np.argmax(y_pred, axis=1)\n",
        "\n",
        "    # Calculate precision\n",
        "    precision = precision_score(true_labels, y_pred_labels, average='micro')\n",
        "\n",
        "    return precision\n"
      ]
    },
    {
      "cell_type": "code",
      "source": [
        "precision = calculate_precision(model, padded_sequences_test, y_test_encoded)\n",
        "print(\"Precision:\", precision)"
      ],
      "metadata": {
        "colab": {
          "base_uri": "https://localhost:8080/"
        },
        "id": "zap9TnD5mOFf",
        "outputId": "127e290b-8af9-432e-d386-71167fece600"
      },
      "execution_count": null,
      "outputs": [
        {
          "output_type": "stream",
          "name": "stdout",
          "text": [
            "55/55 [==============================] - 8s 139ms/step\n",
            "Precision: 0.21095100864553315\n"
          ]
        }
      ]
    },
    {
      "cell_type": "code",
      "execution_count": null,
      "metadata": {
        "id": "37C70N6Aorxh"
      },
      "outputs": [],
      "source": []
    },
    {
      "cell_type": "code",
      "execution_count": null,
      "metadata": {
        "id": "LxBF_HEsorxh"
      },
      "outputs": [],
      "source": []
    },
    {
      "cell_type": "markdown",
      "metadata": {
        "id": "fhVFUaIcorxh"
      },
      "source": [
        "### Enhancement : will used more complex RNN"
      ]
    },
    {
      "cell_type": "markdown",
      "source": [
        "Can we make it work in both directions ?"
      ],
      "metadata": {
        "id": "H8iaj_VFXRgf"
      }
    },
    {
      "cell_type": "code",
      "execution_count": null,
      "metadata": {
        "id": "Y4h1Danvorxh"
      },
      "outputs": [],
      "source": [
        "model_bi = tf.keras.models.Sequential([\n",
        "    tf.keras.layers.Embedding(VOCAB_SIZE, 128),\n",
        "    tf.keras.layers.Bidirectional(tf.keras.layers.SimpleRNN(64, return_sequences=True)),\n",
        "    tf.keras.layers.Bidirectional(tf.keras.layers.SimpleRNN(64)),\n",
        "    tf.keras.layers.Dense(64, activation='relu'),\n",
        "    tf.keras.layers.Dense(16, activation='softmax')\n",
        "])"
      ]
    },
    {
      "cell_type": "code",
      "execution_count": null,
      "metadata": {
        "id": "ZDsCjdqsorxi"
      },
      "outputs": [],
      "source": [
        "model_bi.compile(loss=tf.keras.losses.CategoricalCrossentropy(),\n",
        "              optimizer=tf.keras.optimizers.Adam(),\n",
        "              metrics=['accuracy'])"
      ]
    },
    {
      "cell_type": "code",
      "execution_count": null,
      "metadata": {
        "id": "nfCslLvkgEPH",
        "colab": {
          "base_uri": "https://localhost:8080/"
        },
        "outputId": "dc3d3e5a-890f-4fc0-8976-7f1c266f78f9"
      },
      "outputs": [
        {
          "output_type": "stream",
          "name": "stdout",
          "text": [
            "Epoch 1/5\n",
            "55/55 [==============================] - ETA: 0s - loss: 2.3307 - accuracy: 0.1927"
          ]
        },
        {
          "output_type": "stream",
          "name": "stderr",
          "text": [
            "WARNING:tensorflow:Your input ran out of data; interrupting training. Make sure that your dataset or generator can generate at least `steps_per_epoch * epochs` batches (in this case, 30 batches). You may need to use the repeat() function when building your dataset.\n"
          ]
        },
        {
          "output_type": "stream",
          "name": "stdout",
          "text": [
            "\b\b\b\b\b\b\b\b\b\b\b\b\b\b\b\b\b\b\b\b\b\b\b\b\b\b\b\b\b\b\b\b\b\b\b\b\b\b\b\b\b\b\b\b\b\b\b\b\b\b\b\b\b\b\b\b\b\b\b\b\b\b\b\b\b\b\b\b\b\b\b\b\b\b\b\b\b\b\b\b\b\b\r55/55 [==============================] - 399s 7s/step - loss: 2.3307 - accuracy: 0.1927 - val_loss: 2.2937 - val_accuracy: 0.1689\n",
            "Epoch 2/5\n",
            "55/55 [==============================] - 387s 7s/step - loss: 2.2477 - accuracy: 0.2310\n",
            "Epoch 3/5\n",
            "55/55 [==============================] - 388s 7s/step - loss: 1.9955 - accuracy: 0.3765\n",
            "Epoch 4/5\n",
            "55/55 [==============================] - 394s 7s/step - loss: 1.4019 - accuracy: 0.5733\n",
            "Epoch 5/5\n",
            "55/55 [==============================] - 389s 7s/step - loss: 0.6188 - accuracy: 0.8261\n"
          ]
        }
      ],
      "source": [
        "history = model_bi.fit(padded_sequences, y_train_categorical, epochs=5, batch_size=128,\n",
        "                    validation_data=(padded_sequences_test, y_test_categorical),\n",
        "                    validation_steps=30)"
      ]
    },
    {
      "cell_type": "code",
      "source": [
        "precision = calculate_precision(model_bi, padded_sequences_test, y_test_encoded)\n",
        "print(\"Precision:\", precision)"
      ],
      "metadata": {
        "colab": {
          "base_uri": "https://localhost:8080/"
        },
        "id": "uGn0Ogqvf0pN",
        "outputId": "22759af6-fd9f-47f3-fafd-f88769ef9b8a"
      },
      "execution_count": null,
      "outputs": [
        {
          "output_type": "stream",
          "name": "stdout",
          "text": [
            "55/55 [==============================] - 30s 540ms/step\n",
            "Precision: 0.13659942363112393\n"
          ]
        }
      ]
    },
    {
      "cell_type": "markdown",
      "source": [
        "## Lets try onther one :"
      ],
      "metadata": {
        "id": "4kM_rGlaio2z"
      }
    },
    {
      "cell_type": "markdown",
      "source": [
        "### Implementing GRU"
      ],
      "metadata": {
        "id": "5DXMEPHPjVdU"
      }
    },
    {
      "cell_type": "code",
      "source": [
        "gru_bi = tf.keras.models.Sequential([\n",
        "    tf.keras.layers.Embedding(VOCAB_SIZE, 256),\n",
        "    tf.keras.layers.Bidirectional(tf.keras.layers.GRU(64, return_sequences=True)),\n",
        "    tf.keras.layers.Bidirectional(tf.keras.layers.GRU(64)),\n",
        "    tf.keras.layers.Dense(64, activation='relu'),\n",
        "    tf.keras.layers.Dense(16, activation='softmax')\n",
        "])"
      ],
      "metadata": {
        "id": "kjCZ2AXnjaJ-"
      },
      "execution_count": null,
      "outputs": []
    },
    {
      "cell_type": "code",
      "source": [
        "gru_bi.compile(loss=tf.keras.losses.CategoricalCrossentropy(),\n",
        "              optimizer=tf.keras.optimizers.Adam(),\n",
        "              metrics=['accuracy'])"
      ],
      "metadata": {
        "id": "tolATP6gjHw8"
      },
      "execution_count": null,
      "outputs": []
    },
    {
      "cell_type": "code",
      "source": [
        "history = gru_bi.fit(padded_sequences, y_train_categorical, epochs=10, batch_size=128,\n",
        "                    validation_data=(padded_sequences_test, y_test_categorical),\n",
        "                    validation_steps=30)"
      ],
      "metadata": {
        "colab": {
          "base_uri": "https://localhost:8080/"
        },
        "id": "3eGQd17Qjn4R",
        "outputId": "9be41caf-8cbc-46ab-9567-4ba96eddc0ee"
      },
      "execution_count": null,
      "outputs": [
        {
          "output_type": "stream",
          "name": "stdout",
          "text": [
            "Epoch 1/10\n",
            "55/55 [==============================] - ETA: 0s - loss: 2.3776 - accuracy: 0.1978"
          ]
        },
        {
          "output_type": "stream",
          "name": "stderr",
          "text": [
            "WARNING:tensorflow:Your input ran out of data; interrupting training. Make sure that your dataset or generator can generate at least `steps_per_epoch * epochs` batches (in this case, 30 batches). You may need to use the repeat() function when building your dataset.\n"
          ]
        },
        {
          "output_type": "stream",
          "name": "stdout",
          "text": [
            "\b\b\b\b\b\b\b\b\b\b\b\b\b\b\b\b\b\b\b\b\b\b\b\b\b\b\b\b\b\b\b\b\b\b\b\b\b\b\b\b\b\b\b\b\b\b\b\b\b\b\b\b\b\b\b\b\b\b\b\b\b\b\b\b\b\b\b\b\b\b\b\b\b\b\b\b\b\b\b\b\b\b\r55/55 [==============================] - 30s 422ms/step - loss: 2.3776 - accuracy: 0.1978 - val_loss: 2.2858 - val_accuracy: 0.2110\n",
            "Epoch 2/10\n",
            "55/55 [==============================] - 20s 360ms/step - loss: 2.2475 - accuracy: 0.2216\n",
            "Epoch 3/10\n",
            "55/55 [==============================] - 20s 356ms/step - loss: 2.0404 - accuracy: 0.3043\n",
            "Epoch 4/10\n",
            "55/55 [==============================] - 20s 355ms/step - loss: 1.6685 - accuracy: 0.4465\n",
            "Epoch 5/10\n",
            "55/55 [==============================] - 20s 356ms/step - loss: 1.2650 - accuracy: 0.5849\n",
            "Epoch 6/10\n",
            "55/55 [==============================] - 19s 341ms/step - loss: 0.9241 - accuracy: 0.7082\n",
            "Epoch 7/10\n",
            "55/55 [==============================] - 19s 343ms/step - loss: 0.6588 - accuracy: 0.7937\n",
            "Epoch 8/10\n",
            "55/55 [==============================] - 19s 353ms/step - loss: 0.4472 - accuracy: 0.8604\n",
            "Epoch 9/10\n",
            "55/55 [==============================] - 19s 355ms/step - loss: 0.3226 - accuracy: 0.9000\n",
            "Epoch 10/10\n",
            "55/55 [==============================] - 19s 340ms/step - loss: 0.2546 - accuracy: 0.9218\n"
          ]
        }
      ]
    },
    {
      "cell_type": "code",
      "source": [
        "precision = calculate_precision(gru_bi, padded_sequences_test, y_test_encoded)\n",
        "print(\"Precision:\", precision)"
      ],
      "metadata": {
        "colab": {
          "base_uri": "https://localhost:8080/"
        },
        "id": "lCaBX-CElJpT",
        "outputId": "c5475b8d-889c-4039-ecd9-45a08887026f"
      },
      "execution_count": null,
      "outputs": [
        {
          "output_type": "stream",
          "name": "stdout",
          "text": [
            "55/55 [==============================] - 6s 93ms/step\n",
            "Precision: 0.1723342939481268\n"
          ]
        }
      ]
    },
    {
      "cell_type": "markdown",
      "source": [
        "## Lets try onther one :"
      ],
      "metadata": {
        "id": "Fst5dqeqzv6E"
      }
    },
    {
      "cell_type": "code",
      "source": [
        "from tensorflow.keras.layers import Embedding, Bidirectional, GRU, Dense, Dropout\n",
        "\n",
        "# Define the model\n",
        "gru_bi_complex = tf.keras.models.Sequential([\n",
        "    Embedding(VOCAB_SIZE, 256),\n",
        "    Bidirectional(GRU(128, return_sequences=True)),\n",
        "    Dropout(0.2),\n",
        "    Bidirectional(GRU(128, return_sequences=True)),\n",
        "    Bidirectional(GRU(128)),\n",
        "    Dense(128, activation='relu'),\n",
        "    Dropout(0.5),\n",
        "    Dense(64, activation='relu'),\n",
        "    Dense(16, activation='softmax')\n",
        "])\n",
        "\n",
        "# Compile the model\n",
        "gru_bi_complex.compile(loss='categorical_crossentropy',\n",
        "                       optimizer='adam',\n",
        "                       metrics=['accuracy'])\n",
        "\n"
      ],
      "metadata": {
        "id": "j-UL2uwKoyb5"
      },
      "execution_count": null,
      "outputs": []
    },
    {
      "cell_type": "code",
      "source": [
        "history = gru_bi_complex.fit(padded_sequences, y_train_categorical, epochs=10, batch_size=128,\n",
        "                    validation_data=(padded_sequences_test, y_test_categorical),\n",
        "                    validation_steps=30)"
      ],
      "metadata": {
        "colab": {
          "base_uri": "https://localhost:8080/"
        },
        "id": "lxFdtY_ho5kb",
        "outputId": "efc3c39c-ec10-4a36-ae91-b4ac5191ed19"
      },
      "execution_count": null,
      "outputs": [
        {
          "output_type": "stream",
          "name": "stdout",
          "text": [
            "Epoch 1/10\n",
            "55/55 [==============================] - ETA: 0s - loss: 0.3989 - accuracy: 0.8726"
          ]
        },
        {
          "output_type": "stream",
          "name": "stderr",
          "text": [
            "WARNING:tensorflow:Your input ran out of data; interrupting training. Make sure that your dataset or generator can generate at least `steps_per_epoch * epochs` batches (in this case, 30 batches). You may need to use the repeat() function when building your dataset.\n"
          ]
        },
        {
          "output_type": "stream",
          "name": "stdout",
          "text": [
            "\b\b\b\b\b\b\b\b\b\b\b\b\b\b\b\b\b\b\b\b\b\b\b\b\b\b\b\b\b\b\b\b\b\b\b\b\b\b\b\b\b\b\b\b\b\b\b\b\b\b\b\b\b\b\b\b\b\b\b\b\b\b\b\b\b\b\b\b\b\b\b\b\b\b\b\b\b\b\b\b\b\b\r55/55 [==============================] - 48s 864ms/step - loss: 0.3989 - accuracy: 0.8726 - val_loss: 5.5954 - val_accuracy: 0.1712\n",
            "Epoch 2/10\n",
            "55/55 [==============================] - 43s 778ms/step - loss: 0.3814 - accuracy: 0.8821\n",
            "Epoch 3/10\n",
            "55/55 [==============================] - 43s 777ms/step - loss: 0.2834 - accuracy: 0.9170\n",
            "Epoch 4/10\n",
            "55/55 [==============================] - 43s 784ms/step - loss: 0.2486 - accuracy: 0.9235\n",
            "Epoch 5/10\n",
            "55/55 [==============================] - 43s 789ms/step - loss: 0.2150 - accuracy: 0.9336\n",
            "Epoch 6/10\n",
            "55/55 [==============================] - 43s 781ms/step - loss: 0.1856 - accuracy: 0.9414\n",
            "Epoch 7/10\n",
            "55/55 [==============================] - 43s 775ms/step - loss: 0.1421 - accuracy: 0.9561\n",
            "Epoch 8/10\n",
            "55/55 [==============================] - 43s 782ms/step - loss: 0.1380 - accuracy: 0.9572\n",
            "Epoch 9/10\n",
            "55/55 [==============================] - 43s 778ms/step - loss: 0.1199 - accuracy: 0.9615\n",
            "Epoch 10/10\n",
            "55/55 [==============================] - 43s 780ms/step - loss: 0.1173 - accuracy: 0.9617\n"
          ]
        }
      ]
    },
    {
      "cell_type": "code",
      "source": [
        "precision = calculate_precision(gru_bi_complex, padded_sequences_test, y_test_encoded)\n",
        "print(\"Precision:\", precision)"
      ],
      "metadata": {
        "colab": {
          "base_uri": "https://localhost:8080/"
        },
        "id": "lgbT1J9tq7eb",
        "outputId": "a992eeb9-06ea-4070-cdb0-162b97453055"
      },
      "execution_count": null,
      "outputs": [
        {
          "output_type": "stream",
          "name": "stdout",
          "text": [
            "55/55 [==============================] - 9s 163ms/step\n",
            "Precision: 0.1729106628242075\n"
          ]
        }
      ]
    },
    {
      "cell_type": "markdown",
      "source": [
        "## Lets try onther one :"
      ],
      "metadata": {
        "id": "WuibIsODzylP"
      }
    },
    {
      "cell_type": "code",
      "source": [
        "from tensorflow.keras.layers import Embedding, SimpleRNN, Dense, Dropout\n",
        "\n",
        "# Define the model\n",
        "model_complex = tf.keras.models.Sequential([\n",
        "    Embedding(VOCAB_SIZE, 128),\n",
        "    SimpleRNN(1024, return_sequences=True),\n",
        "    Dropout(0.2),\n",
        "    SimpleRNN(512, return_sequences=True),\n",
        "    Dropout(0.2),\n",
        "    SimpleRNN(256),\n",
        "    Dropout(0.2),\n",
        "    Dense(128, activation='relu'),\n",
        "    Dropout(0.5),\n",
        "    Dense(64, activation='relu'),\n",
        "    Dense(16, activation='softmax')\n",
        "])\n",
        "\n",
        "# Compile the model\n",
        "model_complex.compile(loss='categorical_crossentropy',\n",
        "                      optimizer='adam',\n",
        "                      metrics=['accuracy'])\n"
      ],
      "metadata": {
        "id": "qGF3j5kUtRSU"
      },
      "execution_count": null,
      "outputs": []
    },
    {
      "cell_type": "code",
      "source": [
        "history = model_complex.fit(padded_sequences, y_train_categorical, epochs=10, batch_size=128,\n",
        "                    validation_data=(padded_sequences_test, y_test_categorical),\n",
        "                    validation_steps=30)"
      ],
      "metadata": {
        "colab": {
          "base_uri": "https://localhost:8080/"
        },
        "id": "fwhTWgPttoGW",
        "outputId": "bc851b8b-3b22-454a-d203-bc2890596c4c"
      },
      "execution_count": null,
      "outputs": [
        {
          "output_type": "stream",
          "name": "stdout",
          "text": [
            "Epoch 1/10\n",
            "55/55 [==============================] - ETA: 0s - loss: 2.4375 - accuracy: 0.1781"
          ]
        },
        {
          "output_type": "stream",
          "name": "stderr",
          "text": [
            "WARNING:tensorflow:Your input ran out of data; interrupting training. Make sure that your dataset or generator can generate at least `steps_per_epoch * epochs` batches (in this case, 30 batches). You may need to use the repeat() function when building your dataset.\n"
          ]
        },
        {
          "output_type": "stream",
          "name": "stdout",
          "text": [
            "\b\b\b\b\b\b\b\b\b\b\b\b\b\b\b\b\b\b\b\b\b\b\b\b\b\b\b\b\b\b\b\b\b\b\b\b\b\b\b\b\b\b\b\b\b\b\b\b\b\b\b\b\b\b\b\b\b\b\b\b\b\b\b\b\b\b\b\b\b\b\b\b\b\b\b\b\b\b\b\b\b\b\r55/55 [==============================] - 353s 6s/step - loss: 2.4375 - accuracy: 0.1781 - val_loss: 2.3014 - val_accuracy: 0.2110\n",
            "Epoch 2/10\n",
            "55/55 [==============================] - 337s 6s/step - loss: 2.3418 - accuracy: 0.1849\n",
            "Epoch 3/10\n",
            "55/55 [==============================] - 336s 6s/step - loss: 2.3216 - accuracy: 0.1957\n",
            "Epoch 4/10\n",
            "55/55 [==============================] - 344s 6s/step - loss: 2.3204 - accuracy: 0.1938\n",
            "Epoch 5/10\n",
            "55/55 [==============================] - 344s 6s/step - loss: 2.3159 - accuracy: 0.1986\n",
            "Epoch 6/10\n",
            "55/55 [==============================] - 337s 6s/step - loss: 2.3150 - accuracy: 0.2037\n",
            "Epoch 7/10\n",
            "10/55 [====>.........................] - ETA: 4:32 - loss: 2.3495 - accuracy: 0.1883"
          ]
        }
      ]
    },
    {
      "cell_type": "markdown",
      "metadata": {
        "id": "unvdwHJhgEPH"
      },
      "source": [
        "### Conclusion and final results\n"
      ]
    },
    {
      "cell_type": "code",
      "execution_count": null,
      "metadata": {
        "id": "EfksQyPkgEPH"
      },
      "outputs": [],
      "source": []
    },
    {
      "cell_type": "code",
      "source": [
        "precision = calculate_precision(model_complex, padded_sequences_test, y_test_encoded)\n",
        "print(\"Precision:\", precision)"
      ],
      "metadata": {
        "colab": {
          "base_uri": "https://localhost:8080/"
        },
        "outputId": "127e290b-8af9-432e-d386-71167fece600",
        "id": "CQmmc1Wr2jaO"
      },
      "execution_count": null,
      "outputs": [
        {
          "output_type": "stream",
          "name": "stdout",
          "text": [
            "55/55 [==============================] - 8s 139ms/step\n",
            "Precision: 0.21095100864553315\n"
          ]
        }
      ]
    },
    {
      "cell_type": "code",
      "execution_count": null,
      "metadata": {
        "id": "u-lBCgp22jaO"
      },
      "outputs": [],
      "source": []
    },
    {
      "cell_type": "code",
      "execution_count": null,
      "metadata": {
        "id": "ZHACUCE8gEPM"
      },
      "outputs": [],
      "source": []
    },
    {
      "cell_type": "markdown",
      "metadata": {
        "id": "Nw1GVnYLorxi"
      },
      "source": [
        "#### Done!"
      ]
    }
  ],
  "metadata": {
    "colab": {
      "provenance": [],
      "gpuType": "T4"
    },
    "kernelspec": {
      "display_name": "Python 3",
      "name": "python3"
    },
    "language_info": {
      "codemirror_mode": {
        "name": "ipython",
        "version": 3
      },
      "file_extension": ".py",
      "mimetype": "text/x-python",
      "name": "python",
      "nbconvert_exporter": "python",
      "pygments_lexer": "ipython3",
      "version": "3.11.7"
    },
    "accelerator": "GPU"
  },
  "nbformat": 4,
  "nbformat_minor": 0
}